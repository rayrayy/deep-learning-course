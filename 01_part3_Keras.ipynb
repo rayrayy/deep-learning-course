{
  "nbformat": 4,
  "nbformat_minor": 0,
  "metadata": {
    "colab": {
      "name": "01_part3_Keras.ipynb",
      "provenance": [],
      "collapsed_sections": [],
      "toc_visible": true,
      "include_colab_link": true
    },
    "kernelspec": {
      "name": "python3",
      "display_name": "Python 3.8.6 64-bit",
      "metadata": {
        "interpreter": {
          "hash": "75f25d95b72b61a6dfbb7e97ed620c3e75f60b8a3d670b6fcf733125a77ec20c"
        }
      }
    },
    "accelerator": "GPU"
  },
  "cells": [
    {
      "cell_type": "markdown",
      "metadata": {
        "id": "view-in-github",
        "colab_type": "text"
      },
      "source": [
        "<a href=\"https://colab.research.google.com/github/MatchLab-Imperial/deep-learning-course/blob/master/01_part3_Keras.ipynb\" target=\"_parent\"><img src=\"https://colab.research.google.com/assets/colab-badge.svg\" alt=\"Open In Colab\"/></a>"
      ]
    },
    {
      "cell_type": "markdown",
      "metadata": {
        "id": "bb1Zl0tVSKCN"
      },
      "source": [
        "# **Starting with Keras**\n",
        "\n",
        "Keras is a high-level Deep Learning API  written in Python and capable of running on top of TensorFlow, CNTK, or Theano. It was developed with a focus on enabling fast experimentation. In other words, Keras is especially good for beginners, it is modular, minimalist, and it makes everything easy to get a neural network up and running in no time. \n",
        "\n",
        "The following code is based on [this tutorial](https://elitedatascience.com/keras-tutorial-deep-learning-in-python), and it is just a brief introduction to Keras. You can refer to [Keras documentation](https://keras.io/) to learn more details in the future about it."
      ]
    },
    {
      "cell_type": "markdown",
      "metadata": {
        "id": "rF1rW5C1dS4R"
      },
      "source": [
        "## Importing Libraries and Modules\n",
        "\n",
        "Google Colab already has everything you need installed. We highly recommend to use Colab for these tutorials, however, if you want to use your own environment, you will need to set up a Python ecosystem and install Keras on it. \n",
        "\n",
        "You can find multiple guides that will help you with the task of installing Keras on your machine. Here are some examples for [Windows](http://inmachineswetrust.com/posts/deep-learning-setup/) or [Ubuntu](https://medium.com/@naomi.fridman/install-conda-tensorflow-gpu-and-keras-on-ubuntu-18-04-1b403e740e25)."
      ]
    },
    {
      "cell_type": "markdown",
      "metadata": {
        "id": "Wzb418Yih5SN"
      },
      "source": [
        "Let's start with an easy example. First of all, we will import NumPy and define the seed for the pseudorandom number generator. Specifying the seed is a common practice because different initializations might lead to varying results. "
      ]
    },
    {
      "cell_type": "code",
      "metadata": {
        "id": "VTilKf6uRhML"
      },
      "source": [
        "import numpy as np\n",
        "np.random.seed(1234)  # for reproducibility"
      ],
      "execution_count": 4,
      "outputs": []
    },
    {
      "cell_type": "markdown",
      "metadata": {
        "id": "ob8EYZ89h96k"
      },
      "source": [
        "Now we are ready to import some of the Keras' modules.\n",
        "\n",
        "First, we will import the `Sequential` module from Keras. A `Sequential` module is a stack of neural network layers. We will need it for creating our first feed-forward neural network."
      ]
    },
    {
      "cell_type": "code",
      "metadata": {
        "id": "tE570PePip7f"
      },
      "source": [
        "from keras.models import Sequential"
      ],
      "execution_count": 6,
      "outputs": []
    },
    {
      "cell_type": "markdown",
      "metadata": {
        "id": "IC1aRifsj4Eu"
      },
      "source": [
        "As mentioned before, Keras is a wrapper that allows us to use either Theano or TensorFlow as a backend. It is easy to switch between them if required. However, newer versions of Keras will focus on the TensorFlow backend, dropping support for the rest of the backends. Thus, in this tutorial, we will use the TensorFlow backend. Similar to the NumPy pseudorandom number generator, we also fix Keras' pseudorandom number generator for reproducibility."
      ]
    },
    {
      "cell_type": "code",
      "metadata": {
        "id": "81_cpwH9UhRn"
      },
      "source": [
        "import tensorflow as tf\n",
        "tf.random.set_seed(123)"
      ],
      "execution_count": 8,
      "outputs": []
    },
    {
      "cell_type": "markdown",
      "metadata": {
        "id": "8zCje2VIWFIV"
      },
      "source": [
        "Next, we import two of the core layers used to build a network on Keras: [`Dense`](https://keras.io/layers/core/#dense) and [`Activation`](https://keras.io/layers/core/#activation). In short, the `Dense` defines a fully-connected network where all the neurons are connected to all of the elements of the input data, and the `Activation` defines a non-linear function applied to the network. We will explain more about those layers in the following tutorials."
      ]
    },
    {
      "cell_type": "code",
      "metadata": {
        "id": "Ua1JaDKTj5XO"
      },
      "source": [
        "from keras.layers import Dense, Activation"
      ],
      "execution_count": 10,
      "outputs": []
    },
    {
      "cell_type": "markdown",
      "metadata": {
        "id": "Vbm3UwLeKdDv"
      },
      "source": [
        "In addition, we need to import some utils, that will help us later with the visualisation and transformation of the dataset."
      ]
    },
    {
      "cell_type": "code",
      "metadata": {
        "id": "yUVkzIz3KtXt"
      },
      "source": [
        "from keras.utils import np_utils\n",
        "import matplotlib.pyplot as plt"
      ],
      "execution_count": 12,
      "outputs": []
    },
    {
      "cell_type": "markdown",
      "metadata": {
        "id": "ZBQn3bnIkpOE"
      },
      "source": [
        "## Loading Datasets from Keras\n",
        "\n",
        "Besides the modules to build our neural networks, Keras library also contains a set of [standard datasets](https://keras.io/datasets/). The fact that those datasets are inside Keras is handy and can save us a lot of time when learning how to create our first neural network. \n",
        "\n",
        "Therefore, let's import the [MNIST](https://en.wikipedia.org/wiki/MNIST_database) dataset. MNIST is a popular dataset on the computer vision community that contains a large number of binary images of handwritten digits. Once loaded, Keras allows us to easily split the dataset into the commonly used train and test data splits."
      ]
    },
    {
      "cell_type": "code",
      "metadata": {
        "id": "92F5A9XEIiVQ",
        "colab": {
          "base_uri": "https://localhost:8080/"
        },
        "outputId": "fc9dfb17-bbd0-4b17-e22d-d3fd7cd6a13e"
      },
      "source": [
        "from keras.datasets import mnist\n",
        "\n",
        "# the data, shuffled and split between train and test sets\n",
        "(X_train, y_train), (X_test, y_test) = mnist.load_data()"
      ],
      "execution_count": 14,
      "outputs": []
    },
    {
      "cell_type": "markdown",
      "metadata": {
        "id": "nuHAmcCaImS8"
      },
      "source": [
        "Automatically, Keras has provided us with the `X_train` and `X_test` images for training and testing, respectively. Moreover, Keras also stores into `y_train` and `y_test` the corresponding numeric labels associated with `X_train` and `X_test`.\n",
        "\n",
        "We can now look into the shape of the imported data and visualise some examples:"
      ]
    },
    {
      "cell_type": "code",
      "metadata": {
        "id": "l5o9qsfjJdNv",
        "colab": {
          "base_uri": "https://localhost:8080/",
          "height": 319
        },
        "outputId": "cfd66970-3bee-4afd-ffe6-130288c5efae"
      },
      "source": [
        "print('Image shape: {0}'.format(X_train.shape[1:]))\n",
        "print('Total number of training samples: {0}'.format(X_train.shape[0]))\n",
        "print('Total number of test samples: {0}'.format(X_test.shape[0]))\n",
        "\n",
        "N=5\n",
        "start_val = 0 # pick an element for the code to plot the following N**2 values\n",
        "fig, axes = plt.subplots(N,N)\n",
        "items = list(range(0, 10))\n",
        "for row in range(N):\n",
        "  for col in range(N):\n",
        "    idx = start_val+row+N*col\n",
        "    axes[row,col].imshow(X_train[idx], cmap='gray')\n",
        "    fig.subplots_adjust(hspace=0.5)\n",
        "    y_target = int(y_train[idx])\n",
        "    target = str(items[y_target])\n",
        "    axes[row,col].set_title(target)\n",
        "    axes[row,col].set_xticks([])\n",
        "    axes[row,col].set_yticks([])"
      ],
      "execution_count": 16,
      "outputs": [
        {
          "output_type": "stream",
          "name": "stdout",
          "text": [
            "Image shape: (28, 28)\nTotal number of training samples: 60000\nTotal number of test samples: 10000\n"
          ]
        },
        {
          "output_type": "display_data",
          "data": {
            "text/plain": "<Figure size 432x288 with 25 Axes>",
            "image/svg+xml": "<?xml version=\"1.0\" encoding=\"utf-8\" standalone=\"no\"?>\r\n<!DOCTYPE svg PUBLIC \"-//W3C//DTD SVG 1.1//EN\"\r\n  \"http://www.w3.org/Graphics/SVG/1.1/DTD/svg11.dtd\">\r\n<!-- Created with matplotlib (https://matplotlib.org/) -->\r\n<svg height=\"250.458125pt\" version=\"1.1\" viewBox=\"0 0 326.038719 250.458125\" width=\"326.038719pt\" xmlns=\"http://www.w3.org/2000/svg\" xmlns:xlink=\"http://www.w3.org/1999/xlink\">\r\n <metadata>\r\n  <rdf:RDF xmlns:cc=\"http://creativecommons.org/ns#\" xmlns:dc=\"http://purl.org/dc/elements/1.1/\" xmlns:rdf=\"http://www.w3.org/1999/02/22-rdf-syntax-ns#\">\r\n   <cc:Work>\r\n    <dc:type rdf:resource=\"http://purl.org/dc/dcmitype/StillImage\"/>\r\n    <dc:date>2021-01-29T17:06:01.540149</dc:date>\r\n    <dc:format>image/svg+xml</dc:format>\r\n    <dc:creator>\r\n     <cc:Agent>\r\n      <dc:title>Matplotlib v3.3.2, https://matplotlib.org/</dc:title>\r\n     </cc:Agent>\r\n    </dc:creator>\r\n   </cc:Work>\r\n  </rdf:RDF>\r\n </metadata>\r\n <defs>\r\n  <style type=\"text/css\">*{stroke-linecap:butt;stroke-linejoin:round;}</style>\r\n </defs>\r\n <g id=\"figure_1\">\r\n  <g id=\"patch_1\">\r\n   <path d=\"M 0 250.458125 \r\nL 326.038719 250.458125 \r\nL 326.038719 0 \r\nL 0 0 \r\nz\r\n\" style=\"fill:none;\"/>\r\n  </g>\r\n  <g id=\"axes_1\">\r\n   <g id=\"patch_2\">\r\n    <path d=\"M 10.7 53.380982 \r\nL 41.762857 53.380982 \r\nL 41.762857 22.318125 \r\nL 10.7 22.318125 \r\nz\r\n\" style=\"fill:#ffffff;\"/>\r\n   </g>\r\n   <g clip-path=\"url(#pea77e7b404)\">\r\n    <image height=\"32\" id=\"image1883641c85\" transform=\"scale(1 -1)translate(0 -32)\" width=\"32\" x=\"10.7\" xlink:href=\"data:image/png;base64,\r\niVBORw0KGgoAAAANSUhEUgAAACAAAAAgCAYAAABzenr0AAAEBElEQVR4nO2XTUtqXRTH/0ePHjwQaEeLqCQRlds7QSEUZpPIhGpQ475Akz5HjYIiQuoDBE3EGvQCQZAhTUqJTAiVMCusfBfPcT2jvLe6PL7cLj2DZ8Ga7LP22r+91tpr78MAIHyjyL5z8f8EAPtxoKOjA3a7HUNDQ+WxeDyOYDCIbDaLaDSKQCCAQqHwdwB4nofRaITD4YBWqwXP83h4eMD19TUymQzC4TC8Xi8uLi7g9/shiuIfATD4UIQajQZ9fX1wOp3o6urC4OAgeJ4Hx3FgGAalUgn39/dwu91wuVy4vb1FMpmEJEl1Q9DvlGEYamxsJJfLRV6vl2KxGGWzWRJFkSRJokKhQKenpzQ/P096vZ54nieZTPZbXxW0spFOpyOr1UobGxsUjUZJkqR36vP5aGFhgYxGYz0Q1Rur1Wqy2Wy0vLxM4XD4HYQoihQKhWh1dZWGh4f/DgDDMKRQKEir1ZLdbqfNzU2KxWLltBSLRUqlUhQKhWh9fb06n28UtYhMJoNKpUJzczMGBwcxNjYGs9mMzs5O6HQ6pNNpnJ6ewuFwgKiy+3oKp6yNjY00MDBA4+Pj5PF4SBRFKhQKdHV1RWazueL8T32gVkkkEkilUmhpacHr6ysAoFQqVd2o/hhApVLBYrFgdHQUJpMJuVwOkUgE+/v7CAaDVfmoO/wcx9HIyAh5PB56eXmhXC5HZ2dntLi4SE1NTV9/Cj4uPjs7S8/PzySKIomiSNvb2zQzM0OCIFR/st4oahGO49DT04ODgwMkk0mcnJzg8vISbrcbgUCgqsr/VWraOcuy1N/fT3t7e1QsFmlubo4EQSCe50kul9cTzdomdHd309LSEj09PZHP5yNBEIhhmLrrqOoHiVKphFwuh1qthsFgAMdx2N3dRSKRqDnkv0pVx7C9vR0GgwH5fB7d3d0wGo0AAIVCAZZlUSwW0dDQAL1ej0KhgFAo9HUAcrkcExMTsNlsyOVy6OjoQG9vLyRJwszMDHZ2dpBOp2EymWCz2XBzc1MTAFAhR1qtls7PzymbzX66ht+u4sPDQ3p8fKRMJkMrKyvEcRwplUpSKpXEsuy/FmfFCLS1tUGtVkMmk5VzzTBM+fvAwMDPnRDhx48fmJ2dRT6fBwDEYjEkEgmEw2HkcrlP/qvqA+3t7eA4DiaTCX19fbBYLBAEAU6n85NtOp1GJBLB7e0tJicnkclk4Pf7sba2hqOjI8RisXf2VRXh3d0dGIZBJBLB8fExWJaFQqGAIAhlm6mpKbS2tkKj0SCVSmFrawuSJGF6ehq9vb2wWq0IBAKfAOrqhGV69ie/IAjgOA4sy5Yfrnq9HlqtFqVSCQ8PD4jH48hkMl8H8BXy7X9G/wN8O8A/8pHtMRwJ36wAAAAASUVORK5CYII=\" y=\"-21.380982\"/>\r\n   </g>\r\n   <g id=\"matplotlib.axis_1\"/>\r\n   <g id=\"matplotlib.axis_2\"/>\r\n   <g id=\"patch_3\">\r\n    <path d=\"M 10.7 53.380982 \r\nL 10.7 22.318125 \r\n\" style=\"fill:none;stroke:#000000;stroke-linecap:square;stroke-linejoin:miter;stroke-width:0.8;\"/>\r\n   </g>\r\n   <g id=\"patch_4\">\r\n    <path d=\"M 41.762857 53.380982 \r\nL 41.762857 22.318125 \r\n\" style=\"fill:none;stroke:#000000;stroke-linecap:square;stroke-linejoin:miter;stroke-width:0.8;\"/>\r\n   </g>\r\n   <g id=\"patch_5\">\r\n    <path d=\"M 10.7 53.380982 \r\nL 41.762857 53.380982 \r\n\" style=\"fill:none;stroke:#000000;stroke-linecap:square;stroke-linejoin:miter;stroke-width:0.8;\"/>\r\n   </g>\r\n   <g id=\"patch_6\">\r\n    <path d=\"M 10.7 22.318125 \r\nL 41.762857 22.318125 \r\n\" style=\"fill:none;stroke:#000000;stroke-linecap:square;stroke-linejoin:miter;stroke-width:0.8;\"/>\r\n   </g>\r\n   <g id=\"text_1\">\r\n    <!-- 5 -->\r\n    <g transform=\"translate(22.413929 16.318125)scale(0.12 -0.12)\">\r\n     <defs>\r\n      <path d=\"M 10.796875 72.90625 \r\nL 49.515625 72.90625 \r\nL 49.515625 64.59375 \r\nL 19.828125 64.59375 \r\nL 19.828125 46.734375 \r\nQ 21.96875 47.46875 24.109375 47.828125 \r\nQ 26.265625 48.1875 28.421875 48.1875 \r\nQ 40.625 48.1875 47.75 41.5 \r\nQ 54.890625 34.8125 54.890625 23.390625 \r\nQ 54.890625 11.625 47.5625 5.09375 \r\nQ 40.234375 -1.421875 26.90625 -1.421875 \r\nQ 22.3125 -1.421875 17.546875 -0.640625 \r\nQ 12.796875 0.140625 7.71875 1.703125 \r\nL 7.71875 11.625 \r\nQ 12.109375 9.234375 16.796875 8.0625 \r\nQ 21.484375 6.890625 26.703125 6.890625 \r\nQ 35.15625 6.890625 40.078125 11.328125 \r\nQ 45.015625 15.765625 45.015625 23.390625 \r\nQ 45.015625 31 40.078125 35.4375 \r\nQ 35.15625 39.890625 26.703125 39.890625 \r\nQ 22.75 39.890625 18.8125 39.015625 \r\nQ 14.890625 38.140625 10.796875 36.28125 \r\nz\r\n\" id=\"DejaVuSans-53\"/>\r\n     </defs>\r\n     <use xlink:href=\"#DejaVuSans-53\"/>\r\n    </g>\r\n   </g>\r\n  </g>\r\n  <g id=\"axes_2\">\r\n   <g id=\"patch_7\">\r\n    <path d=\"M 79.968966 53.380982 \r\nL 111.031823 53.380982 \r\nL 111.031823 22.318125 \r\nL 79.968966 22.318125 \r\nz\r\n\" style=\"fill:#ffffff;\"/>\r\n   </g>\r\n   <g clip-path=\"url(#pcccf563bbe)\">\r\n    <image height=\"32\" id=\"image6fca84c42d\" transform=\"scale(1 -1)translate(0 -32)\" width=\"32\" x=\"79.968966\" xlink:href=\"data:image/png;base64,\r\niVBORw0KGgoAAAANSUhEUgAAACAAAAAgCAYAAABzenr0AAAEVElEQVR4nO2XS0gbexjFT5NJyEMwEI1okKZGWkXQgEFFUSwVVwq24FIXLVkUQbroxoXEVVd1001pQV0Igi6UuPCxKFSkLbYiVsESqBiMj6TETMwYTZyZnLu4KNdre42txbvoB2czj/P9Zub7n5m5AYC4xtJcZ/M/AP8LAOGHOwQBFosFZrMZsixDFEWkUimk0+nfD6DX61FYWIjm5mZUVFRgb28P09PTCAQCkCQJyWQSsixfGQz/rYqKCq6urlJRlDNaXl7m69ev+ejRIzqdTgqCcO7cn9D5jW63m+FwmIqi8PDwkJ8/f+ba2hqj0ShlWaYsyxRFkT09PdRqtVcPUFBQwL6+PiqKQkmS2N3dTZfLxXv37rG3t5dzc3NMJBKMxWJ8+vQpHQ4HdTrddxu0tbVxcHCQw8PDbG9vZ05OzsUAOp2Ot2/f5vDwMFOpFFdWVvjkyRO63W46HA5WVlby8ePHXF1dZSAQ4OTkJFtbW2m1WikIAnNzc9nQ0ECv18ulpSV++/aNkUiEnz59YldX15le3x1CWZYRCATw6tUrWK1W1NfXo6OjA7du3cLU1BTevXuHcDiMw8NDeL1e1NXVwWg0ori4GKFQCE6nE7W1tSgqKkIymcTo6CgkScLR0RG+fv16ptcPl+Hx8TE+fPiAgYEBpFIpNDQ0IDc3FxqNBpFIBMFgEOPj4ygqKsLDhw9RV1cHq9UKURRht9tx8+ZNzM/PY3p6Gm/evMH+/j7S6TQODg7O9frPIREEgTU1NfT5fAyFQlxeXubz58/Z2dlJl8vFyspKfvz4kYlEgoqiUJZlxuNxrqyssKmpiXq9/vJD+D2IkpISvnjxguvr69zb22M0GuXOzg59Pt/p6lBVlZIkcXFxkR6P54eDeWmAE+n1etrtdt6/f58zMzOn+ZBOp6mq6inA7OwsHQ5HRp43TiguW2azGR6PB0ajERrN368Ul8sFt9sNi8WCubk5PHjwIKO0/OkQMRqNNJlMp/J4PHz//j1lWebOzg6rqqoufryZXnF2djbcbjdMJhP8fj/C4TD29/fPHLOxsYGtrS1UVVVBr9dDp9Nd6JsxQGtrK1paWmCz2bC7u4tgMAi/3w+fzwdRFEESsVgMsVgsU8vLAeTl5aGsrAylpaVQFAXRaBSbm5swGAwYGxuDKIqIxWLn7sqVASwsLKC6uhp2ux1ZWVmw2Wyw2WzIz89HKBTC/Pw8EokE4vH4pQAy/iJaWlrCxMQE3r59i3A4jFQqBQCw2+3o7+9HY2Mj8vLyYDAYAADpdBqqqmbkfanJt1gsvHv3LoeGhihJEhVFoaqq3N3dpd/vZzAYZDKZ5JcvX3jnzp2rDaJ/ShAEFhcX8+XLl1xcXDyFURSF29vbfPbs2e8NIgDQarUwmUzIzs5GVlYWysvL4XQ6EY/HMTIyAlEUL/T4JYCT0mg00Gq1MJvNMBgMUFUVkUgE5MXWVwLwK3Xt/wV/AK4d4C/MuCSkm73e5AAAAABJRU5ErkJggg==\" y=\"-21.380982\"/>\r\n   </g>\r\n   <g id=\"matplotlib.axis_3\"/>\r\n   <g id=\"matplotlib.axis_4\"/>\r\n   <g id=\"patch_8\">\r\n    <path d=\"M 79.968966 53.380982 \r\nL 79.968966 22.318125 \r\n\" style=\"fill:none;stroke:#000000;stroke-linecap:square;stroke-linejoin:miter;stroke-width:0.8;\"/>\r\n   </g>\r\n   <g id=\"patch_9\">\r\n    <path d=\"M 111.031823 53.380982 \r\nL 111.031823 22.318125 \r\n\" style=\"fill:none;stroke:#000000;stroke-linecap:square;stroke-linejoin:miter;stroke-width:0.8;\"/>\r\n   </g>\r\n   <g id=\"patch_10\">\r\n    <path d=\"M 79.968966 53.380982 \r\nL 111.031823 53.380982 \r\n\" style=\"fill:none;stroke:#000000;stroke-linecap:square;stroke-linejoin:miter;stroke-width:0.8;\"/>\r\n   </g>\r\n   <g id=\"patch_11\">\r\n    <path d=\"M 79.968966 22.318125 \r\nL 111.031823 22.318125 \r\n\" style=\"fill:none;stroke:#000000;stroke-linecap:square;stroke-linejoin:miter;stroke-width:0.8;\"/>\r\n   </g>\r\n   <g id=\"text_2\">\r\n    <!-- 2 -->\r\n    <g transform=\"translate(91.682894 16.318125)scale(0.12 -0.12)\">\r\n     <defs>\r\n      <path d=\"M 19.1875 8.296875 \r\nL 53.609375 8.296875 \r\nL 53.609375 0 \r\nL 7.328125 0 \r\nL 7.328125 8.296875 \r\nQ 12.9375 14.109375 22.625 23.890625 \r\nQ 32.328125 33.6875 34.8125 36.53125 \r\nQ 39.546875 41.84375 41.421875 45.53125 \r\nQ 43.3125 49.21875 43.3125 52.78125 \r\nQ 43.3125 58.59375 39.234375 62.25 \r\nQ 35.15625 65.921875 28.609375 65.921875 \r\nQ 23.96875 65.921875 18.8125 64.3125 \r\nQ 13.671875 62.703125 7.8125 59.421875 \r\nL 7.8125 69.390625 \r\nQ 13.765625 71.78125 18.9375 73 \r\nQ 24.125 74.21875 28.421875 74.21875 \r\nQ 39.75 74.21875 46.484375 68.546875 \r\nQ 53.21875 62.890625 53.21875 53.421875 \r\nQ 53.21875 48.921875 51.53125 44.890625 \r\nQ 49.859375 40.875 45.40625 35.40625 \r\nQ 44.1875 33.984375 37.640625 27.21875 \r\nQ 31.109375 20.453125 19.1875 8.296875 \r\nz\r\n\" id=\"DejaVuSans-50\"/>\r\n     </defs>\r\n     <use xlink:href=\"#DejaVuSans-50\"/>\r\n    </g>\r\n   </g>\r\n  </g>\r\n  <g id=\"axes_3\">\r\n   <g id=\"patch_12\">\r\n    <path d=\"M 149.237931 53.380982 \r\nL 180.300788 53.380982 \r\nL 180.300788 22.318125 \r\nL 149.237931 22.318125 \r\nz\r\n\" style=\"fill:#ffffff;\"/>\r\n   </g>\r\n   <g clip-path=\"url(#p958c6a6bc9)\">\r\n    <image height=\"32\" id=\"imagec5391d283c\" transform=\"scale(1 -1)translate(0 -32)\" width=\"32\" x=\"149.237931\" xlink:href=\"data:image/png;base64,\r\niVBORw0KGgoAAAANSUhEUgAAACAAAAAgCAYAAABzenr0AAADb0lEQVR4nO2Xz0sqaxjHv+NMKoaWSVpiPzAso40EmdSiWhVEiwgXgtAvCIo2QYv+hzZtahXtalMbVxEtQqidURBFRGhom8aUiBRMZ753cTjd2712GTsd2pwHntX7vN/5zDPP+30ZAQDxjaH7zof/AQAASUuRTqeD2+2GyWSC0WiEzWaDy+UCALy+vuLw8BCyLKNUKn09QHNzM1RVRTAYhNPpRG1tLdrb2+H3+wEALy8vWF5ext7eHjKZTMUAwI9TUDb1ej3X1ta4srLCZDJJVVVZLBZZLBb5z3h6euLQ0BANBsOHWv+T5ReqqqrY39/Pk5MTFotFqqpKWZYZi8UYjUb5/PxMVVXfIBKJBMPh8Gcgyi9YLBZub29TVVXe3t5yenqaPp+PDoeDZrOZgUCA4XCYZ2dnLJVKJMmDgwMGg0Hq9fpfB9DpdGxtbeX+/j4XFxfpdDopSRIFQaAgCJQkiUajkV6vl8lkkoqisFAocGtriw0NDb8OAICSJNHr9dJut1OSpA8/1fr6OtPpNEny6OiIo6OjXwOgNQOBAC8vL99mYXV1lTU1NZr2fokRxWIxnJ6eIpPJwGq1oq2tDdXV1Zr2ajKif4coijCbzRBFEcAPo7q5uUFPTw/sdjsKhYJmU6oYQBRFOBwODAwMwGKxvAGEQiG0tbUhlUohHo9DluXfA9DV1YWpqSksLCzAYDCUrVFVVbNeRQA+nw+zs7OYm5uDXq8vW5PP55HNZjVrVjSEsizj7u4ODw8PUBSlbM3V1RUikYhmzYo6kE6nsbOzg/PzcwwODsLtdiMUCkEQhLea+vp6dHR0IB6Pa9at+Nz/dMCRkRGmUikqivJ2J1xcXHBpaUmz1qd8gCRIorGx8T9ruVwOj4+PmrU+5QN1dXUYHx/HzMwMbDYbdLq/3yORSCAajWrWqrgDoiiiqakJk5OT8Hg8SCQS7wZSEIR3QF8O4PV6MTExgZaWFgCA2Wx+N4SdnZ0YGxurSFPzwJhMJs7PzzOTybBc5PN57u7usre39/fchn19fdzc3GQulysLsLGxwe7u7g+v7nIp/KTQEhaLBW63G36/H36/H8PDw7i+vkY8HoeiKIhEIjg+PkYul9Pc/ooAAMBgMMBqtcLlcsHj8SCdTiObzUJVVdzf3yOTyYDULlkxwFfHt/8Z/QH4CzCff7Zw3lU0AAAAAElFTkSuQmCC\" y=\"-21.380982\"/>\r\n   </g>\r\n   <g id=\"matplotlib.axis_5\"/>\r\n   <g id=\"matplotlib.axis_6\"/>\r\n   <g id=\"patch_13\">\r\n    <path d=\"M 149.237931 53.380982 \r\nL 149.237931 22.318125 \r\n\" style=\"fill:none;stroke:#000000;stroke-linecap:square;stroke-linejoin:miter;stroke-width:0.8;\"/>\r\n   </g>\r\n   <g id=\"patch_14\">\r\n    <path d=\"M 180.300788 53.380982 \r\nL 180.300788 22.318125 \r\n\" style=\"fill:none;stroke:#000000;stroke-linecap:square;stroke-linejoin:miter;stroke-width:0.8;\"/>\r\n   </g>\r\n   <g id=\"patch_15\">\r\n    <path d=\"M 149.237931 53.380982 \r\nL 180.300788 53.380982 \r\n\" style=\"fill:none;stroke:#000000;stroke-linecap:square;stroke-linejoin:miter;stroke-width:0.8;\"/>\r\n   </g>\r\n   <g id=\"patch_16\">\r\n    <path d=\"M 149.237931 22.318125 \r\nL 180.300788 22.318125 \r\n\" style=\"fill:none;stroke:#000000;stroke-linecap:square;stroke-linejoin:miter;stroke-width:0.8;\"/>\r\n   </g>\r\n   <g id=\"text_3\">\r\n    <!-- 3 -->\r\n    <g transform=\"translate(160.95186 16.318125)scale(0.12 -0.12)\">\r\n     <defs>\r\n      <path d=\"M 40.578125 39.3125 \r\nQ 47.65625 37.796875 51.625 33 \r\nQ 55.609375 28.21875 55.609375 21.1875 \r\nQ 55.609375 10.40625 48.1875 4.484375 \r\nQ 40.765625 -1.421875 27.09375 -1.421875 \r\nQ 22.515625 -1.421875 17.65625 -0.515625 \r\nQ 12.796875 0.390625 7.625 2.203125 \r\nL 7.625 11.71875 \r\nQ 11.71875 9.328125 16.59375 8.109375 \r\nQ 21.484375 6.890625 26.8125 6.890625 \r\nQ 36.078125 6.890625 40.9375 10.546875 \r\nQ 45.796875 14.203125 45.796875 21.1875 \r\nQ 45.796875 27.640625 41.28125 31.265625 \r\nQ 36.765625 34.90625 28.71875 34.90625 \r\nL 20.21875 34.90625 \r\nL 20.21875 43.015625 \r\nL 29.109375 43.015625 \r\nQ 36.375 43.015625 40.234375 45.921875 \r\nQ 44.09375 48.828125 44.09375 54.296875 \r\nQ 44.09375 59.90625 40.109375 62.90625 \r\nQ 36.140625 65.921875 28.71875 65.921875 \r\nQ 24.65625 65.921875 20.015625 65.03125 \r\nQ 15.375 64.15625 9.8125 62.3125 \r\nL 9.8125 71.09375 \r\nQ 15.4375 72.65625 20.34375 73.4375 \r\nQ 25.25 74.21875 29.59375 74.21875 \r\nQ 40.828125 74.21875 47.359375 69.109375 \r\nQ 53.90625 64.015625 53.90625 55.328125 \r\nQ 53.90625 49.265625 50.4375 45.09375 \r\nQ 46.96875 40.921875 40.578125 39.3125 \r\nz\r\n\" id=\"DejaVuSans-51\"/>\r\n     </defs>\r\n     <use xlink:href=\"#DejaVuSans-51\"/>\r\n    </g>\r\n   </g>\r\n  </g>\r\n  <g id=\"axes_4\">\r\n   <g id=\"patch_17\">\r\n    <path d=\"M 218.506897 53.380982 \r\nL 249.569754 53.380982 \r\nL 249.569754 22.318125 \r\nL 218.506897 22.318125 \r\nz\r\n\" style=\"fill:#ffffff;\"/>\r\n   </g>\r\n   <g clip-path=\"url(#p9e5c5396f7)\">\r\n    <image height=\"32\" id=\"imagecca9f5b1cd\" transform=\"scale(1 -1)translate(0 -32)\" width=\"32\" x=\"218.506897\" xlink:href=\"data:image/png;base64,\r\niVBORw0KGgoAAAANSUhEUgAAACAAAAAgCAYAAABzenr0AAADnUlEQVR4nO2WzUsyaxjGr0lnMsl5nVKTkjZFxiQmlKSUSJsWIlFECzetogiiCKJttIjWresPaFVtjFoEYgQS6cYig8BCJLQUjSQ/u8/iUHDerGOfBw7vBTcMzHU/z4/7mplnGACE/1BVlZgsFgu8Xi9WVlYgiuKXAkgrMfX09KC5uRkqlQqZTAaJRAKxWOxLACqawMXFBU5PT6FQKGCz2WC326FWq38O4Pj4GKFQCPl8HqIowul0Qq/X/xxALBZDOBxGNBqFQqGA3W5Hb28vOI77EgiqpHQ6HU1MTND+/j5lMhk6Ojoig8FQUe+/VOVmrVZLi4uLVCwWKZfL0dnZGVVVVX0KoKIInpRKpRAIBODxeCCRSNDa2orp6WnI5fL3LPNC7yKWy+VkMBieJ5FOp2l9fZ06OjqIZdnvjeCpZDIZiaJIPp+PSqUSxeNxWlhYoJaWlu+N4EnZbBbRaBTBYBAMw6C+vh4ulwsWiwU8z79rrQ8BPEHs7u6C6O+jxGg0wmQyQaPR/AxALpfD1tYWQqEQCoUCiAiiKKK7uxuCILxrrVfz4TiOlEol/fr1i6RSaVnPwMAAXV5eUi6Xo3w+T16vl1wuFzEM87mHsLq6mkZHR8nv95PH46G+vj6Sy+VlvTMzMxQOh6lYLNLNzQ1tbGxQQ0PD5wCUSiXt7e1RoVCgYrFIfr+f5ufnSa/Xl/U6nU7a2dmhTCZDyWSS3G439ff3f24Cw8PDdHd3R8VikbLZLF1eXtLq6iq1t7f/w8swDHEcR3NzcxQMBqlQKFAikaDl5eVKoih/g2EYEgSBDg8PKZvNPkNEIhHa3t6moaGhFyBjY2N0cHDw7PX5fCQIwpsQr74FRIRUKoXNzU3E43GUSiVIpVJotVrYbDbMzs5iaWkJWq0WtbW1UKlUuL6+RigUwv39PSQSCdra2jA+Pg6ZTPbaNm//ERER3G431Go1HA4HmpqawLIsOI6D1WqFRCLByckJrq6uoNFoIAgCtFotiAgMw4DneYyMjGBtbQ0PDw9l92CecnhLdXV1mJychNFohFwuB8dxUKvVEAQBPM/j9vYWOp0ONTU1L3ojkQi6urqQTCY/DvC7FAoFOjs7odfrYbVaMTg4CJlMBoZhwLIsWJYFEaFQKCAQCMDhcCCdTn8dwO+ampoCz/NobGyE2WyG2WxGqVTC+fk5TCbT8+f62wAYhil7DQCPj49v934FwGf04cPoD8AfgP8NwF+ARmystnRNxwAAAABJRU5ErkJggg==\" y=\"-21.380982\"/>\r\n   </g>\r\n   <g id=\"matplotlib.axis_7\"/>\r\n   <g id=\"matplotlib.axis_8\"/>\r\n   <g id=\"patch_18\">\r\n    <path d=\"M 218.506897 53.380982 \r\nL 218.506897 22.318125 \r\n\" style=\"fill:none;stroke:#000000;stroke-linecap:square;stroke-linejoin:miter;stroke-width:0.8;\"/>\r\n   </g>\r\n   <g id=\"patch_19\">\r\n    <path d=\"M 249.569754 53.380982 \r\nL 249.569754 22.318125 \r\n\" style=\"fill:none;stroke:#000000;stroke-linecap:square;stroke-linejoin:miter;stroke-width:0.8;\"/>\r\n   </g>\r\n   <g id=\"patch_20\">\r\n    <path d=\"M 218.506897 53.380982 \r\nL 249.569754 53.380982 \r\n\" style=\"fill:none;stroke:#000000;stroke-linecap:square;stroke-linejoin:miter;stroke-width:0.8;\"/>\r\n   </g>\r\n   <g id=\"patch_21\">\r\n    <path d=\"M 218.506897 22.318125 \r\nL 249.569754 22.318125 \r\n\" style=\"fill:none;stroke:#000000;stroke-linecap:square;stroke-linejoin:miter;stroke-width:0.8;\"/>\r\n   </g>\r\n   <g id=\"text_4\">\r\n    <!-- 7 -->\r\n    <g transform=\"translate(230.220825 16.318125)scale(0.12 -0.12)\">\r\n     <defs>\r\n      <path d=\"M 8.203125 72.90625 \r\nL 55.078125 72.90625 \r\nL 55.078125 68.703125 \r\nL 28.609375 0 \r\nL 18.3125 0 \r\nL 43.21875 64.59375 \r\nL 8.203125 64.59375 \r\nz\r\n\" id=\"DejaVuSans-55\"/>\r\n     </defs>\r\n     <use xlink:href=\"#DejaVuSans-55\"/>\r\n    </g>\r\n   </g>\r\n  </g>\r\n  <g id=\"axes_5\">\r\n   <g id=\"patch_22\">\r\n    <path d=\"M 287.775862 53.380982 \r\nL 318.838719 53.380982 \r\nL 318.838719 22.318125 \r\nL 287.775862 22.318125 \r\nz\r\n\" style=\"fill:#ffffff;\"/>\r\n   </g>\r\n   <g clip-path=\"url(#pc276b22e39)\">\r\n    <image height=\"32\" id=\"imagee0e56f75ef\" transform=\"scale(1 -1)translate(0 -32)\" width=\"32\" x=\"287.775862\" xlink:href=\"data:image/png;base64,\r\niVBORw0KGgoAAAANSUhEUgAAACAAAAAgCAYAAABzenr0AAADxUlEQVR4nO1XTUtqXRhd52iaeuqIlWn4hTYQaSJEBSEEUeCgfkD/oEBo1DQimtTcSVD/4A5qEEUR5cDogxQqgoQQS45fEGqlefR5B3HPm/f68Xqpt8ldsOGczX7Ws/az93oOhwFA+Eaw35n8rwAAkH8FaXt7O6xWK1wuF2KxGK6urlAoFOqup88ccrmc+vv7aWlpiW5vb2ljY4NsNhvJ5fJ6MZ+XnGVZslgsNDs7S+l0mkRRJFEUyev1EsdxXy/AbrfT4uIipVIpKbkoimSxWIhl2a8VYDQaye/3UyaTkRKXSiXa3NwkrVZbv2p1b0aL0Gg06O7uRmdnpzRHRFhZWUEul6sb19AFHMfB5/PBaDQimUwiGAwiHA4jnU7/tpZlWbAsC4ZhpOSpVApPT0+oVCqtC5DJZDAYDJiZmYFWq0U+n8fQ0BAikQju7u4QDAYRCoXqEpdKJYTDYeTzeRDV7/Z1BTAMA57n4XQ6pV1ZrVaMjIwgHo/D5XIhEAiAiPD4+Aie58FxnBRfLpcRi8VQLBbrJm8ooBYUCgV0Oh10Oh1cLhemp6dBRDg9PUU2m4XZbG6FrrEAhmGgUqmk518hk8lgNptBRHUTi6L45wLUajXm5ubAsv8a5eNZ1hL1EeVyGefn5w3PX+L9dej1epqfn69qJqurqzQwMEB9fX3k9XppYWGBlpeXqVQqVa0TRZFyuRwFAgHq6upq3rprKeI4Dm63u2ru5uYGiUQCmUwG6XQaR0dHUCqVeHl5AQB4PB643W709PRApVLB4XCA53lkMpnWKiCXy2l4eJguLy+lHUUiERofHye1Wl21lmEYMhgMZDAYaGJignZ3d6WYRCJBDoejtQowDAOTyQSPxwObzSbNHxwcIBqN/mYpIoIgCADeL2U0GsXz8zM0Gk3TXf9EVSvu7e3F2NgYpqam0NHRAQB4eHjAzs4OkskkyuVyU8Kfl04mk8Fut7cmwOl0YnJyEqOjowDebbS3t4eTkxPk8/mGRG1tbVAqlVAoFNL74OBgU7dUCeB5HjzPA3i3kSAI8Pv9SKVSDfs5AAiCgOvra0SjUQDvlSgUCk1tWPNrWKlUIAgCfD4fQqHQfyp9oVDA/v4+jo+PAQDFYhFbW1tN42raMBaLYW1tDdvb200JPiKbzSKbzbYUUyXg8PAQ4XAYSqUSyWSyJSIAMJvNMJlMiMfjWF9fRywWa01ALpeTGkuzM6+F+/t7XFxcgGVZ/PjxA29vb01jGODzfs1UKhWsViv0ej3Ozs7w+vr6/wr4E3z7n9FfAf8Aeq1ZLlLRha8AAAAASUVORK5CYII=\" y=\"-21.380982\"/>\r\n   </g>\r\n   <g id=\"matplotlib.axis_9\"/>\r\n   <g id=\"matplotlib.axis_10\"/>\r\n   <g id=\"patch_23\">\r\n    <path d=\"M 287.775862 53.380982 \r\nL 287.775862 22.318125 \r\n\" style=\"fill:none;stroke:#000000;stroke-linecap:square;stroke-linejoin:miter;stroke-width:0.8;\"/>\r\n   </g>\r\n   <g id=\"patch_24\">\r\n    <path d=\"M 318.838719 53.380982 \r\nL 318.838719 22.318125 \r\n\" style=\"fill:none;stroke:#000000;stroke-linecap:square;stroke-linejoin:miter;stroke-width:0.8;\"/>\r\n   </g>\r\n   <g id=\"patch_25\">\r\n    <path d=\"M 287.775862 53.380982 \r\nL 318.838719 53.380982 \r\n\" style=\"fill:none;stroke:#000000;stroke-linecap:square;stroke-linejoin:miter;stroke-width:0.8;\"/>\r\n   </g>\r\n   <g id=\"patch_26\">\r\n    <path d=\"M 287.775862 22.318125 \r\nL 318.838719 22.318125 \r\n\" style=\"fill:none;stroke:#000000;stroke-linecap:square;stroke-linejoin:miter;stroke-width:0.8;\"/>\r\n   </g>\r\n   <g id=\"text_5\">\r\n    <!-- 4 -->\r\n    <g transform=\"translate(299.489791 16.318125)scale(0.12 -0.12)\">\r\n     <defs>\r\n      <path d=\"M 37.796875 64.3125 \r\nL 12.890625 25.390625 \r\nL 37.796875 25.390625 \r\nz\r\nM 35.203125 72.90625 \r\nL 47.609375 72.90625 \r\nL 47.609375 25.390625 \r\nL 58.015625 25.390625 \r\nL 58.015625 17.1875 \r\nL 47.609375 17.1875 \r\nL 47.609375 0 \r\nL 37.796875 0 \r\nL 37.796875 17.1875 \r\nL 4.890625 17.1875 \r\nL 4.890625 26.703125 \r\nz\r\n\" id=\"DejaVuSans-52\"/>\r\n     </defs>\r\n     <use xlink:href=\"#DejaVuSans-52\"/>\r\n    </g>\r\n   </g>\r\n  </g>\r\n  <g id=\"axes_6\">\r\n   <g id=\"patch_27\">\r\n    <path d=\"M 10.7 99.975268 \r\nL 41.762857 99.975268 \r\nL 41.762857 68.912411 \r\nL 10.7 68.912411 \r\nz\r\n\" style=\"fill:#ffffff;\"/>\r\n   </g>\r\n   <g clip-path=\"url(#pf9c68e73bb)\">\r\n    <image height=\"32\" id=\"image391be6b6cd\" transform=\"scale(1 -1)translate(0 -32)\" width=\"32\" x=\"10.7\" xlink:href=\"data:image/png;base64,\r\niVBORw0KGgoAAAANSUhEUgAAACAAAAAgCAYAAABzenr0AAAEXklEQVR4nO2Xz0uUXRTHP888jqMzYqFQYzb5KBZYYNMwRSomxhBhC0EFo9q5Cdor4h/QOqRNi9AWiS4SWkoUCcJoUP4gI4UZx0kdtYQZf6DPjzktXpK393WcaQza9IW7ec69536ee+4991wFEP6gbH9y8r8AADnpOuTn53Pu3DnOnz+Py+UCYHt7m/n5eebm5kgkEkeGkFQtNzdXrl27Jr29vbKysiKWZYllWbK6uipPnz6V5uZm0TRNbDZbSh8ZtIMNNptNKioqZGJiQvb29sQ0TTFNUwzDEF3XxTAMWVtbkydPnkhpaam4XC7Jycn5fQAOh0Pa29vFMIz9yb99+yahUEhCodBP38fHx+XRo0fi9/tFUZRfAki7BwCSySTDw8MMDw8zPT2Noij4/X7a2tqorq7G5/Nx+vRpLly4wKtXr3j58iWzs7MZ7oBDVuD27dtimqYsLy9LXV2dOBwOUVVVVFWVvLw8OXbsmBQXF0tnZ6d8/PhREomETE5OSmdn5+9ZARFBRBgbGyMWi7G3t7dvsyyL3d1dAPr7+/n06RM3btygpqaGe/fuoaoqDx8+TPv3GYXA7XZjt9tT2ldXVxkdHWV5eZlIJEJTUxN37tzB6XQyMDDA58+fsSwrewBN0zh+/DiqqqZ0FI/H+fDhA/F4HF3X6ejo4P79+2xubhKNRtna2kLk/9fOoZkwmUwiIuTn5+PxeCgsLDwUNJlMEgqFePHiBc+fP6eoqIjW1laqqqrIy8tLOS5lErp586bE43ExTVN6e3vl4sWLGW+uEydOSDKZFMuypK+vTzRNOzjfpKLSdZ2RkRGmp6exLIuamho8Hs+hK/BfKYqCoihUVVXhdDoP7JM2BF1dXWxtbeH1eqmvr6eysjJjgB+n6KDYZwQAMDU1xevXr0kkEnR0dNDT08OVK1coKiqipKQkI4DDlPYU7Ozs8PjxY7a3t2lsbCQQCHDmzBkWFhYYHBxkZWUlnQvW19fRdT07ABHh/fv3FBYWcurUKerq6rh8+TJnz55lY2OD0dFRNE2jpKSEaDRKNBr9KWEZhsHIyAjxeDw7AIBEIkEwGETTNAoKCvD5fJw8eZJAIEAwGCQ3N5fr168Ti8V4+/YtU1NTeDweFEUhHA7z5s2bowEArK2tMTQ0hKqqlJWV4Xa7qa6upru7m/HxcW7duoXL5aKsrIxnz57h9XoBmJmZIRKJZB+CfysWi/Hu3TvGxsYIBAIUFBTg9Xq5dOkS8M/94Ha78fl8tLS0ICIpJ/6hX64Jg8EgDx484O7duywtLf1k+/LlC5FIBLvdjt/vx7IsZmdnMU3zUJ9ZlVJ2u12uXr0qi4uLYhiGWJYlm5ub8vXr1/1WW1srDocju4ooU4iGhgaJRCKi6/p+yba7uytzc3OZlmjZAwDidDqlvb1d+vv7ZWFhQcLhsPT19UlbW1tG45UfFEdRcXExlZWVlJeXAxAOh5mfn2djYyPt2N8CcBT98ZfRX4DvfZvm3cTAahwAAAAASUVORK5CYII=\" y=\"-67.975268\"/>\r\n   </g>\r\n   <g id=\"matplotlib.axis_11\"/>\r\n   <g id=\"matplotlib.axis_12\"/>\r\n   <g id=\"patch_28\">\r\n    <path d=\"M 10.7 99.975268 \r\nL 10.7 68.912411 \r\n\" style=\"fill:none;stroke:#000000;stroke-linecap:square;stroke-linejoin:miter;stroke-width:0.8;\"/>\r\n   </g>\r\n   <g id=\"patch_29\">\r\n    <path d=\"M 41.762857 99.975268 \r\nL 41.762857 68.912411 \r\n\" style=\"fill:none;stroke:#000000;stroke-linecap:square;stroke-linejoin:miter;stroke-width:0.8;\"/>\r\n   </g>\r\n   <g id=\"patch_30\">\r\n    <path d=\"M 10.7 99.975268 \r\nL 41.762857 99.975268 \r\n\" style=\"fill:none;stroke:#000000;stroke-linecap:square;stroke-linejoin:miter;stroke-width:0.8;\"/>\r\n   </g>\r\n   <g id=\"patch_31\">\r\n    <path d=\"M 10.7 68.912411 \r\nL 41.762857 68.912411 \r\n\" style=\"fill:none;stroke:#000000;stroke-linecap:square;stroke-linejoin:miter;stroke-width:0.8;\"/>\r\n   </g>\r\n   <g id=\"text_6\">\r\n    <!-- 0 -->\r\n    <g transform=\"translate(22.413929 62.912411)scale(0.12 -0.12)\">\r\n     <defs>\r\n      <path d=\"M 31.78125 66.40625 \r\nQ 24.171875 66.40625 20.328125 58.90625 \r\nQ 16.5 51.421875 16.5 36.375 \r\nQ 16.5 21.390625 20.328125 13.890625 \r\nQ 24.171875 6.390625 31.78125 6.390625 \r\nQ 39.453125 6.390625 43.28125 13.890625 \r\nQ 47.125 21.390625 47.125 36.375 \r\nQ 47.125 51.421875 43.28125 58.90625 \r\nQ 39.453125 66.40625 31.78125 66.40625 \r\nz\r\nM 31.78125 74.21875 \r\nQ 44.046875 74.21875 50.515625 64.515625 \r\nQ 56.984375 54.828125 56.984375 36.375 \r\nQ 56.984375 17.96875 50.515625 8.265625 \r\nQ 44.046875 -1.421875 31.78125 -1.421875 \r\nQ 19.53125 -1.421875 13.0625 8.265625 \r\nQ 6.59375 17.96875 6.59375 36.375 \r\nQ 6.59375 54.828125 13.0625 64.515625 \r\nQ 19.53125 74.21875 31.78125 74.21875 \r\nz\r\n\" id=\"DejaVuSans-48\"/>\r\n     </defs>\r\n     <use xlink:href=\"#DejaVuSans-48\"/>\r\n    </g>\r\n   </g>\r\n  </g>\r\n  <g id=\"axes_7\">\r\n   <g id=\"patch_32\">\r\n    <path d=\"M 79.968966 99.975268 \r\nL 111.031823 99.975268 \r\nL 111.031823 68.912411 \r\nL 79.968966 68.912411 \r\nz\r\n\" style=\"fill:#ffffff;\"/>\r\n   </g>\r\n   <g clip-path=\"url(#p6f96935c99)\">\r\n    <image height=\"32\" id=\"imagefa705fdda2\" transform=\"scale(1 -1)translate(0 -32)\" width=\"32\" x=\"79.968966\" xlink:href=\"data:image/png;base64,\r\niVBORw0KGgoAAAANSUhEUgAAACAAAAAgCAYAAABzenr0AAAB4ElEQVR4nO2XsarqQBCG/102mkIh2FiYxkqjhSA+gYIPYC12Ppm9T2Aj2tioWBlCCAEhoCKKGk0w2VuIcu+tTKInnMMZCISB/edj59+dhADgiDFonMV/AQCARRVIpVKo1+vIZDJgjEHXdUwmE9i2/bIGj/IUCgU+nU75+XzmnufxXq/Hc7ncy+sjt0BRFOTzeSSTyVDrIwEQQtDpdEIXfwtAqVSCIAgghIBSCkqDS4bqvSiKvNvt8uv1ym+3G/c8jw+HQ95utzml9PMeYIyhWCyCsftB4pzDdV04jgPf91/WCQ2QSCTQbDb/yWmaBk3TAulE2oFyuQxCCAghsCwL8/kchmF8DQBwN+EjZrMZlsslDodDII1IN6Hv++D8PkxVVcV2uw2sEfss+N4AlNKnCf/2w5cBPPr//3uQCGVCSZLQaDTAOQ9d+BGBd4AxBlmW0Wq1nrnFYgFd13E6nT4PIAgCstksKpXKM9fv9zEajbDZbD4P4HkejscjLMt65lRVxWq1wuVy+TyA67pYr9dQVTVwsbcAMMYgSRJkWY4HQBRFyLKMWq0WD4Bt2zAMA+PxGJRSmKYJ0zThOE4oAIIQv2bpdBrVahWKomC322EwGGC/3wf6EIkE8M743sPoRwD8ATgP6ZV4lNQGAAAAAElFTkSuQmCC\" y=\"-67.975268\"/>\r\n   </g>\r\n   <g id=\"matplotlib.axis_13\"/>\r\n   <g id=\"matplotlib.axis_14\"/>\r\n   <g id=\"patch_33\">\r\n    <path d=\"M 79.968966 99.975268 \r\nL 79.968966 68.912411 \r\n\" style=\"fill:none;stroke:#000000;stroke-linecap:square;stroke-linejoin:miter;stroke-width:0.8;\"/>\r\n   </g>\r\n   <g id=\"patch_34\">\r\n    <path d=\"M 111.031823 99.975268 \r\nL 111.031823 68.912411 \r\n\" style=\"fill:none;stroke:#000000;stroke-linecap:square;stroke-linejoin:miter;stroke-width:0.8;\"/>\r\n   </g>\r\n   <g id=\"patch_35\">\r\n    <path d=\"M 79.968966 99.975268 \r\nL 111.031823 99.975268 \r\n\" style=\"fill:none;stroke:#000000;stroke-linecap:square;stroke-linejoin:miter;stroke-width:0.8;\"/>\r\n   </g>\r\n   <g id=\"patch_36\">\r\n    <path d=\"M 79.968966 68.912411 \r\nL 111.031823 68.912411 \r\n\" style=\"fill:none;stroke:#000000;stroke-linecap:square;stroke-linejoin:miter;stroke-width:0.8;\"/>\r\n   </g>\r\n   <g id=\"text_7\">\r\n    <!-- 1 -->\r\n    <g transform=\"translate(91.682894 62.912411)scale(0.12 -0.12)\">\r\n     <defs>\r\n      <path d=\"M 12.40625 8.296875 \r\nL 28.515625 8.296875 \r\nL 28.515625 63.921875 \r\nL 10.984375 60.40625 \r\nL 10.984375 69.390625 \r\nL 28.421875 72.90625 \r\nL 38.28125 72.90625 \r\nL 38.28125 8.296875 \r\nL 54.390625 8.296875 \r\nL 54.390625 0 \r\nL 12.40625 0 \r\nz\r\n\" id=\"DejaVuSans-49\"/>\r\n     </defs>\r\n     <use xlink:href=\"#DejaVuSans-49\"/>\r\n    </g>\r\n   </g>\r\n  </g>\r\n  <g id=\"axes_8\">\r\n   <g id=\"patch_37\">\r\n    <path d=\"M 149.237931 99.975268 \r\nL 180.300788 99.975268 \r\nL 180.300788 68.912411 \r\nL 149.237931 68.912411 \r\nz\r\n\" style=\"fill:#ffffff;\"/>\r\n   </g>\r\n   <g clip-path=\"url(#pc9fdf924e0)\">\r\n    <image height=\"32\" id=\"imageaa57eca691\" transform=\"scale(1 -1)translate(0 -32)\" width=\"32\" x=\"149.237931\" xlink:href=\"data:image/png;base64,\r\niVBORw0KGgoAAAANSUhEUgAAACAAAAAgCAYAAABzenr0AAACvklEQVR4nO2WO0sjURzFz53Jw6DBB5LBRhE06aKVaJcmiPiIhdaWWqawSecnEGxsLAQjCPkGVnZTDAmDioXEUdJoQhgSCZOEicnZaoPLJiGbuJstPHCaua8f95575y8AEAOUNMjFvwG+Af4LAEc3nYQQLb+T/d/gjgBCCESjUQSDQaysrGB0dBQAYFkWNE3D0dERDMNAvV7vC4Kt7PF4GI1GmcvlWC6XWavVWK/XWSgUmMlkWCqVmEqluLCwQFmWW87RpVs3TExMUNd1WpbF09NTbmxscHl5mUtLS1xbW+PV1RXL5TLPzs7o8/koSVJPAG1DWKlUcH5+jmw2i7m5OTidThiGAU3ToKoqEokE3G43VldXMTs7C5fL1dP2t81AtVrFxcUFvF4v/H4/AECSJEiSBIfDgUajAQBQFAUjIyOQZbknAKCLbQoEAvR6vRRCUFEUbm9vMx6Ps1KpMJlMMhgM0uVyfW0G2nlnZ4ePj4+0bZsPDw8MhUJ0Op1fH8J2Pjg4YKPRYKFQ4NbWVj8Ldw5hO+m6jsvLS7jdbuzu7sLj8fzpFL+oq5fws25vb3F8fIz393eEw2GEQiGQRCqVgmmazXB2K4EeKqKhoSEoioLJyUlsbm4iEong+voaiUQC9/f3qNVqfxfgs8LhMA4PD+Hz+ZBOp2EYBjKZDFRVRS6Xg23bKBaLbf8bfQMMDw9jfX0d+/v7mJmZgSzLKBaLUFUVb29vsCwLuq4jn8/j9fX1N5i+AX5qb28Pi4uL8Pv9mJ+fx9jYGMbHx1GtVnFzc4N0Oo1kMonn52eYpomnp6fm2L6v0mdPTU0xEonw5OSELy8vNE2TpVKJtm3z4+OD+Xye8Xi893egW0uSxOnpaQYCAcZiMd7d3TGbzVLTNMZisWa/LzuCThJC/FLUkGzm4J8AdNLAa8JvgG+AgQP8ALwG7Lhd4aVKAAAAAElFTkSuQmCC\" y=\"-67.975268\"/>\r\n   </g>\r\n   <g id=\"matplotlib.axis_15\"/>\r\n   <g id=\"matplotlib.axis_16\"/>\r\n   <g id=\"patch_38\">\r\n    <path d=\"M 149.237931 99.975268 \r\nL 149.237931 68.912411 \r\n\" style=\"fill:none;stroke:#000000;stroke-linecap:square;stroke-linejoin:miter;stroke-width:0.8;\"/>\r\n   </g>\r\n   <g id=\"patch_39\">\r\n    <path d=\"M 180.300788 99.975268 \r\nL 180.300788 68.912411 \r\n\" style=\"fill:none;stroke:#000000;stroke-linecap:square;stroke-linejoin:miter;stroke-width:0.8;\"/>\r\n   </g>\r\n   <g id=\"patch_40\">\r\n    <path d=\"M 149.237931 99.975268 \r\nL 180.300788 99.975268 \r\n\" style=\"fill:none;stroke:#000000;stroke-linecap:square;stroke-linejoin:miter;stroke-width:0.8;\"/>\r\n   </g>\r\n   <g id=\"patch_41\">\r\n    <path d=\"M 149.237931 68.912411 \r\nL 180.300788 68.912411 \r\n\" style=\"fill:none;stroke:#000000;stroke-linecap:square;stroke-linejoin:miter;stroke-width:0.8;\"/>\r\n   </g>\r\n   <g id=\"text_8\">\r\n    <!-- 5 -->\r\n    <g transform=\"translate(160.95186 62.912411)scale(0.12 -0.12)\">\r\n     <use xlink:href=\"#DejaVuSans-53\"/>\r\n    </g>\r\n   </g>\r\n  </g>\r\n  <g id=\"axes_9\">\r\n   <g id=\"patch_42\">\r\n    <path d=\"M 218.506897 99.975268 \r\nL 249.569754 99.975268 \r\nL 249.569754 68.912411 \r\nL 218.506897 68.912411 \r\nz\r\n\" style=\"fill:#ffffff;\"/>\r\n   </g>\r\n   <g clip-path=\"url(#pb495ac5e67)\">\r\n    <image height=\"32\" id=\"imageb2237caf52\" transform=\"scale(1 -1)translate(0 -32)\" width=\"32\" x=\"218.506897\" xlink:href=\"data:image/png;base64,\r\niVBORw0KGgoAAAANSUhEUgAAACAAAAAgCAYAAABzenr0AAAEDElEQVR4nO2XP0gbfRjHP3eJMWc15BLRWINgG4NIpSIIgkMnF907iXRzq4ji6tRNEJwcCo5OggQcXNqhaIs1/ulSqkZDqkkIFyVETeLFPO8gr1Srr/eqL75DH3iW3z333Oe+zz3PwymA8IimPubD/wD8LwDstwX4/X5qa2ux2WwXZ8VikUwmg2EYZDKZe0PIda4oing8HhkfH5dkMinZbFYymYwcHh7K7u6uzMzMyOvXr8Xtdovdbr82hxVXuKENvV4vS0tLNDU1MTMzQ3l5OYlEgmg0isPhoL+/n0AgQDgcZnR0lHA4zPHx8cMpUFNTI6VSSdbW1qSmpkZUVRVFUURRFLHZbFJXVyfz8/NydnYmJycnMjAwIHV1dXdR4WYAEZFIJCJdXV2iadql66qqSnV1tUxOTko6nZZoNCpDQ0NSX1//MCXQdZ2FhQVaW1v5/v07y8vL/Pz5k0gkwubmJqenp6RSKTRNY25ujkAgQCQSYXp6mqmpKQqFgiX5bwQoLy+np6eHgYEBmpubURSFXC5HOp3GMAyKxSKGYXBwcEBfXx8+nw/TNPn48SPv379neXmZ/f39uwMAOBwOent7aWtro6GhAa/Xi67reL1evF4vhUKBYrGI3+/Hbj/v6GQySTgc5uvXr2xubgKwvb1NIpHg+PiYXC53SZ1/BPgVxOVy4ff7aWxsJBgM0tzcDICmaQQCAVwuF7W1tVRVVVEqlchms8RiMZ48ecKHDx/Y2NgglUqRSCTY2dkhHo9bB7gNzufz0d7ezuDgIK9evSKbzbK6usq3b99obW1F13WePn2Kqqpsb28zOzvL+Pg4YGES3manp6fEYjEAUqkUANFolJGREcLhMAAej4dgMMiLFy84OjpicXHxUo47T7FfvaysTN69eyfJZFJisZiMjIxcO12vnj3YMjJNk0KhgGmaKIpCZWXlbzEiv1f73iX422w2GzabDVU9fydFUSzdZ0kBu91OWVnZRfLrzO124/P5cLlcmKaJYRiWACwpUF9fT1tbG8lkkq2tLQ4ODn6LqaqqQtd1nE4n6XSajY0NSwCWFAgEAgwNDdHX13fR/1fN4/GgaRr5fJ54PM7KysrDAeRyOXRdp7Ozk5cvX+J0Oi/VWFVVurq6aGhowDRNstksJycnlgDAYptNT0/L7u6ufPr0Sd6+fSsej+diPQeDQfn8+bPk83n58uWLvHnz5v7r+Krrui7Dw8Oyvr4u+Xxe4vG4hEIhCYVCYhiGFItFicfjMjY2dm2/3+SWR7GiKGiaRktLC93d3XR0dPD8+XOePXuGw+Hgx48fTExMEAqFSKfTluX/17vA6XTidrtxuVxUVFTgdDqB8+9kb2+Pw8NDSqXSfwfw0Pbo/wV/AB4d4C8Gg0Yzf19xFwAAAABJRU5ErkJggg==\" y=\"-67.975268\"/>\r\n   </g>\r\n   <g id=\"matplotlib.axis_17\"/>\r\n   <g id=\"matplotlib.axis_18\"/>\r\n   <g id=\"patch_43\">\r\n    <path d=\"M 218.506897 99.975268 \r\nL 218.506897 68.912411 \r\n\" style=\"fill:none;stroke:#000000;stroke-linecap:square;stroke-linejoin:miter;stroke-width:0.8;\"/>\r\n   </g>\r\n   <g id=\"patch_44\">\r\n    <path d=\"M 249.569754 99.975268 \r\nL 249.569754 68.912411 \r\n\" style=\"fill:none;stroke:#000000;stroke-linecap:square;stroke-linejoin:miter;stroke-width:0.8;\"/>\r\n   </g>\r\n   <g id=\"patch_45\">\r\n    <path d=\"M 218.506897 99.975268 \r\nL 249.569754 99.975268 \r\n\" style=\"fill:none;stroke:#000000;stroke-linecap:square;stroke-linejoin:miter;stroke-width:0.8;\"/>\r\n   </g>\r\n   <g id=\"patch_46\">\r\n    <path d=\"M 218.506897 68.912411 \r\nL 249.569754 68.912411 \r\n\" style=\"fill:none;stroke:#000000;stroke-linecap:square;stroke-linejoin:miter;stroke-width:0.8;\"/>\r\n   </g>\r\n   <g id=\"text_9\">\r\n    <!-- 2 -->\r\n    <g transform=\"translate(230.220825 62.912411)scale(0.12 -0.12)\">\r\n     <use xlink:href=\"#DejaVuSans-50\"/>\r\n    </g>\r\n   </g>\r\n  </g>\r\n  <g id=\"axes_10\">\r\n   <g id=\"patch_47\">\r\n    <path d=\"M 287.775862 99.975268 \r\nL 318.838719 99.975268 \r\nL 318.838719 68.912411 \r\nL 287.775862 68.912411 \r\nz\r\n\" style=\"fill:#ffffff;\"/>\r\n   </g>\r\n   <g clip-path=\"url(#pc4a1944785)\">\r\n    <image height=\"32\" id=\"imageb708de4e19\" transform=\"scale(1 -1)translate(0 -32)\" width=\"32\" x=\"287.775862\" xlink:href=\"data:image/png;base64,\r\niVBORw0KGgoAAAANSUhEUgAAACAAAAAgCAYAAABzenr0AAAEbUlEQVR4nO2XzUtUbRiHr3Nm5jiaNacZ02QKiRlBR0pJCCmJJpICZYR2baRdi3bZf+AqSCjaVYsIpCk/QNxIUS1sYUabiRmIDCfFryaSSWya83W/ixeHN15Hxylo0w/u1fndz3Odcz8f91EA4Q9K/ZOT/wUAcJdqPHz4MOFwmIMHD1JRUcHa2hrJZJL19XU+f/6MSHlLaUcAj8fDgQMHiMVixGIx2traqKqqIp1OMzo6SjqdZnp6mvn5eXK5XFkgUiw8Ho+0tLTIwMCALC4uimVZYprmT7GysiITExPS2dkpuq6L2+0uOl6R2PqBpmkSjUYlk8mIYRhi23YBwDAMMQxDTNMU27bFNE2ZmZmRgYEB6ejo2BWAsknxX/l8Ps6ePcvdu3fRdR2ARCLBt2/fSKfTvH79mi9fvnD16lUURcHj8RCJRNA0jTdv3jA0NMSLFy/4+PFjeSVoamqSZ8+eiWVZYtu22LYt586dE13XZe/eveL1eqWiokJ0XRdd1yUYDMqdO3cknU7Ljx8/ZHV1VZ4/fy6hUKi8ErS0tMjU1JRYliWWZcnNmzfl0KFDRQdRVVUaGhqkq6tLbt26JUtLS5LNZuXp06cSDodFVdXiudt+GhFEhNXVVQzDKOpzHIdPnz7x6tUrHj16RDweR1EUOjo6uHbtGrW1tajq1lOVdBCdPHmSffv27ejL5XIkEglGR0eZnp6msrKSixcv4vf7cblcpQPk83kWFhYKb93T04Pf7y+FlVwuRyqV4uHDh2xsbBAIBNA0DUVRSgdYXFzk9u3bfPjwAREpmlxM2WyWly9fkkwmd/RuCZDL5Xj79i2XL19mbW3tX6OqlgziOA4bGxuYplm09tsCAFiWRSKRYH19Hdu2mZqaYnh4mPPnz//kC4VC1NXV4Xb//1QXERzHKQ9gc4DBwUG+fv0KQFdXFzdu3GBwcJBQKATAiRMnuH//Pv39/TQ1NaGqKqqqsmfPHjRN23Zy2OEyEhFGRkZwu9309/cTDAZpbGykqqoKgOvXr6NpGsePH+fo0aMEAgHi8Thzc3OcOXOGSCTyawAAmUyG8fFxamtricViNDY2EgwGuXDhAt+/f+fYsWPouo6maXR3d5PP55mcnCQQCFBdXf3rAADz8/PE43FEhN7eXiKRCEeOHOHKlSt4vd7CNguHw7S3t5NKpQBKWrQlNyTJZJLHjx+jKArV1dX4/X4CgQCqqhYWmtvtRtO0Qu1/K8AmxL1795idnaW3t5fTp0/j8/l+8rhcLiorK/F6vTvugE3ttoEQl8slNTU1Eo1GZXZ2VrLZrOTzeTFNUzKZjLx7907ev39faFra2tpE07TdNSSlhqqqcunSJXny5IksLCyIaZqFa7wUgF2VYCs5jsPY2BiGYeA4DqdOnaK+vh7btkmlUoyMjDA3N4dpmr+vBFvF/v37JRqNyoMHD8S2bclms9LX1yf19fXb9gNbtmTlyufz0dzcTGtrK4ZhMDk5yfLy8rY5vxWgHP3xP6O/AP8AOS6ylouJsTEAAAAASUVORK5CYII=\" y=\"-67.975268\"/>\r\n   </g>\r\n   <g id=\"matplotlib.axis_19\"/>\r\n   <g id=\"matplotlib.axis_20\"/>\r\n   <g id=\"patch_48\">\r\n    <path d=\"M 287.775862 99.975268 \r\nL 287.775862 68.912411 \r\n\" style=\"fill:none;stroke:#000000;stroke-linecap:square;stroke-linejoin:miter;stroke-width:0.8;\"/>\r\n   </g>\r\n   <g id=\"patch_49\">\r\n    <path d=\"M 318.838719 99.975268 \r\nL 318.838719 68.912411 \r\n\" style=\"fill:none;stroke:#000000;stroke-linecap:square;stroke-linejoin:miter;stroke-width:0.8;\"/>\r\n   </g>\r\n   <g id=\"patch_50\">\r\n    <path d=\"M 287.775862 99.975268 \r\nL 318.838719 99.975268 \r\n\" style=\"fill:none;stroke:#000000;stroke-linecap:square;stroke-linejoin:miter;stroke-width:0.8;\"/>\r\n   </g>\r\n   <g id=\"patch_51\">\r\n    <path d=\"M 287.775862 68.912411 \r\nL 318.838719 68.912411 \r\n\" style=\"fill:none;stroke:#000000;stroke-linecap:square;stroke-linejoin:miter;stroke-width:0.8;\"/>\r\n   </g>\r\n   <g id=\"text_10\">\r\n    <!-- 0 -->\r\n    <g transform=\"translate(299.489791 62.912411)scale(0.12 -0.12)\">\r\n     <use xlink:href=\"#DejaVuSans-48\"/>\r\n    </g>\r\n   </g>\r\n  </g>\r\n  <g id=\"axes_11\">\r\n   <g id=\"patch_52\">\r\n    <path d=\"M 10.7 146.569554 \r\nL 41.762857 146.569554 \r\nL 41.762857 115.506696 \r\nL 10.7 115.506696 \r\nz\r\n\" style=\"fill:#ffffff;\"/>\r\n   </g>\r\n   <g clip-path=\"url(#p81d407d238)\">\r\n    <image height=\"32\" id=\"image7159757ad4\" transform=\"scale(1 -1)translate(0 -32)\" width=\"32\" x=\"10.7\" xlink:href=\"data:image/png;base64,\r\niVBORw0KGgoAAAANSUhEUgAAACAAAAAgCAYAAABzenr0AAADK0lEQVR4nO2XTUvrTBTH/5M0aaoRtYUuKqK1FV9KkUIJFOzCjehGF67cuRIEt34Nv4Pg3oW4rEsVRFCwKDWtaYMvIKlREhsTm7kLUW7prVafe5/cxT1wNjlnMr85c/KfCQFA4aExXk7+VwD4fufLhoaGkM1mMT4+joODA2xtbf2/AGNjY1hYWIAkSWBZti2A37oFfX19iEQiXxrzR3rAdV04juMdgGEYOD4+9g6AEAJK25OXPwJQq9VQLpe9AwCAer3uHUBHRwcSiURbuU06EAqFEI1GEQwGm5I1TYOmaXh4eMD9/X1TXNd16LqOgYEBTE5OYmNj42sAoVAI2WwWc3NzGBwchG3b7zFBECDLMgqFAiqVCi4uLmBZFgzDgGmaME0TxWIRhUIBmUwG6XT66xWYmZnB8vIyJEnCzc1NQyPFYjEkk0kwDANKKWq1GorFIvL5PE5PT3F0dISrqyvk83k8Pz8jHA6DZdlPe6EBgOM4cByHcrmMtbU1bG9vv8fi8Tg6OzvR39+PZDKJcDgMv9+PxcVFMAwD27ZRKpXg8/nAcRxeXl4wPDyM8/Pz9gHezHGcpj2WZRkAcHJygp2dnffnq6ur6OrqQiaTwfT0NKampuD3+1Gv15FKpT4FAF4vJBQAXVpaont7e/Ty8pKurKzQn2MfOSGE8jxPRVGk8/PzdHd3l9q2TQ8PD2lPTw8lhLQc21CBarUKTdMQjUYRi8U+JX9fAaWwbRu2bWN/fx+9vb2YmJjA6OgoRFHE4+NjS2Vs0AFFUaAoCiilCAQCbQP8bJqm4ezsDHd3dwgEAggGgyCEtMxvAKhUKiiVSnh6evrW5MCrAhqGgWq1CkIIRkZGwLJsewC6ruP29hamaX4bAHg9C96aL5VKwedrfe9pkmLXdWFZ1n8CUFUV6+vrsCwL0WgUPM+3DyDLMnK5HFzX/TaA4zhQVRWbm5tIJBKIx+MQBOGXuU21ub6+Ri6X+5C6XQhFURCJRD5dTMN3yTAM5TiO8jzftg78ynmep7Ozs1RVVSpJEhUEoVXu9yf5yAkhtLu7m6bTaSqKYksxIm8UXpnnf0b/ADwH+AE/0ZQlQ4uK3QAAAABJRU5ErkJggg==\" y=\"-114.569554\"/>\r\n   </g>\r\n   <g id=\"matplotlib.axis_21\"/>\r\n   <g id=\"matplotlib.axis_22\"/>\r\n   <g id=\"patch_53\">\r\n    <path d=\"M 10.7 146.569554 \r\nL 10.7 115.506696 \r\n\" style=\"fill:none;stroke:#000000;stroke-linecap:square;stroke-linejoin:miter;stroke-width:0.8;\"/>\r\n   </g>\r\n   <g id=\"patch_54\">\r\n    <path d=\"M 41.762857 146.569554 \r\nL 41.762857 115.506696 \r\n\" style=\"fill:none;stroke:#000000;stroke-linecap:square;stroke-linejoin:miter;stroke-width:0.8;\"/>\r\n   </g>\r\n   <g id=\"patch_55\">\r\n    <path d=\"M 10.7 146.569554 \r\nL 41.762857 146.569554 \r\n\" style=\"fill:none;stroke:#000000;stroke-linecap:square;stroke-linejoin:miter;stroke-width:0.8;\"/>\r\n   </g>\r\n   <g id=\"patch_56\">\r\n    <path d=\"M 10.7 115.506696 \r\nL 41.762857 115.506696 \r\n\" style=\"fill:none;stroke:#000000;stroke-linecap:square;stroke-linejoin:miter;stroke-width:0.8;\"/>\r\n   </g>\r\n   <g id=\"text_11\">\r\n    <!-- 4 -->\r\n    <g transform=\"translate(22.413929 109.506696)scale(0.12 -0.12)\">\r\n     <use xlink:href=\"#DejaVuSans-52\"/>\r\n    </g>\r\n   </g>\r\n  </g>\r\n  <g id=\"axes_12\">\r\n   <g id=\"patch_57\">\r\n    <path d=\"M 79.968966 146.569554 \r\nL 111.031823 146.569554 \r\nL 111.031823 115.506696 \r\nL 79.968966 115.506696 \r\nz\r\n\" style=\"fill:#ffffff;\"/>\r\n   </g>\r\n   <g clip-path=\"url(#p36ce9274e9)\">\r\n    <image height=\"32\" id=\"imagea51d6444e0\" transform=\"scale(1 -1)translate(0 -32)\" width=\"32\" x=\"79.968966\" xlink:href=\"data:image/png;base64,\r\niVBORw0KGgoAAAANSUhEUgAAACAAAAAgCAYAAABzenr0AAAEBElEQVR4nO2Xz0syaxTHvzOOOYNZY45kYSRFkBBUEiVBatRmiNpGi1pFtKltu/6Ftv0DtQmKatVvaBOusoKozEW/oB+mhVaOjnPu4iW5Xs3X6r50F/fA2TzPOWc+nOc8Xx8ZAIQfNPYnP/6fAOAKbnIc3G43ZFlGWVkZbm5uEAqFEAqFEAwGEYvF/gwAx3GwWCxoamrCyMgI+vr6MgDn5+c4OTlBIBBAJBLB3d0dgsEgIpEI0un0pwEY5BlCi8UCWZYxODgIWZZzkpLJJO7v76EoCg4ODrCysoJAIIDLy0vEYjEQfW6u6Z/e3NxMR0dHpKoqqapKLy8vFIvFclxRFEqn03R/f0/Ly8vU399PoiiSXq/PqfmRF5yBd5ufn8fj42NWi0tKSuD1euFyuVBRUYG+vj40NDRgc3MTS0tL2NnZ+XoHysrKSJZlWltbI1VVqaWlhQwGAzEMk3GdTkeSJNHw8DBdXV1RMpkkVVUpkUiQ3++nzs7OYruQu8gwDJWUlJDVaqWhoSEym83EsmzeOJ7naWxsjI6Pj0lRFFJVlY6Ojqinp+frAH//gCiKpNPpChaRJIlGR0fJ7/d/GqCgEBERnp6efnu9wuEwtre3cXFxUTAunxU1hAAgCAKqqqrAsiyi0Sg0Tcvat1qt4Hn+zwAIggCXy4Wuri4IgoBQKIRUKpUV09XVBafTCYZh/n2A2tpaTE9Pw+12o7S0NGuPZVkQUUZ8NE2Dqqo5gN8CAIB0Og1N03JU7v0o3tevrq6wvr6O3d3dourmleJ8Vl1dDa/Xi+7ubjQ2Nv5KZhh0dnZmASSTSZyenmJmZgZbW1u4ubn5be3irgvLksFgIJPJRKIokiiKZDabaXx8nPb39+n5+ZlSqRSpqkqKotDDwwNtbGyQIAgF6xbdgY9MkiRUV1fD4/HA5/Ohra0NdrsdABCLxVBbW1vwB6roGfjIwuEwwuEwIpEIotEoOI6DzWYDx3EoLS3FwMAAFhYWoChK3vyiX0QMw8BgMMBoNMJoNObc+evra+zt7eHw8BCJRCKz7vP5CupD0R2QJAn19fWwWq3QNA2vr68IBoNZMTzPI5VKZZSTYRjU1dXBbDYjHo/nVdSiAXp7ezExMYH29naoqorb21ssLi6CYZjM+TocDjQ1NaG8vDyT5/F44HQ6EQ6HEY/Hvw7Q2toKm832K4njYLfbMTk5mVG+z76CPg0wOzuL8/NzyLIMl8sFjuNQWVlZMIeIMDc3h4ODA7y9vX0cV4yzLEs8z1NNTQ11dHSQz+ejqakp0jSNNE2jdDqd5W9vb7S6ukqSJOV9S+CrOqDT6aDX66HT6WAymeBwOD6MjUajODs7K3g83xai79qP/zP6H+DHAf4C7LtsSOeilygAAAAASUVORK5CYII=\" y=\"-114.569554\"/>\r\n   </g>\r\n   <g id=\"matplotlib.axis_23\"/>\r\n   <g id=\"matplotlib.axis_24\"/>\r\n   <g id=\"patch_58\">\r\n    <path d=\"M 79.968966 146.569554 \r\nL 79.968966 115.506696 \r\n\" style=\"fill:none;stroke:#000000;stroke-linecap:square;stroke-linejoin:miter;stroke-width:0.8;\"/>\r\n   </g>\r\n   <g id=\"patch_59\">\r\n    <path d=\"M 111.031823 146.569554 \r\nL 111.031823 115.506696 \r\n\" style=\"fill:none;stroke:#000000;stroke-linecap:square;stroke-linejoin:miter;stroke-width:0.8;\"/>\r\n   </g>\r\n   <g id=\"patch_60\">\r\n    <path d=\"M 79.968966 146.569554 \r\nL 111.031823 146.569554 \r\n\" style=\"fill:none;stroke:#000000;stroke-linecap:square;stroke-linejoin:miter;stroke-width:0.8;\"/>\r\n   </g>\r\n   <g id=\"patch_61\">\r\n    <path d=\"M 79.968966 115.506696 \r\nL 111.031823 115.506696 \r\n\" style=\"fill:none;stroke:#000000;stroke-linecap:square;stroke-linejoin:miter;stroke-width:0.8;\"/>\r\n   </g>\r\n   <g id=\"text_12\">\r\n    <!-- 3 -->\r\n    <g transform=\"translate(91.682894 109.506696)scale(0.12 -0.12)\">\r\n     <use xlink:href=\"#DejaVuSans-51\"/>\r\n    </g>\r\n   </g>\r\n  </g>\r\n  <g id=\"axes_13\">\r\n   <g id=\"patch_62\">\r\n    <path d=\"M 149.237931 146.569554 \r\nL 180.300788 146.569554 \r\nL 180.300788 115.506696 \r\nL 149.237931 115.506696 \r\nz\r\n\" style=\"fill:#ffffff;\"/>\r\n   </g>\r\n   <g clip-path=\"url(#p3cd04423a6)\">\r\n    <image height=\"32\" id=\"image6d546529f5\" transform=\"scale(1 -1)translate(0 -32)\" width=\"32\" x=\"149.237931\" xlink:href=\"data:image/png;base64,\r\niVBORw0KGgoAAAANSUhEUgAAACAAAAAgCAYAAABzenr0AAAEYklEQVR4nO2XTUgbWxTH/5NJxoTRaGiIxAoKEz9QMBZFVEpLK/UDzEYE3bhUV7rK0pVLXbrvUl21IBRKQfzoom5agrV+gEhFRRNbzRDybe7/LXzmmVeNU98D3+IdODDce+be3/2fO+fekQAQD2imh5z8PwFgNhIkyzKqqqqgaRoURYEQAh6PB0IIhEIhAMD+/j5CoRBOT09xfn7+7wEUFRWhubkZXV1dqKurywEAgJOTkyzAyckJNjc38eXLFxweHuLnz5+GIJjPvV4v37x5w/PzcwohmEqlGIlEqOs6dV1nJBKhEIJCCGYyGW5tbXFmZoaDg4O02+15xwbAvApIkoT29na8evUKqqoiGo3i+PgY379/RzQaBQDY7XY0NTVBVVXIsoyamhpUVVWhr68PiUQC7969Qzqdvp8CkiRxdnaW8XicQghOTk6yoqKCiqJkY6xWK/1+P7e2tphIJCiEIEkKIajrOl+8eEGLxZJPhfwSud1ufvz4kdFolOPj47TZbDeCOp1ODg0N8cOHD9mUCCEYCARYUlJyfwCTycTq6mr6/X6OjIzQ6/XeqpbNZuPg4CADgUAWIB6Ps6uri4WFhfcDAECLxcLS0lKWlpZSVdW8sc+ePePbt29zVPD7/XS5XL+/Ca8snU4jGAzeGSdJEmw2G4qLi3PaKyoqYLVab3zHEIARKy8vh6ZpePnyJTRNy+kzmW4vuPcCkCQJFosFZrMZFosFDocDPT096OnpQVNTE9xudzY2EolgY2MDsVjsnwOYTCYoioKioiI8fvwYDocDLpcLnZ2d8Pl8cDqdOfHxeBwrKyuYm5tDOBy+ddw7N+GVa5rGsbExrq6u8sePHzkb7bpnMhnqus6pqSm6XC5KknS/Svh3e/LkCXw+H54+fXpj//7+Pj5//ozl5WUsLS1hc3MT5N3XDcMKeDweTk9P8+LiImfFyWSSExMTbGxspMPhoM1moyzLhsb8LQUODg4wPz8PXdfx/PlzdHR0ALjclIqiIJVKIRKJ4OLiwvCYvwWQTCaxvb0NXdfx9etXWK1WtLS0QJZl9Pb2Ym9vD8Fg0PAxfGWGU3DdVVXl0NAQ379/z2QySSEEFxYW2N/ff1ftv70Um81mqqpKu93OgoICFhQU3HWSsbu7m6FQiJlMhul0mgsLC2xtbTUMkJOCsrIyaJqG4uJiHB4eAgBisRiOj48hhPhLMhJCCMiyjI2NDQSDQdjtdiiKgsrKSrS1tWFtbc2Q/DkAw8PDGB0dzSkoZ2dn+PbtGzKZTLYtHo/j6OgIHo8HJSUlqK2thSzLAC4/xU+fPhmaPLugK+/v7//lPM9XbK4/7+7u8vXr1xwYGKDb7TacAunPBwCXF9CGhgY0NzdDCIH6+nqoqgqfz4ednR0cHR1lr2JXdnp6isXFRayvryMcDiOVSiGdTuekLJ/lAFwdp4WFhSCZvec9evQIsVgMiUTil8qWSqUQDocRjUYNT3orwEPYg/8Z/Q/w4AB/AKZpPaPMnKgHAAAAAElFTkSuQmCC\" y=\"-114.569554\"/>\r\n   </g>\r\n   <g id=\"matplotlib.axis_25\"/>\r\n   <g id=\"matplotlib.axis_26\"/>\r\n   <g id=\"patch_63\">\r\n    <path d=\"M 149.237931 146.569554 \r\nL 149.237931 115.506696 \r\n\" style=\"fill:none;stroke:#000000;stroke-linecap:square;stroke-linejoin:miter;stroke-width:0.8;\"/>\r\n   </g>\r\n   <g id=\"patch_64\">\r\n    <path d=\"M 180.300788 146.569554 \r\nL 180.300788 115.506696 \r\n\" style=\"fill:none;stroke:#000000;stroke-linecap:square;stroke-linejoin:miter;stroke-width:0.8;\"/>\r\n   </g>\r\n   <g id=\"patch_65\">\r\n    <path d=\"M 149.237931 146.569554 \r\nL 180.300788 146.569554 \r\n\" style=\"fill:none;stroke:#000000;stroke-linecap:square;stroke-linejoin:miter;stroke-width:0.8;\"/>\r\n   </g>\r\n   <g id=\"patch_66\">\r\n    <path d=\"M 149.237931 115.506696 \r\nL 180.300788 115.506696 \r\n\" style=\"fill:none;stroke:#000000;stroke-linecap:square;stroke-linejoin:miter;stroke-width:0.8;\"/>\r\n   </g>\r\n   <g id=\"text_13\">\r\n    <!-- 3 -->\r\n    <g transform=\"translate(160.95186 109.506696)scale(0.12 -0.12)\">\r\n     <use xlink:href=\"#DejaVuSans-51\"/>\r\n    </g>\r\n   </g>\r\n  </g>\r\n  <g id=\"axes_14\">\r\n   <g id=\"patch_67\">\r\n    <path d=\"M 218.506897 146.569554 \r\nL 249.569754 146.569554 \r\nL 249.569754 115.506696 \r\nL 218.506897 115.506696 \r\nz\r\n\" style=\"fill:#ffffff;\"/>\r\n   </g>\r\n   <g clip-path=\"url(#p835ada5de2)\">\r\n    <image height=\"32\" id=\"imagec0f06b7b9f\" transform=\"scale(1 -1)translate(0 -32)\" width=\"32\" x=\"218.506897\" xlink:href=\"data:image/png;base64,\r\niVBORw0KGgoAAAANSUhEUgAAACAAAAAgCAYAAABzenr0AAAD8UlEQVR4nO2Xy0tbWxSHv5PEExNzJhGTICLEFzZIQRC0oiZaLYogCA7ESREfOPAP0IEjR86CYxEE6ViHokixoihqO6hChQjiK2owJmo9aE7WHV0nt1Zj9XoHd8GabM5e6zu/vddeeyuA8Ipmes3k/wkAy0Mf2O12ysvL8fv9GIbB7u4um5ubrK+v/zsAJSUldHZ20tDQQDKZJBQKsby8TCKR4Pv37xiG8ccQcp8riiIDAwNycXEh0WhUotGoxGIxCYVCEgwGxe123zv3sf7gHsjNzcVkMrGxscHnz5/Z3t7G5XLx8eNH6urq0DQNRVFeToHh4WG5uLiQtbU1aWlpkYKCAhkcHJTb21uJRCIyNjYmmqa9nAIAJpMJRVFIJpPs7OwwOTnJ0NAQIkJnZyd9fX24XK4n/f1vAUSEhYUFzs7OePPmDYFAAJ/PRywWY35+nng8DoDT6SQtLe35AQBWVlYYHR0lEonQ0dHB4OAgfr+f/f19xsfHERE8Hs+TAR4sw3g8zuzsLF6vl6amJt6/f4/T6WR5efkuaW5uLlar9WUAAHZ2dvj06ROaptHY2EggEKCoqIjDw0MURSE9Pf3JlfAogHg8zuLiIllZWWiaRiAQwOv14vV6Abi8vCSZTL4cwN82NTXF5eUldrud+vr6u3FVVdE0DavVys3NDSKPb7ApNSMR4ejoiM3NTUTkzv1+P8FgkPb29pTLMSUFABwOB263+x/jlZWVGIaB1WplamqKk5OTR8VLSQGz2YzNZiMjI4NkMkk4HKarq4vt7W1ub2+pqKigra2Nd+/ePTpmSgq43W58Ph95eXkkEglWV1eZm5tjb2+Pnp4eampqKC0tpbu7G4Dp6ennBSgsLKSsrIzs7GyOjo6YmJjg+PiYs7MzbDYbuq5TU1NDeXk5ANFolIWFhecDcDqduN1u7HY75+fnGIZBaWkpW1tbLC0tkZaWhsPhoLm5merqasLhMEtLSyQSiXtjprQHTk9PCYVCnJyckJ2dTW9vL/39/dTW1uLxeDg/P+f4+JibmxscDgetra14PB5Mpt+nSal9+nw+GRkZkZ8/f4qu66LrulxdXcnMzIxsbGxIJBKRq6sr0XVdDMOQnp4esdls98ZLuQzD4TBzc3NkZmaSk5MDQH5+PlVVVVitVr5+/cqXL18oLi6mqamJ9vZ2Zmdn2d/f/+VSKDzxXaAoyt357/F4cDqdWCwWdF1HVVUCgQDBYJAfP37w4cMHDg4O7j2u//xeZzKJ2WwWi8UiZrNZVFWV/Px8+fbtm+zt7cnbt29FVdVf37qeqsBDpqoqxcXFqKrK1tYW19fXv+wRLwbwWHv1l9H/AK8O8BeQDf72ImN5IAAAAABJRU5ErkJggg==\" y=\"-114.569554\"/>\r\n   </g>\r\n   <g id=\"matplotlib.axis_27\"/>\r\n   <g id=\"matplotlib.axis_28\"/>\r\n   <g id=\"patch_68\">\r\n    <path d=\"M 218.506897 146.569554 \r\nL 218.506897 115.506696 \r\n\" style=\"fill:none;stroke:#000000;stroke-linecap:square;stroke-linejoin:miter;stroke-width:0.8;\"/>\r\n   </g>\r\n   <g id=\"patch_69\">\r\n    <path d=\"M 249.569754 146.569554 \r\nL 249.569754 115.506696 \r\n\" style=\"fill:none;stroke:#000000;stroke-linecap:square;stroke-linejoin:miter;stroke-width:0.8;\"/>\r\n   </g>\r\n   <g id=\"patch_70\">\r\n    <path d=\"M 218.506897 146.569554 \r\nL 249.569754 146.569554 \r\n\" style=\"fill:none;stroke:#000000;stroke-linecap:square;stroke-linejoin:miter;stroke-width:0.8;\"/>\r\n   </g>\r\n   <g id=\"patch_71\">\r\n    <path d=\"M 218.506897 115.506696 \r\nL 249.569754 115.506696 \r\n\" style=\"fill:none;stroke:#000000;stroke-linecap:square;stroke-linejoin:miter;stroke-width:0.8;\"/>\r\n   </g>\r\n   <g id=\"text_14\">\r\n    <!-- 8 -->\r\n    <g transform=\"translate(230.220825 109.506696)scale(0.12 -0.12)\">\r\n     <defs>\r\n      <path d=\"M 31.78125 34.625 \r\nQ 24.75 34.625 20.71875 30.859375 \r\nQ 16.703125 27.09375 16.703125 20.515625 \r\nQ 16.703125 13.921875 20.71875 10.15625 \r\nQ 24.75 6.390625 31.78125 6.390625 \r\nQ 38.8125 6.390625 42.859375 10.171875 \r\nQ 46.921875 13.96875 46.921875 20.515625 \r\nQ 46.921875 27.09375 42.890625 30.859375 \r\nQ 38.875 34.625 31.78125 34.625 \r\nz\r\nM 21.921875 38.8125 \r\nQ 15.578125 40.375 12.03125 44.71875 \r\nQ 8.5 49.078125 8.5 55.328125 \r\nQ 8.5 64.0625 14.71875 69.140625 \r\nQ 20.953125 74.21875 31.78125 74.21875 \r\nQ 42.671875 74.21875 48.875 69.140625 \r\nQ 55.078125 64.0625 55.078125 55.328125 \r\nQ 55.078125 49.078125 51.53125 44.71875 \r\nQ 48 40.375 41.703125 38.8125 \r\nQ 48.828125 37.15625 52.796875 32.3125 \r\nQ 56.78125 27.484375 56.78125 20.515625 \r\nQ 56.78125 9.90625 50.3125 4.234375 \r\nQ 43.84375 -1.421875 31.78125 -1.421875 \r\nQ 19.734375 -1.421875 13.25 4.234375 \r\nQ 6.78125 9.90625 6.78125 20.515625 \r\nQ 6.78125 27.484375 10.78125 32.3125 \r\nQ 14.796875 37.15625 21.921875 38.8125 \r\nz\r\nM 18.3125 54.390625 \r\nQ 18.3125 48.734375 21.84375 45.5625 \r\nQ 25.390625 42.390625 31.78125 42.390625 \r\nQ 38.140625 42.390625 41.71875 45.5625 \r\nQ 45.3125 48.734375 45.3125 54.390625 \r\nQ 45.3125 60.0625 41.71875 63.234375 \r\nQ 38.140625 66.40625 31.78125 66.40625 \r\nQ 25.390625 66.40625 21.84375 63.234375 \r\nQ 18.3125 60.0625 18.3125 54.390625 \r\nz\r\n\" id=\"DejaVuSans-56\"/>\r\n     </defs>\r\n     <use xlink:href=\"#DejaVuSans-56\"/>\r\n    </g>\r\n   </g>\r\n  </g>\r\n  <g id=\"axes_15\">\r\n   <g id=\"patch_72\">\r\n    <path d=\"M 287.775862 146.569554 \r\nL 318.838719 146.569554 \r\nL 318.838719 115.506696 \r\nL 287.775862 115.506696 \r\nz\r\n\" style=\"fill:#ffffff;\"/>\r\n   </g>\r\n   <g clip-path=\"url(#p6df0ab6c9b)\">\r\n    <image height=\"32\" id=\"image8d0ebadc54\" transform=\"scale(1 -1)translate(0 -32)\" width=\"32\" x=\"287.775862\" xlink:href=\"data:image/png;base64,\r\niVBORw0KGgoAAAANSUhEUgAAACAAAAAgCAYAAABzenr0AAADNklEQVR4nO2Xz0syXRTHvzozMYNNP5QSQ2KiIjelhBAURD831s6iTT831SJwm+v+gTZBbVsI1SYKwSCYJEImowKLIELSKMgos0kh+3Gezfu2fJ+ZN5/aPAcOXA73fO+Hc+89l2sAQPhBM/7k4gDA6pk8MzMDSZKwubmJcDhcEABdFaiqqkJbWxu6urpgNBameLpUEokE8vk8mpubUVZW9v0A0WgUJycnsNvtaG1tLVgVSKuzLEter5cURaGjoyMym82ac//D9SVUVFTQxMQEPTw80PT09PcDACC32003Nzd0eXlJoih+P0B5eTmNjo5SPp8nv99PgiB8LwDDMGS322l1dZXi8Ti1tLQQz/P/C0BXI5IkCU6nE5IkIZvNIhwOo7OzE0NDQ7i9vUUikQAR6ZHU3glLSkrQ09MDj8cDm82G5+dnnJ2d4f39HX19fYhEIlBVFff397oANF9km82G3t5eNDY24u7uDvl8Hh0dHSgqKkJ9fT36+/tRV1cHg8GgCwDQuFcul4s2NjZobW2NGhoaiOM46u7upsPDQ8rlcnR1dUVTU1NUWlr65w7h0tISKYpC4+PjnzFRFCkYDFImkyFZlmlsbIxMJtOfAfD5fLS7u0uBQIBYlv2MW61W2t7epmw2S9FolCYnJzVr6n4LLi4u4HA44HK5PuOpVAoLCws4ODiAw+GA1+uFxWLRpKkLIBaLYX9/HzzPw+fzQRRFAAARQZZl7O3tIZ1Oo7a2FgMDA4UHUFUVsixjZWUFbrcbw8PDYBgGAPD4+IhgMIhQKASO4+DxeDTr6utcLEsul4tCoRApikJOp5MYhiEAZDKZaHBwkHZ2digWixX+DADA29sbkskkAoEArFYrRkZGUFNTA0EQkMvlcHp6ikgkAo7jwHHcb/V0teJ/LZ1OY319HRaLBX6/H4IgYHl5Gefn58hkMojH4zCbzaisrMT19XXhAYgIT09PmJ+fRzqdxtzcHNrb27G1tYVkMommpiYAQHFxsTa9r7jBYKDq6mqanZ2l4+Njen19pVQqRYuLi9ry/xl8yYxGI3ieB8/zYFkWHx8feHl5gaqqv80tCMBX7Md/Rn8B/gL8AnZ6VQqcO0P6AAAAAElFTkSuQmCC\" y=\"-114.569554\"/>\r\n   </g>\r\n   <g id=\"matplotlib.axis_29\"/>\r\n   <g id=\"matplotlib.axis_30\"/>\r\n   <g id=\"patch_73\">\r\n    <path d=\"M 287.775862 146.569554 \r\nL 287.775862 115.506696 \r\n\" style=\"fill:none;stroke:#000000;stroke-linecap:square;stroke-linejoin:miter;stroke-width:0.8;\"/>\r\n   </g>\r\n   <g id=\"patch_74\">\r\n    <path d=\"M 318.838719 146.569554 \r\nL 318.838719 115.506696 \r\n\" style=\"fill:none;stroke:#000000;stroke-linecap:square;stroke-linejoin:miter;stroke-width:0.8;\"/>\r\n   </g>\r\n   <g id=\"patch_75\">\r\n    <path d=\"M 287.775862 146.569554 \r\nL 318.838719 146.569554 \r\n\" style=\"fill:none;stroke:#000000;stroke-linecap:square;stroke-linejoin:miter;stroke-width:0.8;\"/>\r\n   </g>\r\n   <g id=\"patch_76\">\r\n    <path d=\"M 287.775862 115.506696 \r\nL 318.838719 115.506696 \r\n\" style=\"fill:none;stroke:#000000;stroke-linecap:square;stroke-linejoin:miter;stroke-width:0.8;\"/>\r\n   </g>\r\n   <g id=\"text_15\">\r\n    <!-- 9 -->\r\n    <g transform=\"translate(299.489791 109.506696)scale(0.12 -0.12)\">\r\n     <defs>\r\n      <path d=\"M 10.984375 1.515625 \r\nL 10.984375 10.5 \r\nQ 14.703125 8.734375 18.5 7.8125 \r\nQ 22.3125 6.890625 25.984375 6.890625 \r\nQ 35.75 6.890625 40.890625 13.453125 \r\nQ 46.046875 20.015625 46.78125 33.40625 \r\nQ 43.953125 29.203125 39.59375 26.953125 \r\nQ 35.25 24.703125 29.984375 24.703125 \r\nQ 19.046875 24.703125 12.671875 31.3125 \r\nQ 6.296875 37.9375 6.296875 49.421875 \r\nQ 6.296875 60.640625 12.9375 67.421875 \r\nQ 19.578125 74.21875 30.609375 74.21875 \r\nQ 43.265625 74.21875 49.921875 64.515625 \r\nQ 56.59375 54.828125 56.59375 36.375 \r\nQ 56.59375 19.140625 48.40625 8.859375 \r\nQ 40.234375 -1.421875 26.421875 -1.421875 \r\nQ 22.703125 -1.421875 18.890625 -0.6875 \r\nQ 15.09375 0.046875 10.984375 1.515625 \r\nz\r\nM 30.609375 32.421875 \r\nQ 37.25 32.421875 41.125 36.953125 \r\nQ 45.015625 41.5 45.015625 49.421875 \r\nQ 45.015625 57.28125 41.125 61.84375 \r\nQ 37.25 66.40625 30.609375 66.40625 \r\nQ 23.96875 66.40625 20.09375 61.84375 \r\nQ 16.21875 57.28125 16.21875 49.421875 \r\nQ 16.21875 41.5 20.09375 36.953125 \r\nQ 23.96875 32.421875 30.609375 32.421875 \r\nz\r\n\" id=\"DejaVuSans-57\"/>\r\n     </defs>\r\n     <use xlink:href=\"#DejaVuSans-57\"/>\r\n    </g>\r\n   </g>\r\n  </g>\r\n  <g id=\"axes_16\">\r\n   <g id=\"patch_77\">\r\n    <path d=\"M 10.7 193.163839 \r\nL 41.762857 193.163839 \r\nL 41.762857 162.100982 \r\nL 10.7 162.100982 \r\nz\r\n\" style=\"fill:#ffffff;\"/>\r\n   </g>\r\n   <g clip-path=\"url(#pa37a4049d2)\">\r\n    <image height=\"32\" id=\"imagecbf924feb9\" transform=\"scale(1 -1)translate(0 -32)\" width=\"32\" x=\"10.7\" xlink:href=\"data:image/png;base64,\r\niVBORw0KGgoAAAANSUhEUgAAACAAAAAgCAYAAABzenr0AAACqElEQVR4nO2XvUsrQRTFz+RjEzeJYJOkMaARtBBc7QKChVpFELEQsRFb01vlj0gfLKzEMoIgFqkiYgIKQkBbG7+SiBMTzezm2DzkER7P1Xy94h243dyZ3+w9M3dWACD6KEc/F/8nAFx2BgUCASwvL2NychKapqFYLCKdTncMgl/F2NgYM5kMK5UKn5+feXBw8GWO3bBVglAohJGREQwODnZmy7/JFoBlWWg2myAJIQRcLhd0Xe8dgJQST09PqNfr0HUd09PT2NnZgdfr7QiErVolk0ne3NyQJC3L4v39PSORSCd8YG+gruvc3d2lZVk0TZOlUomrq6u9MSEA1Go1vLy8oFargSQ0TcPa2lrbXvjWRXRycoKjoyNIKeHxeBCLxbC1tdW2F2x/rqGhIW5ubvLi4oJKKSqlWCgUGIlE6HQ6u1sCAKhUKri6ukI+n4cQAkIIGIaBmZkZ+Hy+H+3+273g+voah4eHeH19BQAIIbC+vo5gMNgbgGq1ilwuh0QiASklms0mhoeHEQ6HMTAw8COIH9VO13Vub2+z0WjQsiyenp5yZWWFXq+3O/dAazidTk5MTPDy8pKNRoP1ep37+/tcXFzsDQAAejwezs7Oslwu0zRN3t7eMpVKcXx8vDunoFXv7+8oFArI5XKoVqsIBoOIxWJYWFiwPUfbL6K3tzccHx/j7u4OABCNRjE/P4/R0dHeAABANpvF+fk5Hh4eEAgEMDU1hXg8Dk3TIIT4Mr/thgKAhmFwb2+PpVKJUkqenZ3RMAz6/X4KIbpjwtZYWlpiJpOhUoqmaVIpxbm5Obrd7u6YsFXlchmPj49QStnOsfUqtqt8Pg+HwwG3242NjY3PfvE3CfyqQ6fk8/kQCoU+e0OxWISUEuSfl+k4wHfV9z+j/wB9B/gAvYcNn6Rddh8AAAAASUVORK5CYII=\" y=\"-161.163839\"/>\r\n   </g>\r\n   <g id=\"matplotlib.axis_31\"/>\r\n   <g id=\"matplotlib.axis_32\"/>\r\n   <g id=\"patch_78\">\r\n    <path d=\"M 10.7 193.163839 \r\nL 10.7 162.100982 \r\n\" style=\"fill:none;stroke:#000000;stroke-linecap:square;stroke-linejoin:miter;stroke-width:0.8;\"/>\r\n   </g>\r\n   <g id=\"patch_79\">\r\n    <path d=\"M 41.762857 193.163839 \r\nL 41.762857 162.100982 \r\n\" style=\"fill:none;stroke:#000000;stroke-linecap:square;stroke-linejoin:miter;stroke-width:0.8;\"/>\r\n   </g>\r\n   <g id=\"patch_80\">\r\n    <path d=\"M 10.7 193.163839 \r\nL 41.762857 193.163839 \r\n\" style=\"fill:none;stroke:#000000;stroke-linecap:square;stroke-linejoin:miter;stroke-width:0.8;\"/>\r\n   </g>\r\n   <g id=\"patch_81\">\r\n    <path d=\"M 10.7 162.100982 \r\nL 41.762857 162.100982 \r\n\" style=\"fill:none;stroke:#000000;stroke-linecap:square;stroke-linejoin:miter;stroke-width:0.8;\"/>\r\n   </g>\r\n   <g id=\"text_16\">\r\n    <!-- 1 -->\r\n    <g transform=\"translate(22.413929 156.100982)scale(0.12 -0.12)\">\r\n     <use xlink:href=\"#DejaVuSans-49\"/>\r\n    </g>\r\n   </g>\r\n  </g>\r\n  <g id=\"axes_17\">\r\n   <g id=\"patch_82\">\r\n    <path d=\"M 79.968966 193.163839 \r\nL 111.031823 193.163839 \r\nL 111.031823 162.100982 \r\nL 79.968966 162.100982 \r\nz\r\n\" style=\"fill:#ffffff;\"/>\r\n   </g>\r\n   <g clip-path=\"url(#pa53e2fc71c)\">\r\n    <image height=\"32\" id=\"imageddad394cbe\" transform=\"scale(1 -1)translate(0 -32)\" width=\"32\" x=\"79.968966\" xlink:href=\"data:image/png;base64,\r\niVBORw0KGgoAAAANSUhEUgAAACAAAAAgCAYAAABzenr0AAABk0lEQVR4nO2XPY7CMBCF39ghSKCgSPwoJQ0dEgUSBWeg4wLcjQNwgogCao4AUaAgSAhFpIkJmS12OUDsVbzFPsnlPH/WzNhjAsCwKGFz8z8B4JgEExFWqxWCIMBms8HpdEKe55V9WHcJIXi73fLxeOTFYsGe51X30D7+j7rdLoIggO/7cF23crwRADMjDEMwM/r9Ptrtdr0AH2VZht1uhziO7QAQEVzXhZRSK96oCA+HAyuleL1e82w2q+yh3YaNRgPz+Ryj0QhlWWK/3+N8Plf20U6BEAK9Xg+tVgvMjCRJkGVZfQBEBM/zAABFUeD5fEIpVR+AlBLD4RDAdzumaap1C2oDOI6D6XQKIoJSCmVZavn8ShuGYYg0Te0BPB4PFEVhD8BEWgBCCPi+j8lkYg+g2WxiMBgAAO73O16vV30AH4jP8xtFkVYLGgF8RESI49gOABEBAPI8174HjGZCZvOJ3jgFSZLger3WW4Tv9xuXywXL5RJRFOF2u2kDAAbDSKfT4fF4zFJK7aGG8P81+wewrC/UTvJebNONJQAAAABJRU5ErkJggg==\" y=\"-161.163839\"/>\r\n   </g>\r\n   <g id=\"matplotlib.axis_33\"/>\r\n   <g id=\"matplotlib.axis_34\"/>\r\n   <g id=\"patch_83\">\r\n    <path d=\"M 79.968966 193.163839 \r\nL 79.968966 162.100982 \r\n\" style=\"fill:none;stroke:#000000;stroke-linecap:square;stroke-linejoin:miter;stroke-width:0.8;\"/>\r\n   </g>\r\n   <g id=\"patch_84\">\r\n    <path d=\"M 111.031823 193.163839 \r\nL 111.031823 162.100982 \r\n\" style=\"fill:none;stroke:#000000;stroke-linecap:square;stroke-linejoin:miter;stroke-width:0.8;\"/>\r\n   </g>\r\n   <g id=\"patch_85\">\r\n    <path d=\"M 79.968966 193.163839 \r\nL 111.031823 193.163839 \r\n\" style=\"fill:none;stroke:#000000;stroke-linecap:square;stroke-linejoin:miter;stroke-width:0.8;\"/>\r\n   </g>\r\n   <g id=\"patch_86\">\r\n    <path d=\"M 79.968966 162.100982 \r\nL 111.031823 162.100982 \r\n\" style=\"fill:none;stroke:#000000;stroke-linecap:square;stroke-linejoin:miter;stroke-width:0.8;\"/>\r\n   </g>\r\n   <g id=\"text_17\">\r\n    <!-- 1 -->\r\n    <g transform=\"translate(91.682894 156.100982)scale(0.12 -0.12)\">\r\n     <use xlink:href=\"#DejaVuSans-49\"/>\r\n    </g>\r\n   </g>\r\n  </g>\r\n  <g id=\"axes_18\">\r\n   <g id=\"patch_87\">\r\n    <path d=\"M 149.237931 193.163839 \r\nL 180.300788 193.163839 \r\nL 180.300788 162.100982 \r\nL 149.237931 162.100982 \r\nz\r\n\" style=\"fill:#ffffff;\"/>\r\n   </g>\r\n   <g clip-path=\"url(#pe9575a79d6)\">\r\n    <image height=\"32\" id=\"image76f7e77dd1\" transform=\"scale(1 -1)translate(0 -32)\" width=\"32\" x=\"149.237931\" xlink:href=\"data:image/png;base64,\r\niVBORw0KGgoAAAANSUhEUgAAACAAAAAgCAYAAABzenr0AAAEcElEQVR4nO2Xz0tUbRTHP3d85zqNM+ncmKJEicZwUypWEGJRCUIgqCFtAiVIaNWyTf9Dq6AINxFFRdQiLDf+wIU6TT8cEn9MTlgxmDIzzA+8M84819PCN3kXqTPFm5sOnN1zv9/Pc+/znHOuBgg7GLadNP8L8BcA4J9CFtntdhwOB3a7HZttnVlEWF1dxbIslFIopRAp/kIVBHD27Fl6eno4ffo0Bw4cQETIZDI8efKEqakpPnz4QCAQIJlMFg0A63Vg02xsbJTPnz/L6uqqWJYllmWJUkqUUpLP5yWfz0sikZCHDx9KU1PTllo/y23fgK7rlJWVUVJSwq1btwgEApw4cYLLly/jdDoBcLlcnDt3jvn5eeLxOLOzswXvfksATdNobm5G13WCwSCjo6O8ffuW0tJSTNPE6XTy6tUrGhoaKC0tpaWlhWg0yvLyMqZpks1mfw8AwDAMNE0jlUqRSqVIp9OYprlx4CYnJ3n69Ckej4czZ85w4cIFqqur6e/vZ3h4+PcBcrkcAPv378flcpHNZonH46ysrOD1ejl8+DD37t0jnU6TzWa5dOkS3d3dGIaBaZr4/f7fA4hGo6ytrVFTU4PP58NutxMOh3n9+jUej4euri78fj9DQ0OMjIzgcDi4evUq7e3t2Gw2lpaW+PLlC2tra5t6bHlKW1pa5OvXr5LL5aS/v1+6urrE5XLJoUOH5NGjR7KysiKpVEqePXsm58+fl6qqKuno6JB3795JMpmUu3fvyu7du7fy2BrA5XJJb2+vhMNhicfjMjg4KL29vVJSUiK1tbVy//59MU1T4vG4jIyMyPXr1+X48ePS2dkplmXJzMyMHDlyRHRd/zUAQFpbW2V6elosy5JkMikvXryQgwcPCiANDQ3y4MEDiUajopSSTCYjy8vLMjs7K5ZlycTExJYABVXCQCDAxMQEhmHg9XqprKykoqICgKmpKfx+PzMzM5w6dYpjx45hGAYejweAK1euMDc3Rz6f/6l2QQCWZfHx40disRherxe32019fT2Tk5MopXj8+DE2m42FhQVCoRB79uzBNE36+voIhUKbmhcMkM1mCYVCxGIxYL057du3j4qKChKJBEtLSwAMDw8zPT2NrusopXjz5s222gUB5HI5gsEg4XCYo0eP4nA4qK2tpby8nEQisbEuEokQiUQKkdyIgueB+fl5hoaGGB8fJ5PJcPLkSWpqatB1vSjDn0VR3auxsVHu3Lkj6XRaBgYGpK6uTnbt2iWaphXdCSn0Gv43y8vLpb29XRYWFjbac3d3txiG8WcAAHG73dLW1rYxFyil5MaNG+Lz+YrW+qWZUCnFt2/fGBwcBNbb9t69e6mrq8Pn8xWtVzS1pmnidrulublZgsGg5HI5iUQiMjo6KteuXZOysrL/9xP8SKfTKR0dHfLy5UtZXFyUWCwmAwMDcvHixT8D8CM7Ozvl5s2b8v79e/n06ZPcvn274GcLKkTbxfPnzxkbG2NxcZGmpqaipmPtX5Idix3/M/oOYLodgE2Ua4QAAAAASUVORK5CYII=\" y=\"-161.163839\"/>\r\n   </g>\r\n   <g id=\"matplotlib.axis_35\"/>\r\n   <g id=\"matplotlib.axis_36\"/>\r\n   <g id=\"patch_88\">\r\n    <path d=\"M 149.237931 193.163839 \r\nL 149.237931 162.100982 \r\n\" style=\"fill:none;stroke:#000000;stroke-linecap:square;stroke-linejoin:miter;stroke-width:0.8;\"/>\r\n   </g>\r\n   <g id=\"patch_89\">\r\n    <path d=\"M 180.300788 193.163839 \r\nL 180.300788 162.100982 \r\n\" style=\"fill:none;stroke:#000000;stroke-linecap:square;stroke-linejoin:miter;stroke-width:0.8;\"/>\r\n   </g>\r\n   <g id=\"patch_90\">\r\n    <path d=\"M 149.237931 193.163839 \r\nL 180.300788 193.163839 \r\n\" style=\"fill:none;stroke:#000000;stroke-linecap:square;stroke-linejoin:miter;stroke-width:0.8;\"/>\r\n   </g>\r\n   <g id=\"patch_91\">\r\n    <path d=\"M 149.237931 162.100982 \r\nL 180.300788 162.100982 \r\n\" style=\"fill:none;stroke:#000000;stroke-linecap:square;stroke-linejoin:miter;stroke-width:0.8;\"/>\r\n   </g>\r\n   <g id=\"text_18\">\r\n    <!-- 6 -->\r\n    <g transform=\"translate(160.95186 156.100982)scale(0.12 -0.12)\">\r\n     <defs>\r\n      <path d=\"M 33.015625 40.375 \r\nQ 26.375 40.375 22.484375 35.828125 \r\nQ 18.609375 31.296875 18.609375 23.390625 \r\nQ 18.609375 15.53125 22.484375 10.953125 \r\nQ 26.375 6.390625 33.015625 6.390625 \r\nQ 39.65625 6.390625 43.53125 10.953125 \r\nQ 47.40625 15.53125 47.40625 23.390625 \r\nQ 47.40625 31.296875 43.53125 35.828125 \r\nQ 39.65625 40.375 33.015625 40.375 \r\nz\r\nM 52.59375 71.296875 \r\nL 52.59375 62.3125 \r\nQ 48.875 64.0625 45.09375 64.984375 \r\nQ 41.3125 65.921875 37.59375 65.921875 \r\nQ 27.828125 65.921875 22.671875 59.328125 \r\nQ 17.53125 52.734375 16.796875 39.40625 \r\nQ 19.671875 43.65625 24.015625 45.921875 \r\nQ 28.375 48.1875 33.59375 48.1875 \r\nQ 44.578125 48.1875 50.953125 41.515625 \r\nQ 57.328125 34.859375 57.328125 23.390625 \r\nQ 57.328125 12.15625 50.6875 5.359375 \r\nQ 44.046875 -1.421875 33.015625 -1.421875 \r\nQ 20.359375 -1.421875 13.671875 8.265625 \r\nQ 6.984375 17.96875 6.984375 36.375 \r\nQ 6.984375 53.65625 15.1875 63.9375 \r\nQ 23.390625 74.21875 37.203125 74.21875 \r\nQ 40.921875 74.21875 44.703125 73.484375 \r\nQ 48.484375 72.75 52.59375 71.296875 \r\nz\r\n\" id=\"DejaVuSans-54\"/>\r\n     </defs>\r\n     <use xlink:href=\"#DejaVuSans-54\"/>\r\n    </g>\r\n   </g>\r\n  </g>\r\n  <g id=\"axes_19\">\r\n   <g id=\"patch_92\">\r\n    <path d=\"M 218.506897 193.163839 \r\nL 249.569754 193.163839 \r\nL 249.569754 162.100982 \r\nL 218.506897 162.100982 \r\nz\r\n\" style=\"fill:#ffffff;\"/>\r\n   </g>\r\n   <g clip-path=\"url(#pbfe510cb70)\">\r\n    <image height=\"32\" id=\"imagedc360be057\" transform=\"scale(1 -1)translate(0 -32)\" width=\"32\" x=\"218.506897\" xlink:href=\"data:image/png;base64,\r\niVBORw0KGgoAAAANSUhEUgAAACAAAAAgCAYAAABzenr0AAADP0lEQVR4nO2Xv0vzahTHv2kSG4mUqrUEaTM5RBApEvDHZMBFUEHQoaJQQRwE/w7BTdwUpyzioqigINqhOihOjeKmRGpRm6Kg0djWnDtceMH7ernJa3l9h3sg03nON5+cPPnmPAwAwjdG4Dtv/j/AHwHA+S2ora1FU1MTotEoWJYFALy/v8OyLFiWhefnZ98Q5PXieZ5UVaWFhQUqFAp0f39PxWKRbm5uaGVlhfr6+igUChHDMJ41fQFomka6rtP5+TmlUikKhUKUSCQomUzS/v4+GYZBc3NzFI1Gqw/Q2NhIi4uLtLm5ScPDwz89Jc/zNDk5SVtbW7S6ukoNDQ2edD1vwng8DlmWYVkW0uk0iD76V7lcxtraGnRdB8/zmJmZ8aTrGYDjOHAcB9d1USqVPl1j2zay2SwMw8DAwEB1AQDAdd3/XHN7e4uLiws0NzdXHwD4uxOCIAAAeJ5HMBj8kC+VSnh5eQHP89UFqFQqICKIoohIJAKGYVBfXw9FUX74AQCEw2HEYjHPfuAZ4OHhAa+vr6irq4MkSWBZFrIsY3Z2FuFwGIFAABzHobW1Fd3d3Tg9Pa0ugGmaKBaLICKwLItKpYKzszP09vZicHAQsVgMnZ2dGB0dRVtbG5aWlrxKezei8fFx2tjYIF3XqaamhhiGoVQqRaZpkuM45DgOHRwc0MjIiGdNBj4GEkVRMD09jZ6eHoyNjeHy8hKCIEAURSQSCTAMg1wuh6urK7y9vVW/A4Ig0MTEBGUyGZqfn/+QE0WRRFEknuf92LB3JwQAx3Fgmiby+Tw0TUM8Hv+Rs20btm2jXC77kfTvA9fX1zg5OYEkSejv7/db/mn4a1kgQKqqUjabpUwmQ8Fg0Ff9T3p+aV3Xxd3dHXZ3d9He3o6WlhZwnO+55kP4pmYYhiRJonQ6TcfHxyTLMrEs+6td+LXWsSxLiqLQ09MT7e3tkaIovxcAAHEcR8lkkvL5PC0vL1NXV5fvz9CXEX0W4XAYQ0NDmJqaguu6MAwDR0dH2N7e9vRD+truAfD4+IidnR2wLAtN09DR0YFIJILDw8PfAwAAhUIB6+vryOVyUFUVAP51avpnfPkVfDW+/WT07QB/AQ12NIXDk1c/AAAAAElFTkSuQmCC\" y=\"-161.163839\"/>\r\n   </g>\r\n   <g id=\"matplotlib.axis_37\"/>\r\n   <g id=\"matplotlib.axis_38\"/>\r\n   <g id=\"patch_93\">\r\n    <path d=\"M 218.506897 193.163839 \r\nL 218.506897 162.100982 \r\n\" style=\"fill:none;stroke:#000000;stroke-linecap:square;stroke-linejoin:miter;stroke-width:0.8;\"/>\r\n   </g>\r\n   <g id=\"patch_94\">\r\n    <path d=\"M 249.569754 193.163839 \r\nL 249.569754 162.100982 \r\n\" style=\"fill:none;stroke:#000000;stroke-linecap:square;stroke-linejoin:miter;stroke-width:0.8;\"/>\r\n   </g>\r\n   <g id=\"patch_95\">\r\n    <path d=\"M 218.506897 193.163839 \r\nL 249.569754 193.163839 \r\n\" style=\"fill:none;stroke:#000000;stroke-linecap:square;stroke-linejoin:miter;stroke-width:0.8;\"/>\r\n   </g>\r\n   <g id=\"patch_96\">\r\n    <path d=\"M 218.506897 162.100982 \r\nL 249.569754 162.100982 \r\n\" style=\"fill:none;stroke:#000000;stroke-linecap:square;stroke-linejoin:miter;stroke-width:0.8;\"/>\r\n   </g>\r\n   <g id=\"text_19\">\r\n    <!-- 6 -->\r\n    <g transform=\"translate(230.220825 156.100982)scale(0.12 -0.12)\">\r\n     <use xlink:href=\"#DejaVuSans-54\"/>\r\n    </g>\r\n   </g>\r\n  </g>\r\n  <g id=\"axes_20\">\r\n   <g id=\"patch_97\">\r\n    <path d=\"M 287.775862 193.163839 \r\nL 318.838719 193.163839 \r\nL 318.838719 162.100982 \r\nL 287.775862 162.100982 \r\nz\r\n\" style=\"fill:#ffffff;\"/>\r\n   </g>\r\n   <g clip-path=\"url(#pf7d517c9fd)\">\r\n    <image height=\"32\" id=\"image58eaddcb5a\" transform=\"scale(1 -1)translate(0 -32)\" width=\"32\" x=\"287.775862\" xlink:href=\"data:image/png;base64,\r\niVBORw0KGgoAAAANSUhEUgAAACAAAAAgCAYAAABzenr0AAACpElEQVR4nO2XsUvrYBTFT5JK0NhSsJpOUktxymzVDopQqEOHDg4uzv1rxEUEHcRRpGRtlrZ7t6KIIEUFLVpLoKXW0Hw9b3k6PHgaNW3f8A5cyHAv+eXcw5dEAkCMUfI4b/5PAAS8NubzeSwsLODi4gLFYhFPT0++QfCzSiQSrFQqtG2bpmkylUp9OuO1PK3AMAzMzMxA0zREo1HE43F/Hh0eM3B+fo5WqwXXdaGqKkKhEFRV9Q3Ck1WmabLdblMIwcvLS2azWb/W4K1xc3OTpVKJQgjats1CocBwODyaDABAp9OB4zgAgGAwiNXVVSwuLnod/6s8AzQaDdze3sK2bUiSBE3TsL6+DkmSfgzhySpN05hOp3l0dMRms0nHcVitVrm9vU1VVYefAQCcmppiLpdjuVymEIL9fp/lcpnRaJSyLA83AwDw8vKCWq0Gy7LQbDahKArW1tawsrKCcDgMWf7eyf5l6lgsxsPDQ7quy8FgwOvra2YyGU5PTw/XgTc9Pz/j7OwMj4+PIIl4PI6NjQ3Mz8+PxgEADAaDPDg44P39PV3X5dXVFXd2dr7jwvcAJEliKBTi/v4+e70e+/0+q9Uq8/k8JyYmhg/wVrFYjK1Wi4PBgJ1Oh8VikblcbnQAAFir1fj6+kohBB8eHnhycsJEIjG8EP4p0zRRr9fhOA4ikQiSySTS6TQURfE0/2MHdF3n7u4u6/U6hRBst9u0LItzc3OjWQEAGobB09NT9nq99zfm1tYWA4HAaAAURWEmk2GhUHg/pm9ubmgYBhVFGW4GAEAIgUqlAsuyYNs2ZFmGrutYXl5GIPDxt68vDrzV0tISj4+P2e12ube3x8nJyQ/7pd8XvknTNOi6jtnZWTQaDdzd3X3Y7zvAVzX2P6P/AGMH+AUso7VFtFHWzAAAAABJRU5ErkJggg==\" y=\"-161.163839\"/>\r\n   </g>\r\n   <g id=\"matplotlib.axis_39\"/>\r\n   <g id=\"matplotlib.axis_40\"/>\r\n   <g id=\"patch_98\">\r\n    <path d=\"M 287.775862 193.163839 \r\nL 287.775862 162.100982 \r\n\" style=\"fill:none;stroke:#000000;stroke-linecap:square;stroke-linejoin:miter;stroke-width:0.8;\"/>\r\n   </g>\r\n   <g id=\"patch_99\">\r\n    <path d=\"M 318.838719 193.163839 \r\nL 318.838719 162.100982 \r\n\" style=\"fill:none;stroke:#000000;stroke-linecap:square;stroke-linejoin:miter;stroke-width:0.8;\"/>\r\n   </g>\r\n   <g id=\"patch_100\">\r\n    <path d=\"M 287.775862 193.163839 \r\nL 318.838719 193.163839 \r\n\" style=\"fill:none;stroke:#000000;stroke-linecap:square;stroke-linejoin:miter;stroke-width:0.8;\"/>\r\n   </g>\r\n   <g id=\"patch_101\">\r\n    <path d=\"M 287.775862 162.100982 \r\nL 318.838719 162.100982 \r\n\" style=\"fill:none;stroke:#000000;stroke-linecap:square;stroke-linejoin:miter;stroke-width:0.8;\"/>\r\n   </g>\r\n   <g id=\"text_20\">\r\n    <!-- 1 -->\r\n    <g transform=\"translate(299.489791 156.100982)scale(0.12 -0.12)\">\r\n     <use xlink:href=\"#DejaVuSans-49\"/>\r\n    </g>\r\n   </g>\r\n  </g>\r\n  <g id=\"axes_21\">\r\n   <g id=\"patch_102\">\r\n    <path d=\"M 10.7 239.758125 \r\nL 41.762857 239.758125 \r\nL 41.762857 208.695268 \r\nL 10.7 208.695268 \r\nz\r\n\" style=\"fill:#ffffff;\"/>\r\n   </g>\r\n   <g clip-path=\"url(#p5854f6f990)\">\r\n    <image height=\"32\" id=\"image1576090541\" transform=\"scale(1 -1)translate(0 -32)\" width=\"32\" x=\"10.7\" xlink:href=\"data:image/png;base64,\r\niVBORw0KGgoAAAANSUhEUgAAACAAAAAgCAYAAABzenr0AAADcklEQVR4nO2XzUsyexTHv6OjvTiSNFhCRe40hJRecNUmkjZGuAiCCmxXELgN2hf9AYIQbdrWqk2QUBqR5SqjqIUUJZZOTI4OiTnquZt7g+fh4vXt3ocLz4GBgeF8z2e+8zvnMAwAwi8MVStEdDod1tbWEAqFEAgEMDAwUHMu22zxzs5ObGxswO12Q1EUPD09QZKkmvObdmBsbAwzMzNoa2tDOBxGOBxGPp//bwAYhoHH44HZbMbV1RWOjo5wf3+Pcrlclw41enEcR8/Pz6QoCi0tLRHP83VrNHwGWJaF1Wr9PnCCIODz87NunYY/gUajgdPpRKVSAVHjndwwQLlcxuPjY8OFmwYoFos4PT1t6u2bAmBZFg6HAwzD/BoAhmGg0+m+AYaGhmA0GuvW+ccuMBqNmJycBMdx+Pr6giiKSCaTSCaTEEURqVQKPT09sFgs4HkeiUSidQAsy2J6ehpbW1vo7e1FLpdDPB5HNBrF+fk5MpkMXl5ewPM8BgcHYTAY6ir+V/ztgGAYhrq7u+nt7Y0URaFMJkOCIJAoiiTLMuXzeUokEpRMJklRFBJFkbxeL6nV6roGUdUzoNVqwfM8GIaB1+uF3W7H7Ows/H4/YrEY9Ho9TCYTVCoVurq6MDo6CpvN9u84EAqFyOVyfT/TaDRktVrp8vKSCoUClUolikajtLKyQu3t7fW4UMUelYo2NzdJlmWSZZnC4TAtLy+TVqslAKRWq8lkMtH8/Dzd3d1RPp+ns7MzWlxcbA0AAOrv7ye/30+pVIpyuRwdHx/TwsICdXR0fLthMBjo8PCQstksZbNZCgaD5HQ6WwMAgBwOB21vb9PDwwO9v79TMBik1dXVH6z2+XwUi8WoVCpROp2mQCBAHMe1ZhteX1+jUqmgUCjA7XZjfHwcer0egiAgEokgnU4jFArB4XCgr68PBoMBLpcLw8PDuLi4qKpd8yS8vb3Fzs4O9vb2IAgCbDYb1tfX4fF4YLfbodFo8PHxAUmSwLIsjEYjpqamahrVdfWt2Wwmn89H8XicZFmmYrFIkUiEbm5u6PX1lSRJIkmSSBRF2t3dJYZhquoxf97UFRzHYWRkBHNzc5iYmIDVaoVarcbBwQFOTk5ARLBYLNjf30c0Gq2q1RDAdzLD/GDxz6u5llXdFEAroiU/Jr8BfgP8rwH+AJBOL/5OzJsKAAAAAElFTkSuQmCC\" y=\"-207.758125\"/>\r\n   </g>\r\n   <g id=\"matplotlib.axis_41\"/>\r\n   <g id=\"matplotlib.axis_42\"/>\r\n   <g id=\"patch_103\">\r\n    <path d=\"M 10.7 239.758125 \r\nL 10.7 208.695268 \r\n\" style=\"fill:none;stroke:#000000;stroke-linecap:square;stroke-linejoin:miter;stroke-width:0.8;\"/>\r\n   </g>\r\n   <g id=\"patch_104\">\r\n    <path d=\"M 41.762857 239.758125 \r\nL 41.762857 208.695268 \r\n\" style=\"fill:none;stroke:#000000;stroke-linecap:square;stroke-linejoin:miter;stroke-width:0.8;\"/>\r\n   </g>\r\n   <g id=\"patch_105\">\r\n    <path d=\"M 10.7 239.758125 \r\nL 41.762857 239.758125 \r\n\" style=\"fill:none;stroke:#000000;stroke-linecap:square;stroke-linejoin:miter;stroke-width:0.8;\"/>\r\n   </g>\r\n   <g id=\"patch_106\">\r\n    <path d=\"M 10.7 208.695268 \r\nL 41.762857 208.695268 \r\n\" style=\"fill:none;stroke:#000000;stroke-linecap:square;stroke-linejoin:miter;stroke-width:0.8;\"/>\r\n   </g>\r\n   <g id=\"text_21\">\r\n    <!-- 9 -->\r\n    <g transform=\"translate(22.413929 202.695268)scale(0.12 -0.12)\">\r\n     <use xlink:href=\"#DejaVuSans-57\"/>\r\n    </g>\r\n   </g>\r\n  </g>\r\n  <g id=\"axes_22\">\r\n   <g id=\"patch_107\">\r\n    <path d=\"M 79.968966 239.758125 \r\nL 111.031823 239.758125 \r\nL 111.031823 208.695268 \r\nL 79.968966 208.695268 \r\nz\r\n\" style=\"fill:#ffffff;\"/>\r\n   </g>\r\n   <g clip-path=\"url(#p8fb2a6ea88)\">\r\n    <image height=\"32\" id=\"image8525ae3baf\" transform=\"scale(1 -1)translate(0 -32)\" width=\"32\" x=\"79.968966\" xlink:href=\"data:image/png;base64,\r\niVBORw0KGgoAAAANSUhEUgAAACAAAAAgCAYAAABzenr0AAADuUlEQVR4nO2XOUhjXxTGv+xGfDERJSgEVzRoIVqIpJGYQgTBwgVXtNFKe8VGsLKyjLWFYOPWKSJGjGsloqCImjyMaMQYk0jM8r4p5q8wOPpPZjJjMx+c5p1z7/vdc8893CsDQHyh5F/5838AAKBMJthkMsFsNiMzMxN7e3sQRTElEEzU2tvbuba2xrOzM3Z2diY87jNLaguKi4tRVFQEQRBgtVqRnp7+Wyt/VcK0WVlZHBoaoiiK9Pv9HB8fp0wm+90sJDegurqa09PTjEajFEWRJpOJcrn87wFotVrW1NRwdnaW0WiU+/v71Ov1qa8BjUaDtrY2GI1GyGSyt+/hcBiXl5dYXV1FOBxGRUUFrFYrysrKUFBQAKPRiLS0tI+mfacPj6FarUZjYyMsFguWl5dxcHCAYDAIknh+fsbV1RVEUURpaSmGh4dxf3+PWCwGj8eDzc1NLC8v/x7A62q7urqQnZ0Ns9mMg4MDiKIIQRBQWVkJlUoFAKirqwMAkITH44FGo8H6+jqCweCvA4TDYSwsLKC+vh4tLS1oamrC/Pw8tra2oNPp0N/fj8LCQoRCIajVaiiVSkiShJeXF8TjcQiCkBAA8D9F0traSlEUGYlEGI/H+fj4SFEUGQ6H6ff7ubKywsPDQz4+PtLn83FqaoparTZ1p0ChULCjo4NnZ2eUJImSJNHv99PhcHBkZIQajYZGo5EzMzO8ubnh8fExx8bGUn8MS0pKaLfbeXt7S1EUOTEx8UMT6u7uptPpZCQS4enpKXt7e1MLoFAoaDKZODo6Sq/Xy4uLC9bW1r75NRoNBwYGuLOzw0AgQKfTmfpGpFAoaLPZuLi4yEAgwKWlJRoMhrdM5OXlcXBwkLu7u3x4eKDdbqdKpUptJ8zJyWFPTw/dbjfv7u5YXV1NhULxvavJ5SwvL+fExARDoRCvr69ZW1tLpVKZfCf8SF6vF0dHRwgGgzAYDMjMzIRc/n0aSZLgcrmwvb2NYDAIo9GI/Pz8N//P9Es3opeXF3g8Hjw9PSEQCIDkmy8UCsHlcuHk5ASSJCE3NxcZGRmfQiS1BQAoCAJtNhvn5uZ+qIFXy8rKYl9fH29vb3l+fs6GhgZmZGSkpgYSNb1ez42NDcZiMTocDprN5tTUQKKKxWLY399HNBpFVVUVmpubUVBQ8NPYP5IBmUxGQRBot9vp8/k4NzdHi8XyLi6pW3EyIolAIIDJyUmUlpbCYDBAp9O9i5P9R/JH1dDQALVajcPDQ7jd7r8P8Jm+/GX0D+AbBHcKpYns3+4AAAAASUVORK5CYII=\" y=\"-207.758125\"/>\r\n   </g>\r\n   <g id=\"matplotlib.axis_43\"/>\r\n   <g id=\"matplotlib.axis_44\"/>\r\n   <g id=\"patch_108\">\r\n    <path d=\"M 79.968966 239.758125 \r\nL 79.968966 208.695268 \r\n\" style=\"fill:none;stroke:#000000;stroke-linecap:square;stroke-linejoin:miter;stroke-width:0.8;\"/>\r\n   </g>\r\n   <g id=\"patch_109\">\r\n    <path d=\"M 111.031823 239.758125 \r\nL 111.031823 208.695268 \r\n\" style=\"fill:none;stroke:#000000;stroke-linecap:square;stroke-linejoin:miter;stroke-width:0.8;\"/>\r\n   </g>\r\n   <g id=\"patch_110\">\r\n    <path d=\"M 79.968966 239.758125 \r\nL 111.031823 239.758125 \r\n\" style=\"fill:none;stroke:#000000;stroke-linecap:square;stroke-linejoin:miter;stroke-width:0.8;\"/>\r\n   </g>\r\n   <g id=\"patch_111\">\r\n    <path d=\"M 79.968966 208.695268 \r\nL 111.031823 208.695268 \r\n\" style=\"fill:none;stroke:#000000;stroke-linecap:square;stroke-linejoin:miter;stroke-width:0.8;\"/>\r\n   </g>\r\n   <g id=\"text_22\">\r\n    <!-- 4 -->\r\n    <g transform=\"translate(91.682894 202.695268)scale(0.12 -0.12)\">\r\n     <use xlink:href=\"#DejaVuSans-52\"/>\r\n    </g>\r\n   </g>\r\n  </g>\r\n  <g id=\"axes_23\">\r\n   <g id=\"patch_112\">\r\n    <path d=\"M 149.237931 239.758125 \r\nL 180.300788 239.758125 \r\nL 180.300788 208.695268 \r\nL 149.237931 208.695268 \r\nz\r\n\" style=\"fill:#ffffff;\"/>\r\n   </g>\r\n   <g clip-path=\"url(#p511c5bb0ed)\">\r\n    <image height=\"32\" id=\"image1224f7e33e\" transform=\"scale(1 -1)translate(0 -32)\" width=\"32\" x=\"149.237931\" xlink:href=\"data:image/png;base64,\r\niVBORw0KGgoAAAANSUhEUgAAACAAAAAgCAYAAABzenr0AAABbElEQVR4nO3XMYrCQBTG8f9s4hgMQQtBi4AQQbARL2DhJSy8gCfwcjZiY6fYi4WdBGyiKZQJs93ust2+yARhvwO89+MlMy9RgKXCfFTZ/L0BSina7TbL5ZLpdEoURaI6vhSgtWYymbBYLIjjmNPpxO12+3Md8QTq9Tqz2YwkSRiPxzQaDVEdMcD3fQaDAQBZlmGMcQdQSqG1JggCALbbrWj8YkCtVqPb7TIcDkVNSwN+Z7PZkGVZdYA8zymKojqAtfLb/CWAKIrwPK86QBzHaK3dA5RSACRJ8nUknQJ+IqQpDSjzApYGlG1eGvCKiNcxfD9/Y4x4GqUnUBQF5/OZx+PhDuB5HmEYYq0lTVP2+z15nrsDhGHIaDTCWstqteJyubj9Huh0OszncwCOx6N4EYkAvu/TarXo9/sApGnqdhkZY7her+x2O+73O+v1mufzKQYoBH9GQRDQ6/VoNpscDgf3gFem8pvwH1A54BP1MXmzUqosBwAAAABJRU5ErkJggg==\" y=\"-207.758125\"/>\r\n   </g>\r\n   <g id=\"matplotlib.axis_45\"/>\r\n   <g id=\"matplotlib.axis_46\"/>\r\n   <g id=\"patch_113\">\r\n    <path d=\"M 149.237931 239.758125 \r\nL 149.237931 208.695268 \r\n\" style=\"fill:none;stroke:#000000;stroke-linecap:square;stroke-linejoin:miter;stroke-width:0.8;\"/>\r\n   </g>\r\n   <g id=\"patch_114\">\r\n    <path d=\"M 180.300788 239.758125 \r\nL 180.300788 208.695268 \r\n\" style=\"fill:none;stroke:#000000;stroke-linecap:square;stroke-linejoin:miter;stroke-width:0.8;\"/>\r\n   </g>\r\n   <g id=\"patch_115\">\r\n    <path d=\"M 149.237931 239.758125 \r\nL 180.300788 239.758125 \r\n\" style=\"fill:none;stroke:#000000;stroke-linecap:square;stroke-linejoin:miter;stroke-width:0.8;\"/>\r\n   </g>\r\n   <g id=\"patch_116\">\r\n    <path d=\"M 149.237931 208.695268 \r\nL 180.300788 208.695268 \r\n\" style=\"fill:none;stroke:#000000;stroke-linecap:square;stroke-linejoin:miter;stroke-width:0.8;\"/>\r\n   </g>\r\n   <g id=\"text_23\">\r\n    <!-- 1 -->\r\n    <g transform=\"translate(160.95186 202.695268)scale(0.12 -0.12)\">\r\n     <use xlink:href=\"#DejaVuSans-49\"/>\r\n    </g>\r\n   </g>\r\n  </g>\r\n  <g id=\"axes_24\">\r\n   <g id=\"patch_117\">\r\n    <path d=\"M 218.506897 239.758125 \r\nL 249.569754 239.758125 \r\nL 249.569754 208.695268 \r\nL 218.506897 208.695268 \r\nz\r\n\" style=\"fill:#ffffff;\"/>\r\n   </g>\r\n   <g clip-path=\"url(#pf4d39286c8)\">\r\n    <image height=\"32\" id=\"image4962589986\" transform=\"scale(1 -1)translate(0 -32)\" width=\"32\" x=\"218.506897\" xlink:href=\"data:image/png;base64,\r\niVBORw0KGgoAAAANSUhEUgAAACAAAAAgCAYAAABzenr0AAADDElEQVR4nO2Vu0sjURTGv7mMM0bFTAaMz4kIKcVXE2IxBLHSIsEHWiiWsbcS7MSA/gGWNraCWsZSYSDCVDaKGiRqJCBJFDMZMpM52ywWu2AyrpuFxQ9uc7nn43fPPfccDgDhH4rVOjAyMoKzszNsb29DVVV4vd4vh6CPVltbG21sbJCu65RMJmllZYV4nv8wxs2qmYG3tzccHR3h4uICiqJgdnYW09PTX3b7mgAAcHV1hePjYzw9PWF0dBQzMzNQFKVxAJZl4fT0FJqmwTRNhEIhRKNR+Hy+L4Go+72CwSAlEgkqFAqUzWZpfn7+K+rAXYCqqnR4eEilUon29/eJMdZYAEEQKBKJ0P39PVUqFVpbWyOPx9M4AADU3t5Ok5OTdHJyQul0mhYXF0mSpMYBMMbI5/PR6uoqlctlOjg4oFAo9KlM1PULfpXjODAMA4VCAYIgIBwOw+/3o6mpybXXpwAAgIjw+voKAOjq6oIoiuA4rjEAjDF4PB7k83kQEQCgo6MDLS0trr14twGiKMLv92NwcBA9PT3v+7FYDNfX18jlcnAcx5Wnq6JZWFig29tbMgyDbNumarVK1WqVSqUSra+vU3d3998twubmZkiSBMYYdF2HruuwLAuiKEJRFHR2drrycw1QLBaRyWRgmiZ2d3cRjUYxMTGBRCIBWZaxs7ODvb09BIPBuvxc14DjOLBtG0QExhhyuRyKxSLu7u4QCAQQi8UwNzcHr9eLeDyO5+fnD/1cZ4AxBp7nwfM8xsbGQEQol8vIZrNIp9PI5/OQJAnDw8OQZbmmn+sMPD4+IpVKobe3F6qqYmlpCZlMBg8PDwgEAhgYGADP87AsC6Zp1vTj8LMf1ytBEDA0NITNzU2Mj4/Dtm1omobz83P09/cjHA6jr68PqVQKU1NTsG27pqfr/t3a2kqRSISSySS9vLxQpVJ5/5KmadLNzQ1tbW39vWEEgDiOI1mWKR6P0+XlJRmGQZZlkaZptLy8XL+P2yf4VRzH/TYDiOi9RdeM/1OAP9Wnp+E3wDfAfwPwA5TbOM8X5cHjAAAAAElFTkSuQmCC\" y=\"-207.758125\"/>\r\n   </g>\r\n   <g id=\"matplotlib.axis_47\"/>\r\n   <g id=\"matplotlib.axis_48\"/>\r\n   <g id=\"patch_118\">\r\n    <path d=\"M 218.506897 239.758125 \r\nL 218.506897 208.695268 \r\n\" style=\"fill:none;stroke:#000000;stroke-linecap:square;stroke-linejoin:miter;stroke-width:0.8;\"/>\r\n   </g>\r\n   <g id=\"patch_119\">\r\n    <path d=\"M 249.569754 239.758125 \r\nL 249.569754 208.695268 \r\n\" style=\"fill:none;stroke:#000000;stroke-linecap:square;stroke-linejoin:miter;stroke-width:0.8;\"/>\r\n   </g>\r\n   <g id=\"patch_120\">\r\n    <path d=\"M 218.506897 239.758125 \r\nL 249.569754 239.758125 \r\n\" style=\"fill:none;stroke:#000000;stroke-linecap:square;stroke-linejoin:miter;stroke-width:0.8;\"/>\r\n   </g>\r\n   <g id=\"patch_121\">\r\n    <path d=\"M 218.506897 208.695268 \r\nL 249.569754 208.695268 \r\n\" style=\"fill:none;stroke:#000000;stroke-linecap:square;stroke-linejoin:miter;stroke-width:0.8;\"/>\r\n   </g>\r\n   <g id=\"text_24\">\r\n    <!-- 9 -->\r\n    <g transform=\"translate(230.220825 202.695268)scale(0.12 -0.12)\">\r\n     <use xlink:href=\"#DejaVuSans-57\"/>\r\n    </g>\r\n   </g>\r\n  </g>\r\n  <g id=\"axes_25\">\r\n   <g id=\"patch_122\">\r\n    <path d=\"M 287.775862 239.758125 \r\nL 318.838719 239.758125 \r\nL 318.838719 208.695268 \r\nL 287.775862 208.695268 \r\nz\r\n\" style=\"fill:#ffffff;\"/>\r\n   </g>\r\n   <g clip-path=\"url(#p491ac6a5b4)\">\r\n    <image height=\"32\" id=\"image69fed486a5\" transform=\"scale(1 -1)translate(0 -32)\" width=\"32\" x=\"287.775862\" xlink:href=\"data:image/png;base64,\r\niVBORw0KGgoAAAANSUhEUgAAACAAAAAgCAYAAABzenr0AAADW0lEQVR4nO2XQUsqbRTH/+M0jopiRmFQTdQ0i4K0RYtqF32AWrZr2S7oA7QS2gbt2rQKXLhoFVIEuonQhaCRxUQEaTFSamXmOM7MuYuX5L7vm5YldRf3D2dznjnP+c3DmTPnYQAQflCWn0z+F+CPAOhotsjzPCRJgq7reHx8RLFYhKqq3wPAsiyGhoYQDAaRz+cRiUSwt7eHdDoNTdOg63rbIOgts9vttLq6SqZp0qtSqRStr6/T5OQkWa1WYhjmXWu0/6sxaNAHLBYLvF4vNjY2sLCwAJ7n/6ElgqZpuLu7AxEhnU7j9PT0zRMhIuzs7ODs7AyGYbR2AgDIYrFQd3c3TU1NUSAQoGQySZqmERGRYRikqirlcjkqlUpULpepXC5TPp+nTCZT9wcCAXI4HA1zNC1C0zSRz+fx/PyMTCaDw8ND9Pf3w263g4igqioKhQJ8Ph8WFxeRTqcRjUZxfX0Nj8eDpaUlyLLc9O2bArweo6qquLm5QaFQwMnJCTo6OkBEMAwDqqpibm4Obrcbt7e3iMViuLi4gM1mQy6Xw9XVFWq12ucBflelUkGlUvmff2xsDD09PeA4Drqu15+LRCLv7tnWRuR0OuFwOFqK+TIAwzBgWRYA4Ha70dnZ+b0AXV1dGBgYAM/zEEURoii2FP9uDVitVgwPD4Nl2XrVF4vF+rrT6YTX6wXHcUilUkgmk+0BYFkWIyMj2N7ehiRJYFkWLy8vkGUZ4XAYoVAI2WwWDMPUY6rVatOKbwnANE3c399ja2sLkiRBFEVMTEzA7/dDkiTMz89jc3MTiUTiXxBErQ1YDQGICE9PTzg4OEAsFoPH40FfXx9GR0cxMzOD2dlZrKys4OjoCDabraWkHwIAgFqtBkVRoChK3dfb24vLy0u4XC5MT09DEIT6f6LtAG9JURTs7++DZVkIggBBED6dHPjkZ1goFLC7u4tgMPjlAeXTfaBcLmNtbQ2hUAjVarXu/70gP6p3h4Zm5vP5qFgsEhFRIpGg5eXlDw0ir/blTvjw8ABN0wAA4+Pj8Pv94Djuw/EtF+F/pSgKzs/P4XK5UK1WUSqVYJrm9wFomoZsNovBwUEcHx8jGo02HUDaDgAA4XAYsiwjHo8jHo+31A0bDqXfpR+/Gf04wC+Uf99Y+iIhIgAAAABJRU5ErkJggg==\" y=\"-207.758125\"/>\r\n   </g>\r\n   <g id=\"matplotlib.axis_49\"/>\r\n   <g id=\"matplotlib.axis_50\"/>\r\n   <g id=\"patch_123\">\r\n    <path d=\"M 287.775862 239.758125 \r\nL 287.775862 208.695268 \r\n\" style=\"fill:none;stroke:#000000;stroke-linecap:square;stroke-linejoin:miter;stroke-width:0.8;\"/>\r\n   </g>\r\n   <g id=\"patch_124\">\r\n    <path d=\"M 318.838719 239.758125 \r\nL 318.838719 208.695268 \r\n\" style=\"fill:none;stroke:#000000;stroke-linecap:square;stroke-linejoin:miter;stroke-width:0.8;\"/>\r\n   </g>\r\n   <g id=\"patch_125\">\r\n    <path d=\"M 287.775862 239.758125 \r\nL 318.838719 239.758125 \r\n\" style=\"fill:none;stroke:#000000;stroke-linecap:square;stroke-linejoin:miter;stroke-width:0.8;\"/>\r\n   </g>\r\n   <g id=\"patch_126\">\r\n    <path d=\"M 287.775862 208.695268 \r\nL 318.838719 208.695268 \r\n\" style=\"fill:none;stroke:#000000;stroke-linecap:square;stroke-linejoin:miter;stroke-width:0.8;\"/>\r\n   </g>\r\n   <g id=\"text_25\">\r\n    <!-- 1 -->\r\n    <g transform=\"translate(299.489791 202.695268)scale(0.12 -0.12)\">\r\n     <use xlink:href=\"#DejaVuSans-49\"/>\r\n    </g>\r\n   </g>\r\n  </g>\r\n </g>\r\n <defs>\r\n  <clipPath id=\"pea77e7b404\">\r\n   <rect height=\"31.062857\" width=\"31.062857\" x=\"10.7\" y=\"22.318125\"/>\r\n  </clipPath>\r\n  <clipPath id=\"pcccf563bbe\">\r\n   <rect height=\"31.062857\" width=\"31.062857\" x=\"79.968966\" y=\"22.318125\"/>\r\n  </clipPath>\r\n  <clipPath id=\"p958c6a6bc9\">\r\n   <rect height=\"31.062857\" width=\"31.062857\" x=\"149.237931\" y=\"22.318125\"/>\r\n  </clipPath>\r\n  <clipPath id=\"p9e5c5396f7\">\r\n   <rect height=\"31.062857\" width=\"31.062857\" x=\"218.506897\" y=\"22.318125\"/>\r\n  </clipPath>\r\n  <clipPath id=\"pc276b22e39\">\r\n   <rect height=\"31.062857\" width=\"31.062857\" x=\"287.775862\" y=\"22.318125\"/>\r\n  </clipPath>\r\n  <clipPath id=\"pf9c68e73bb\">\r\n   <rect height=\"31.062857\" width=\"31.062857\" x=\"10.7\" y=\"68.912411\"/>\r\n  </clipPath>\r\n  <clipPath id=\"p6f96935c99\">\r\n   <rect height=\"31.062857\" width=\"31.062857\" x=\"79.968966\" y=\"68.912411\"/>\r\n  </clipPath>\r\n  <clipPath id=\"pc9fdf924e0\">\r\n   <rect height=\"31.062857\" width=\"31.062857\" x=\"149.237931\" y=\"68.912411\"/>\r\n  </clipPath>\r\n  <clipPath id=\"pb495ac5e67\">\r\n   <rect height=\"31.062857\" width=\"31.062857\" x=\"218.506897\" y=\"68.912411\"/>\r\n  </clipPath>\r\n  <clipPath id=\"pc4a1944785\">\r\n   <rect height=\"31.062857\" width=\"31.062857\" x=\"287.775862\" y=\"68.912411\"/>\r\n  </clipPath>\r\n  <clipPath id=\"p81d407d238\">\r\n   <rect height=\"31.062857\" width=\"31.062857\" x=\"10.7\" y=\"115.506696\"/>\r\n  </clipPath>\r\n  <clipPath id=\"p36ce9274e9\">\r\n   <rect height=\"31.062857\" width=\"31.062857\" x=\"79.968966\" y=\"115.506696\"/>\r\n  </clipPath>\r\n  <clipPath id=\"p3cd04423a6\">\r\n   <rect height=\"31.062857\" width=\"31.062857\" x=\"149.237931\" y=\"115.506696\"/>\r\n  </clipPath>\r\n  <clipPath id=\"p835ada5de2\">\r\n   <rect height=\"31.062857\" width=\"31.062857\" x=\"218.506897\" y=\"115.506696\"/>\r\n  </clipPath>\r\n  <clipPath id=\"p6df0ab6c9b\">\r\n   <rect height=\"31.062857\" width=\"31.062857\" x=\"287.775862\" y=\"115.506696\"/>\r\n  </clipPath>\r\n  <clipPath id=\"pa37a4049d2\">\r\n   <rect height=\"31.062857\" width=\"31.062857\" x=\"10.7\" y=\"162.100982\"/>\r\n  </clipPath>\r\n  <clipPath id=\"pa53e2fc71c\">\r\n   <rect height=\"31.062857\" width=\"31.062857\" x=\"79.968966\" y=\"162.100982\"/>\r\n  </clipPath>\r\n  <clipPath id=\"pe9575a79d6\">\r\n   <rect height=\"31.062857\" width=\"31.062857\" x=\"149.237931\" y=\"162.100982\"/>\r\n  </clipPath>\r\n  <clipPath id=\"pbfe510cb70\">\r\n   <rect height=\"31.062857\" width=\"31.062857\" x=\"218.506897\" y=\"162.100982\"/>\r\n  </clipPath>\r\n  <clipPath id=\"pf7d517c9fd\">\r\n   <rect height=\"31.062857\" width=\"31.062857\" x=\"287.775862\" y=\"162.100982\"/>\r\n  </clipPath>\r\n  <clipPath id=\"p5854f6f990\">\r\n   <rect height=\"31.062857\" width=\"31.062857\" x=\"10.7\" y=\"208.695268\"/>\r\n  </clipPath>\r\n  <clipPath id=\"p8fb2a6ea88\">\r\n   <rect height=\"31.062857\" width=\"31.062857\" x=\"79.968966\" y=\"208.695268\"/>\r\n  </clipPath>\r\n  <clipPath id=\"p511c5bb0ed\">\r\n   <rect height=\"31.062857\" width=\"31.062857\" x=\"149.237931\" y=\"208.695268\"/>\r\n  </clipPath>\r\n  <clipPath id=\"pf4d39286c8\">\r\n   <rect height=\"31.062857\" width=\"31.062857\" x=\"218.506897\" y=\"208.695268\"/>\r\n  </clipPath>\r\n  <clipPath id=\"p491ac6a5b4\">\r\n   <rect height=\"31.062857\" width=\"31.062857\" x=\"287.775862\" y=\"208.695268\"/>\r\n  </clipPath>\r\n </defs>\r\n</svg>\r\n",
            "image/png": "[encoded data removed]"
          },
          "metadata": {}
        }
      ]
    },
    {
      "cell_type": "markdown",
      "metadata": {
        "id": "WoNhnQtRNhHu"
      },
      "source": [
        "We have 60000 training samples and 10000 test samples, where each image has a shape of 28×28 pixels. Visualising the data before deploying any algorithm is always a good idea: it is a quick sanity check that can prevent avoidable mistakes."
      ]
    },
    {
      "cell_type": "markdown",
      "metadata": {
        "id": "DohVlsvsN9np"
      },
      "source": [
        "## Preprocessing Keras Datasets\n",
        "\n",
        "In this first example, we train a simple model to classify the digits on MNIST dataset. \n",
        "\n",
        "As will be studied in the lectures, convolutional layers are usually employed to classify images. However, for the time being, we use only `Dense` layers. Thus, we have to reshape the images into a 1D array to have a single dimension, and define an architecture that could be used in any 1D data, *e.g.*, time series. We will see on following weeks that when using Convolutional Neural Networks (CNNs) we must define a 3D shape for images (depth, width, height). CNNs usually have higher performance compared to models with only `Dense` layers when applied to 2D data.\n",
        "\n",
        "Let's transform the 2D images into 1D arrays."
      ]
    },
    {
      "cell_type": "code",
      "metadata": {
        "id": "aa6-T9T9PABQ",
        "colab": {
          "base_uri": "https://localhost:8080/"
        },
        "outputId": "9762b8ef-2581-4e01-cee6-24bf7244282d"
      },
      "source": [
        "X_train_flatten = X_train.reshape(X_train.shape[0], X_train.shape[1] * X_train.shape[2])\n",
        "X_test_flatten = X_test.reshape(X_test.shape[0], X_test.shape[1] * X_test.shape[2])\n",
        "\n",
        "print('New X_train shape: {0}'.format(X_train_flatten.shape))"
      ],
      "execution_count": 18,
      "outputs": [
        {
          "output_type": "stream",
          "name": "stdout",
          "text": [
            "New X_train shape: (60000, 784)\n"
          ]
        }
      ]
    },
    {
      "cell_type": "markdown",
      "metadata": {
        "id": "aVLnq7URVwxH"
      },
      "source": [
        "A standard practise is to normalise the dataset to the range $[0, 1]$."
      ]
    },
    {
      "cell_type": "code",
      "metadata": {
        "id": "jbOITHGSV9WS"
      },
      "source": [
        "X_train_flatten = X_train_flatten.astype('float32')\n",
        "X_test_flatten = X_test_flatten.astype('float32')\n",
        "X_train_flatten /= 255\n",
        "X_test_flatten /= 255"
      ],
      "execution_count": 20,
      "outputs": []
    },
    {
      "cell_type": "markdown",
      "metadata": {
        "id": "eZTwrNtOWNBe"
      },
      "source": [
        "We train a classifier in a supervised manner, and therefore, we need to process the labels so that our pipeline can use them. The `y_train` and `y_test` labels indicate the numerical values belonging to the `X_train` and `X_test` images. \n",
        "\n",
        "We use a Categorical CrossEntropy as the loss function. To feed the loss function with the labels, we need to transform them into a [one-hot encoded vector](https://en.wikipedia.org/wiki/One-hot)."
      ]
    },
    {
      "cell_type": "code",
      "metadata": {
        "id": "z-KifrbWXreU",
        "colab": {
          "base_uri": "https://localhost:8080/"
        },
        "outputId": "2e24fcaf-d167-4fdf-dfa6-1cd582226eab"
      },
      "source": [
        "Y_train_class = np_utils.to_categorical(y_train, 10)\n",
        "Y_test_class = np_utils.to_categorical(y_test, 10)\n",
        "\n",
        "print('New Y_train shape: {0}'.format(Y_train_class.shape))"
      ],
      "execution_count": 22,
      "outputs": [
        {
          "output_type": "stream",
          "name": "stdout",
          "text": [
            "New Y_train shape: (60000, 10)\n"
          ]
        }
      ]
    },
    {
      "cell_type": "markdown",
      "metadata": {
        "id": "jokxf-U8thD8"
      },
      "source": [
        "To see the difference between one-hot encoded and integer representation, let's print the first element of `y_train` and `Y_train_class`."
      ]
    },
    {
      "cell_type": "code",
      "metadata": {
        "id": "0oYrx0kStdfy",
        "colab": {
          "base_uri": "https://localhost:8080/"
        },
        "outputId": "a622b5d7-539f-422e-a69e-534b4a0e139e"
      },
      "source": [
        "print('Label: {0}.    One-hot Vector: {1}'.format(y_train[0], Y_train_class[0]))"
      ],
      "execution_count": 24,
      "outputs": [
        {
          "output_type": "stream",
          "name": "stdout",
          "text": [
            "Label: 5.    One-hot Vector: [0. 0. 0. 0. 0. 1. 0. 0. 0. 0.]\n"
          ]
        }
      ]
    },
    {
      "cell_type": "markdown",
      "metadata": {
        "id": "OcgAG0OZLZ3W"
      },
      "source": [
        "## Model Architecture\n",
        "\n",
        "\n",
        "Defining a model architecture is a critical step when trying to solve a machine learning problem. In this tutorial, we will understand how models can be built into Keras. \n",
        "\n",
        "First, we need to declare a `Sequential` module. As mentioned, the `Sequential` module allows us to combine neural network layers linearly. We create a model by passing a list of layer instances to the `Sequential` module:"
      ]
    },
    {
      "cell_type": "code",
      "metadata": {
        "id": "9_sJo3MbS1Lz"
      },
      "source": [
        "model = Sequential([\n",
        "    Dense(10, input_shape=(784,)),\n",
        "    Activation('softmax'),\n",
        "])"
      ],
      "execution_count": 26,
      "outputs": []
    },
    {
      "cell_type": "markdown",
      "metadata": {
        "id": "iEVpTbQ9TX_u"
      },
      "source": [
        "The previous model is composed of a dense layer and activation function (Softmax). Another way of defining architectures is to simply add layers via the `.add()` method:"
      ]
    },
    {
      "cell_type": "code",
      "metadata": {
        "id": "w-i9u2fbTZCk"
      },
      "source": [
        "model = Sequential()\n",
        "model.add(Dense(10, input_dim=784))\n",
        "model.add(Activation('softmax'))"
      ],
      "execution_count": 28,
      "outputs": []
    },
    {
      "cell_type": "markdown",
      "metadata": {
        "id": "xGsQ9NTBBHFC"
      },
      "source": [
        "We now have a simple model ready to go! \n",
        "\n",
        "Note that the model needs to know the shape of the input data. For this reason, the first layer in the Sequential model needs information about the input shape (the following layers can automatically infer the shape, and you do not need to specify it). In our case, we tell the network that the `input_shape` is 784. The 784 size vector comes from the flatten operation of our images (28 x 28). If we were using directly images, the input shape would have been (28, 28, 1), which corresponds to the (width, height, depth) of each digit image. The formatting (width, height, depth) is called `channels_last`, which is used by default in Keras. However, Keras also accepts the format (depth, width, height), that is called `channels_first` and it is commonly used in PyTorch. Keep in mind that you can change the formatting by passing the argument `data_format` when defining a layer.\n",
        "\n",
        "Let's print the model shape output:"
      ]
    },
    {
      "cell_type": "code",
      "metadata": {
        "id": "h5CZJUssUW1b",
        "colab": {
          "base_uri": "https://localhost:8080/"
        },
        "outputId": "f0dace5d-565a-4c6a-fd34-4bf82f9ec205"
      },
      "source": [
        "print(model.output_shape)"
      ],
      "execution_count": 30,
      "outputs": [
        {
          "output_type": "stream",
          "name": "stdout",
          "text": [
            "(None, 10)\n"
          ]
        }
      ]
    },
    {
      "cell_type": "markdown",
      "metadata": {
        "id": "Kpz5BNJ8UnuP"
      },
      "source": [
        "We define the output of our layer to be 10, that corresponds to the 10 different classes in MNIST (one, two, three, ..., nine.). Keras automatically handles the connections between layers, so there is no need for us to manually set up anything within the architecture. \n",
        "\n",
        "We see how our model looks like by using the `.summary()` method. "
      ]
    },
    {
      "cell_type": "code",
      "metadata": {
        "id": "a37n1PQzU3BX",
        "colab": {
          "base_uri": "https://localhost:8080/"
        },
        "outputId": "7277b91f-4816-49a7-a622-4b887bc6f631"
      },
      "source": [
        "model.summary()"
      ],
      "execution_count": 32,
      "outputs": [
        {
          "output_type": "stream",
          "name": "stdout",
          "text": [
            "Model: \"sequential_3\"\n_________________________________________________________________\nLayer (type)                 Output Shape              Param #   \n=================================================================\ndense_3 (Dense)              (None, 10)                7850      \n_________________________________________________________________\nactivation_3 (Activation)    (None, 10)                0         \n=================================================================\nTotal params: 7,850\nTrainable params: 7,850\nNon-trainable params: 0\n_________________________________________________________________\n"
          ]
        }
      ]
    },
    {
      "cell_type": "markdown",
      "metadata": {
        "id": "TPQEWWDuwCzk"
      },
      "source": [
        "In our example, the first row of the table has $784\\cdot 10+ 10=7850$ parameters, where the first term refers to the connections between input data and neurons,  and the second term to the output bias."
      ]
    },
    {
      "cell_type": "markdown",
      "metadata": {
        "id": "q_zb2cNDVaJi"
      },
      "source": [
        "## Compilation\n",
        "\n",
        "Before training our model, we need to configure the learning process, which is done via the compile method. We must define three important parameters here:\n",
        "\n",
        "*   The loss function that the model will try to minimise.\n",
        "*   The optimiser used to minimise the loss function and update the weights of the network.\n",
        "*   The list of metrics you want the model to compute in every step.\n",
        "\n",
        "In our example, as we are doing classification, we will define the `categorical_crossentropy` as the loss function, and we will compute the accuracy metric. You can refer to Keras documentation to learn more about [losses](https://keras.io/losses/) or [optimisers](https://keras.io/optimizers/). Many other parameters could be tuned, e.g., learning rate, decay factor, or weight normalisation. We will explore in more detail all of these parameters in the following tutorials. For now, we will use the default values for them. \n",
        "\n",
        "\n"
      ]
    },
    {
      "cell_type": "code",
      "metadata": {
        "id": "kHasLrmvWtSf"
      },
      "source": [
        "model.compile(loss='categorical_crossentropy',\n",
        "              optimizer='adam',\n",
        "              metrics=['accuracy'])"
      ],
      "execution_count": 34,
      "outputs": []
    },
    {
      "cell_type": "markdown",
      "metadata": {
        "id": "iqImvb8kWznJ"
      },
      "source": [
        "## Training\n",
        "\n",
        "To train the model, we call `.fit()` after compiling the model. We have to define the batch size and the number of total epochs the model is going to train. We are finally ready to start the learning of our classifier! "
      ]
    },
    {
      "cell_type": "code",
      "metadata": {
        "id": "trVlIdWNXUwd",
        "colab": {
          "base_uri": "https://localhost:8080/"
        },
        "outputId": "96e4539a-71e8-4426-807f-178c9a7877b6"
      },
      "source": [
        "history = model.fit(X_train_flatten, Y_train_class, batch_size=32, epochs=10)"
      ],
      "execution_count": 36,
      "outputs": [
        {
          "output_type": "stream",
          "name": "stdout",
          "text": [
            "Epoch 1/10\n",
            "1875/1875 [==============================] - 1s 445us/step - loss: 0.2469 - accuracy: 0.9321\n",
            "Epoch 2/10\n",
            "1875/1875 [==============================] - 1s 440us/step - loss: 0.2566 - accuracy: 0.9309\n",
            "Epoch 3/10\n",
            "1875/1875 [==============================] - 1s 436us/step - loss: 0.2385 - accuracy: 0.9335\n",
            "Epoch 4/10\n",
            "1875/1875 [==============================] - 1s 431us/step - loss: 0.2427 - accuracy: 0.9325\n",
            "Epoch 5/10\n",
            "1875/1875 [==============================] - 1s 434us/step - loss: 0.2402 - accuracy: 0.9336\n",
            "Epoch 6/10\n",
            "1875/1875 [==============================] - 1s 426us/step - loss: 0.2369 - accuracy: 0.9343\n",
            "Epoch 7/10\n",
            "1875/1875 [==============================] - 1s 449us/step - loss: 0.2380 - accuracy: 0.9339\n",
            "Epoch 8/10\n",
            "1875/1875 [==============================] - 1s 435us/step - loss: 0.2387 - accuracy: 0.9352\n",
            "Epoch 9/10\n",
            "1875/1875 [==============================] - 1s 429us/step - loss: 0.2419 - accuracy: 0.9335\n",
            "Epoch 10/10\n",
            "1875/1875 [==============================] - 1s 457us/step - loss: 0.2399 - accuracy: 0.9342\n"
          ]
        }
      ]
    },
    {
      "cell_type": "markdown",
      "metadata": {
        "id": "yj8MJvUnXzHj"
      },
      "source": [
        "Great, we have trained our first model! \n",
        "\n",
        "Imagine that we need to train the model until it converges, and we do not know how many epochs it will take. Then, we can define some mechanism to control the learning curves and stop them whenever we see fit. Those mechanisms are called callbacks in Keras. Thus, callbacks allow us to define early-stopping rules. Additionally, we use [callbacks methods](https://keras.io/callbacks/) to save the model's weights or log history along the training process, among many other things. An example of using the early stopping callback is given later in this tutorial.\n",
        "\n",
        "Most of the times, the training curves give important information about the training process. To visualise them, we can use the information saved on the training history:"
      ]
    },
    {
      "cell_type": "code",
      "metadata": {
        "id": "OGy405W2boBB",
        "colab": {
          "base_uri": "https://localhost:8080/",
          "height": 312
        },
        "outputId": "03c91f04-3d7e-4bbe-9a35-2b97a0f020d1"
      },
      "source": [
        "fig, axes = plt.subplots(2,1)\n",
        "axes[0].plot(history.history['accuracy'])\n",
        "axes[0].set_title('Model Accuracy')\n",
        "axes[0].set_ylabel('Accuracy')\n",
        "axes[0].set_xlabel('Epoch')\n",
        "\n",
        "fig.subplots_adjust(hspace=0.5)\n",
        "\n",
        "axes[1].plot(history.history['loss'], 'g')\n",
        "axes[1].set_title('Model Loss')\n",
        "axes[1].set_ylabel('Cross Entropy Loss')\n",
        "axes[1].set_xlabel('Epoch')"
      ],
      "execution_count": 38,
      "outputs": [
        {
          "output_type": "execute_result",
          "data": {
            "text/plain": [
              "Text(0.5, 0, 'Epoch')"
            ]
          },
          "metadata": {},
          "execution_count": 38
        },
        {
          "output_type": "display_data",
          "data": {
            "text/plain": "<Figure size 432x288 with 2 Axes>",
            "image/svg+xml": "<?xml version=\"1.0\" encoding=\"utf-8\" standalone=\"no\"?>\r\n<!DOCTYPE svg PUBLIC \"-//W3C//DTD SVG 1.1//EN\"\r\n  \"http://www.w3.org/Graphics/SVG/1.1/DTD/svg11.dtd\">\r\n<!-- Created with matplotlib (https://matplotlib.org/) -->\r\n<svg height=\"277.314375pt\" version=\"1.1\" viewBox=\"0 0 398.50625 277.314375\" width=\"398.50625pt\" xmlns=\"http://www.w3.org/2000/svg\" xmlns:xlink=\"http://www.w3.org/1999/xlink\">\r\n <metadata>\r\n  <rdf:RDF xmlns:cc=\"http://creativecommons.org/ns#\" xmlns:dc=\"http://purl.org/dc/elements/1.1/\" xmlns:rdf=\"http://www.w3.org/1999/02/22-rdf-syntax-ns#\">\r\n   <cc:Work>\r\n    <dc:type rdf:resource=\"http://purl.org/dc/dcmitype/StillImage\"/>\r\n    <dc:date>2021-01-29T17:06:20.720950</dc:date>\r\n    <dc:format>image/svg+xml</dc:format>\r\n    <dc:creator>\r\n     <cc:Agent>\r\n      <dc:title>Matplotlib v3.3.2, https://matplotlib.org/</dc:title>\r\n     </cc:Agent>\r\n    </dc:creator>\r\n   </cc:Work>\r\n  </rdf:RDF>\r\n </metadata>\r\n <defs>\r\n  <style type=\"text/css\">*{stroke-linecap:butt;stroke-linejoin:round;}</style>\r\n </defs>\r\n <g id=\"figure_1\">\r\n  <g id=\"patch_1\">\r\n   <path d=\"M 0 277.314375 \r\nL 398.50625 277.314375 \r\nL 398.50625 0 \r\nL 0 0 \r\nz\r\n\" style=\"fill:none;\"/>\r\n  </g>\r\n  <g id=\"axes_1\">\r\n   <g id=\"patch_2\">\r\n    <path d=\"M 56.50625 109.294125 \r\nL 391.30625 109.294125 \r\nL 391.30625 22.318125 \r\nL 56.50625 22.318125 \r\nz\r\n\" style=\"fill:#ffffff;\"/>\r\n   </g>\r\n   <g id=\"matplotlib.axis_1\">\r\n    <g id=\"xtick_1\">\r\n     <g id=\"line2d_1\">\r\n      <defs>\r\n       <path d=\"M 0 0 \r\nL 0 3.5 \r\n\" id=\"meab98f2b94\" style=\"stroke:#000000;stroke-width:0.8;\"/>\r\n      </defs>\r\n      <g>\r\n       <use style=\"stroke:#000000;stroke-width:0.8;\" x=\"71.724432\" xlink:href=\"#meab98f2b94\" y=\"109.294125\"/>\r\n      </g>\r\n     </g>\r\n     <g id=\"text_1\">\r\n      <!-- 0 -->\r\n      <g transform=\"translate(68.543182 123.892562)scale(0.1 -0.1)\">\r\n       <defs>\r\n        <path d=\"M 31.78125 66.40625 \r\nQ 24.171875 66.40625 20.328125 58.90625 \r\nQ 16.5 51.421875 16.5 36.375 \r\nQ 16.5 21.390625 20.328125 13.890625 \r\nQ 24.171875 6.390625 31.78125 6.390625 \r\nQ 39.453125 6.390625 43.28125 13.890625 \r\nQ 47.125 21.390625 47.125 36.375 \r\nQ 47.125 51.421875 43.28125 58.90625 \r\nQ 39.453125 66.40625 31.78125 66.40625 \r\nz\r\nM 31.78125 74.21875 \r\nQ 44.046875 74.21875 50.515625 64.515625 \r\nQ 56.984375 54.828125 56.984375 36.375 \r\nQ 56.984375 17.96875 50.515625 8.265625 \r\nQ 44.046875 -1.421875 31.78125 -1.421875 \r\nQ 19.53125 -1.421875 13.0625 8.265625 \r\nQ 6.59375 17.96875 6.59375 36.375 \r\nQ 6.59375 54.828125 13.0625 64.515625 \r\nQ 19.53125 74.21875 31.78125 74.21875 \r\nz\r\n\" id=\"DejaVuSans-48\"/>\r\n       </defs>\r\n       <use xlink:href=\"#DejaVuSans-48\"/>\r\n      </g>\r\n     </g>\r\n    </g>\r\n    <g id=\"xtick_2\">\r\n     <g id=\"line2d_2\">\r\n      <g>\r\n       <use style=\"stroke:#000000;stroke-width:0.8;\" x=\"139.360795\" xlink:href=\"#meab98f2b94\" y=\"109.294125\"/>\r\n      </g>\r\n     </g>\r\n     <g id=\"text_2\">\r\n      <!-- 2 -->\r\n      <g transform=\"translate(136.179545 123.892562)scale(0.1 -0.1)\">\r\n       <defs>\r\n        <path d=\"M 19.1875 8.296875 \r\nL 53.609375 8.296875 \r\nL 53.609375 0 \r\nL 7.328125 0 \r\nL 7.328125 8.296875 \r\nQ 12.9375 14.109375 22.625 23.890625 \r\nQ 32.328125 33.6875 34.8125 36.53125 \r\nQ 39.546875 41.84375 41.421875 45.53125 \r\nQ 43.3125 49.21875 43.3125 52.78125 \r\nQ 43.3125 58.59375 39.234375 62.25 \r\nQ 35.15625 65.921875 28.609375 65.921875 \r\nQ 23.96875 65.921875 18.8125 64.3125 \r\nQ 13.671875 62.703125 7.8125 59.421875 \r\nL 7.8125 69.390625 \r\nQ 13.765625 71.78125 18.9375 73 \r\nQ 24.125 74.21875 28.421875 74.21875 \r\nQ 39.75 74.21875 46.484375 68.546875 \r\nQ 53.21875 62.890625 53.21875 53.421875 \r\nQ 53.21875 48.921875 51.53125 44.890625 \r\nQ 49.859375 40.875 45.40625 35.40625 \r\nQ 44.1875 33.984375 37.640625 27.21875 \r\nQ 31.109375 20.453125 19.1875 8.296875 \r\nz\r\n\" id=\"DejaVuSans-50\"/>\r\n       </defs>\r\n       <use xlink:href=\"#DejaVuSans-50\"/>\r\n      </g>\r\n     </g>\r\n    </g>\r\n    <g id=\"xtick_3\">\r\n     <g id=\"line2d_3\">\r\n      <g>\r\n       <use style=\"stroke:#000000;stroke-width:0.8;\" x=\"206.997159\" xlink:href=\"#meab98f2b94\" y=\"109.294125\"/>\r\n      </g>\r\n     </g>\r\n     <g id=\"text_3\">\r\n      <!-- 4 -->\r\n      <g transform=\"translate(203.815909 123.892562)scale(0.1 -0.1)\">\r\n       <defs>\r\n        <path d=\"M 37.796875 64.3125 \r\nL 12.890625 25.390625 \r\nL 37.796875 25.390625 \r\nz\r\nM 35.203125 72.90625 \r\nL 47.609375 72.90625 \r\nL 47.609375 25.390625 \r\nL 58.015625 25.390625 \r\nL 58.015625 17.1875 \r\nL 47.609375 17.1875 \r\nL 47.609375 0 \r\nL 37.796875 0 \r\nL 37.796875 17.1875 \r\nL 4.890625 17.1875 \r\nL 4.890625 26.703125 \r\nz\r\n\" id=\"DejaVuSans-52\"/>\r\n       </defs>\r\n       <use xlink:href=\"#DejaVuSans-52\"/>\r\n      </g>\r\n     </g>\r\n    </g>\r\n    <g id=\"xtick_4\">\r\n     <g id=\"line2d_4\">\r\n      <g>\r\n       <use style=\"stroke:#000000;stroke-width:0.8;\" x=\"274.633523\" xlink:href=\"#meab98f2b94\" y=\"109.294125\"/>\r\n      </g>\r\n     </g>\r\n     <g id=\"text_4\">\r\n      <!-- 6 -->\r\n      <g transform=\"translate(271.452273 123.892562)scale(0.1 -0.1)\">\r\n       <defs>\r\n        <path d=\"M 33.015625 40.375 \r\nQ 26.375 40.375 22.484375 35.828125 \r\nQ 18.609375 31.296875 18.609375 23.390625 \r\nQ 18.609375 15.53125 22.484375 10.953125 \r\nQ 26.375 6.390625 33.015625 6.390625 \r\nQ 39.65625 6.390625 43.53125 10.953125 \r\nQ 47.40625 15.53125 47.40625 23.390625 \r\nQ 47.40625 31.296875 43.53125 35.828125 \r\nQ 39.65625 40.375 33.015625 40.375 \r\nz\r\nM 52.59375 71.296875 \r\nL 52.59375 62.3125 \r\nQ 48.875 64.0625 45.09375 64.984375 \r\nQ 41.3125 65.921875 37.59375 65.921875 \r\nQ 27.828125 65.921875 22.671875 59.328125 \r\nQ 17.53125 52.734375 16.796875 39.40625 \r\nQ 19.671875 43.65625 24.015625 45.921875 \r\nQ 28.375 48.1875 33.59375 48.1875 \r\nQ 44.578125 48.1875 50.953125 41.515625 \r\nQ 57.328125 34.859375 57.328125 23.390625 \r\nQ 57.328125 12.15625 50.6875 5.359375 \r\nQ 44.046875 -1.421875 33.015625 -1.421875 \r\nQ 20.359375 -1.421875 13.671875 8.265625 \r\nQ 6.984375 17.96875 6.984375 36.375 \r\nQ 6.984375 53.65625 15.1875 63.9375 \r\nQ 23.390625 74.21875 37.203125 74.21875 \r\nQ 40.921875 74.21875 44.703125 73.484375 \r\nQ 48.484375 72.75 52.59375 71.296875 \r\nz\r\n\" id=\"DejaVuSans-54\"/>\r\n       </defs>\r\n       <use xlink:href=\"#DejaVuSans-54\"/>\r\n      </g>\r\n     </g>\r\n    </g>\r\n    <g id=\"xtick_5\">\r\n     <g id=\"line2d_5\">\r\n      <g>\r\n       <use style=\"stroke:#000000;stroke-width:0.8;\" x=\"342.269886\" xlink:href=\"#meab98f2b94\" y=\"109.294125\"/>\r\n      </g>\r\n     </g>\r\n     <g id=\"text_5\">\r\n      <!-- 8 -->\r\n      <g transform=\"translate(339.088636 123.892562)scale(0.1 -0.1)\">\r\n       <defs>\r\n        <path d=\"M 31.78125 34.625 \r\nQ 24.75 34.625 20.71875 30.859375 \r\nQ 16.703125 27.09375 16.703125 20.515625 \r\nQ 16.703125 13.921875 20.71875 10.15625 \r\nQ 24.75 6.390625 31.78125 6.390625 \r\nQ 38.8125 6.390625 42.859375 10.171875 \r\nQ 46.921875 13.96875 46.921875 20.515625 \r\nQ 46.921875 27.09375 42.890625 30.859375 \r\nQ 38.875 34.625 31.78125 34.625 \r\nz\r\nM 21.921875 38.8125 \r\nQ 15.578125 40.375 12.03125 44.71875 \r\nQ 8.5 49.078125 8.5 55.328125 \r\nQ 8.5 64.0625 14.71875 69.140625 \r\nQ 20.953125 74.21875 31.78125 74.21875 \r\nQ 42.671875 74.21875 48.875 69.140625 \r\nQ 55.078125 64.0625 55.078125 55.328125 \r\nQ 55.078125 49.078125 51.53125 44.71875 \r\nQ 48 40.375 41.703125 38.8125 \r\nQ 48.828125 37.15625 52.796875 32.3125 \r\nQ 56.78125 27.484375 56.78125 20.515625 \r\nQ 56.78125 9.90625 50.3125 4.234375 \r\nQ 43.84375 -1.421875 31.78125 -1.421875 \r\nQ 19.734375 -1.421875 13.25 4.234375 \r\nQ 6.78125 9.90625 6.78125 20.515625 \r\nQ 6.78125 27.484375 10.78125 32.3125 \r\nQ 14.796875 37.15625 21.921875 38.8125 \r\nz\r\nM 18.3125 54.390625 \r\nQ 18.3125 48.734375 21.84375 45.5625 \r\nQ 25.390625 42.390625 31.78125 42.390625 \r\nQ 38.140625 42.390625 41.71875 45.5625 \r\nQ 45.3125 48.734375 45.3125 54.390625 \r\nQ 45.3125 60.0625 41.71875 63.234375 \r\nQ 38.140625 66.40625 31.78125 66.40625 \r\nQ 25.390625 66.40625 21.84375 63.234375 \r\nQ 18.3125 60.0625 18.3125 54.390625 \r\nz\r\n\" id=\"DejaVuSans-56\"/>\r\n       </defs>\r\n       <use xlink:href=\"#DejaVuSans-56\"/>\r\n      </g>\r\n     </g>\r\n    </g>\r\n    <g id=\"text_6\">\r\n     <!-- Epoch -->\r\n     <g transform=\"translate(208.595313 137.570687)scale(0.1 -0.1)\">\r\n      <defs>\r\n       <path d=\"M 9.8125 72.90625 \r\nL 55.90625 72.90625 \r\nL 55.90625 64.59375 \r\nL 19.671875 64.59375 \r\nL 19.671875 43.015625 \r\nL 54.390625 43.015625 \r\nL 54.390625 34.71875 \r\nL 19.671875 34.71875 \r\nL 19.671875 8.296875 \r\nL 56.78125 8.296875 \r\nL 56.78125 0 \r\nL 9.8125 0 \r\nz\r\n\" id=\"DejaVuSans-69\"/>\r\n       <path d=\"M 18.109375 8.203125 \r\nL 18.109375 -20.796875 \r\nL 9.078125 -20.796875 \r\nL 9.078125 54.6875 \r\nL 18.109375 54.6875 \r\nL 18.109375 46.390625 \r\nQ 20.953125 51.265625 25.265625 53.625 \r\nQ 29.59375 56 35.59375 56 \r\nQ 45.5625 56 51.78125 48.09375 \r\nQ 58.015625 40.1875 58.015625 27.296875 \r\nQ 58.015625 14.40625 51.78125 6.484375 \r\nQ 45.5625 -1.421875 35.59375 -1.421875 \r\nQ 29.59375 -1.421875 25.265625 0.953125 \r\nQ 20.953125 3.328125 18.109375 8.203125 \r\nz\r\nM 48.6875 27.296875 \r\nQ 48.6875 37.203125 44.609375 42.84375 \r\nQ 40.53125 48.484375 33.40625 48.484375 \r\nQ 26.265625 48.484375 22.1875 42.84375 \r\nQ 18.109375 37.203125 18.109375 27.296875 \r\nQ 18.109375 17.390625 22.1875 11.75 \r\nQ 26.265625 6.109375 33.40625 6.109375 \r\nQ 40.53125 6.109375 44.609375 11.75 \r\nQ 48.6875 17.390625 48.6875 27.296875 \r\nz\r\n\" id=\"DejaVuSans-112\"/>\r\n       <path d=\"M 30.609375 48.390625 \r\nQ 23.390625 48.390625 19.1875 42.75 \r\nQ 14.984375 37.109375 14.984375 27.296875 \r\nQ 14.984375 17.484375 19.15625 11.84375 \r\nQ 23.34375 6.203125 30.609375 6.203125 \r\nQ 37.796875 6.203125 41.984375 11.859375 \r\nQ 46.1875 17.53125 46.1875 27.296875 \r\nQ 46.1875 37.015625 41.984375 42.703125 \r\nQ 37.796875 48.390625 30.609375 48.390625 \r\nz\r\nM 30.609375 56 \r\nQ 42.328125 56 49.015625 48.375 \r\nQ 55.71875 40.765625 55.71875 27.296875 \r\nQ 55.71875 13.875 49.015625 6.21875 \r\nQ 42.328125 -1.421875 30.609375 -1.421875 \r\nQ 18.84375 -1.421875 12.171875 6.21875 \r\nQ 5.515625 13.875 5.515625 27.296875 \r\nQ 5.515625 40.765625 12.171875 48.375 \r\nQ 18.84375 56 30.609375 56 \r\nz\r\n\" id=\"DejaVuSans-111\"/>\r\n       <path d=\"M 48.78125 52.59375 \r\nL 48.78125 44.1875 \r\nQ 44.96875 46.296875 41.140625 47.34375 \r\nQ 37.3125 48.390625 33.40625 48.390625 \r\nQ 24.65625 48.390625 19.8125 42.84375 \r\nQ 14.984375 37.3125 14.984375 27.296875 \r\nQ 14.984375 17.28125 19.8125 11.734375 \r\nQ 24.65625 6.203125 33.40625 6.203125 \r\nQ 37.3125 6.203125 41.140625 7.25 \r\nQ 44.96875 8.296875 48.78125 10.40625 \r\nL 48.78125 2.09375 \r\nQ 45.015625 0.34375 40.984375 -0.53125 \r\nQ 36.96875 -1.421875 32.421875 -1.421875 \r\nQ 20.0625 -1.421875 12.78125 6.34375 \r\nQ 5.515625 14.109375 5.515625 27.296875 \r\nQ 5.515625 40.671875 12.859375 48.328125 \r\nQ 20.21875 56 33.015625 56 \r\nQ 37.15625 56 41.109375 55.140625 \r\nQ 45.0625 54.296875 48.78125 52.59375 \r\nz\r\n\" id=\"DejaVuSans-99\"/>\r\n       <path d=\"M 54.890625 33.015625 \r\nL 54.890625 0 \r\nL 45.90625 0 \r\nL 45.90625 32.71875 \r\nQ 45.90625 40.484375 42.875 44.328125 \r\nQ 39.84375 48.1875 33.796875 48.1875 \r\nQ 26.515625 48.1875 22.3125 43.546875 \r\nQ 18.109375 38.921875 18.109375 30.90625 \r\nL 18.109375 0 \r\nL 9.078125 0 \r\nL 9.078125 75.984375 \r\nL 18.109375 75.984375 \r\nL 18.109375 46.1875 \r\nQ 21.34375 51.125 25.703125 53.5625 \r\nQ 30.078125 56 35.796875 56 \r\nQ 45.21875 56 50.046875 50.171875 \r\nQ 54.890625 44.34375 54.890625 33.015625 \r\nz\r\n\" id=\"DejaVuSans-104\"/>\r\n      </defs>\r\n      <use xlink:href=\"#DejaVuSans-69\"/>\r\n      <use x=\"63.183594\" xlink:href=\"#DejaVuSans-112\"/>\r\n      <use x=\"126.660156\" xlink:href=\"#DejaVuSans-111\"/>\r\n      <use x=\"187.841797\" xlink:href=\"#DejaVuSans-99\"/>\r\n      <use x=\"242.822266\" xlink:href=\"#DejaVuSans-104\"/>\r\n     </g>\r\n    </g>\r\n   </g>\r\n   <g id=\"matplotlib.axis_2\">\r\n    <g id=\"ytick_1\">\r\n     <g id=\"line2d_6\">\r\n      <defs>\r\n       <path d=\"M 0 0 \r\nL -3.5 0 \r\n\" id=\"m307894911a\" style=\"stroke:#000000;stroke-width:0.8;\"/>\r\n      </defs>\r\n      <g>\r\n       <use style=\"stroke:#000000;stroke-width:0.8;\" x=\"56.50625\" xlink:href=\"#m307894911a\" y=\"103.60349\"/>\r\n      </g>\r\n     </g>\r\n     <g id=\"text_7\">\r\n      <!-- 0.931 -->\r\n      <g transform=\"translate(20.878125 107.402709)scale(0.1 -0.1)\">\r\n       <defs>\r\n        <path d=\"M 10.6875 12.40625 \r\nL 21 12.40625 \r\nL 21 0 \r\nL 10.6875 0 \r\nz\r\n\" id=\"DejaVuSans-46\"/>\r\n        <path d=\"M 10.984375 1.515625 \r\nL 10.984375 10.5 \r\nQ 14.703125 8.734375 18.5 7.8125 \r\nQ 22.3125 6.890625 25.984375 6.890625 \r\nQ 35.75 6.890625 40.890625 13.453125 \r\nQ 46.046875 20.015625 46.78125 33.40625 \r\nQ 43.953125 29.203125 39.59375 26.953125 \r\nQ 35.25 24.703125 29.984375 24.703125 \r\nQ 19.046875 24.703125 12.671875 31.3125 \r\nQ 6.296875 37.9375 6.296875 49.421875 \r\nQ 6.296875 60.640625 12.9375 67.421875 \r\nQ 19.578125 74.21875 30.609375 74.21875 \r\nQ 43.265625 74.21875 49.921875 64.515625 \r\nQ 56.59375 54.828125 56.59375 36.375 \r\nQ 56.59375 19.140625 48.40625 8.859375 \r\nQ 40.234375 -1.421875 26.421875 -1.421875 \r\nQ 22.703125 -1.421875 18.890625 -0.6875 \r\nQ 15.09375 0.046875 10.984375 1.515625 \r\nz\r\nM 30.609375 32.421875 \r\nQ 37.25 32.421875 41.125 36.953125 \r\nQ 45.015625 41.5 45.015625 49.421875 \r\nQ 45.015625 57.28125 41.125 61.84375 \r\nQ 37.25 66.40625 30.609375 66.40625 \r\nQ 23.96875 66.40625 20.09375 61.84375 \r\nQ 16.21875 57.28125 16.21875 49.421875 \r\nQ 16.21875 41.5 20.09375 36.953125 \r\nQ 23.96875 32.421875 30.609375 32.421875 \r\nz\r\n\" id=\"DejaVuSans-57\"/>\r\n        <path d=\"M 40.578125 39.3125 \r\nQ 47.65625 37.796875 51.625 33 \r\nQ 55.609375 28.21875 55.609375 21.1875 \r\nQ 55.609375 10.40625 48.1875 4.484375 \r\nQ 40.765625 -1.421875 27.09375 -1.421875 \r\nQ 22.515625 -1.421875 17.65625 -0.515625 \r\nQ 12.796875 0.390625 7.625 2.203125 \r\nL 7.625 11.71875 \r\nQ 11.71875 9.328125 16.59375 8.109375 \r\nQ 21.484375 6.890625 26.8125 6.890625 \r\nQ 36.078125 6.890625 40.9375 10.546875 \r\nQ 45.796875 14.203125 45.796875 21.1875 \r\nQ 45.796875 27.640625 41.28125 31.265625 \r\nQ 36.765625 34.90625 28.71875 34.90625 \r\nL 20.21875 34.90625 \r\nL 20.21875 43.015625 \r\nL 29.109375 43.015625 \r\nQ 36.375 43.015625 40.234375 45.921875 \r\nQ 44.09375 48.828125 44.09375 54.296875 \r\nQ 44.09375 59.90625 40.109375 62.90625 \r\nQ 36.140625 65.921875 28.71875 65.921875 \r\nQ 24.65625 65.921875 20.015625 65.03125 \r\nQ 15.375 64.15625 9.8125 62.3125 \r\nL 9.8125 71.09375 \r\nQ 15.4375 72.65625 20.34375 73.4375 \r\nQ 25.25 74.21875 29.59375 74.21875 \r\nQ 40.828125 74.21875 47.359375 69.109375 \r\nQ 53.90625 64.015625 53.90625 55.328125 \r\nQ 53.90625 49.265625 50.4375 45.09375 \r\nQ 46.96875 40.921875 40.578125 39.3125 \r\nz\r\n\" id=\"DejaVuSans-51\"/>\r\n        <path d=\"M 12.40625 8.296875 \r\nL 28.515625 8.296875 \r\nL 28.515625 63.921875 \r\nL 10.984375 60.40625 \r\nL 10.984375 69.390625 \r\nL 28.421875 72.90625 \r\nL 38.28125 72.90625 \r\nL 38.28125 8.296875 \r\nL 54.390625 8.296875 \r\nL 54.390625 0 \r\nL 12.40625 0 \r\nz\r\n\" id=\"DejaVuSans-49\"/>\r\n       </defs>\r\n       <use xlink:href=\"#DejaVuSans-48\"/>\r\n       <use x=\"63.623047\" xlink:href=\"#DejaVuSans-46\"/>\r\n       <use x=\"95.410156\" xlink:href=\"#DejaVuSans-57\"/>\r\n       <use x=\"159.033203\" xlink:href=\"#DejaVuSans-51\"/>\r\n       <use x=\"222.65625\" xlink:href=\"#DejaVuSans-49\"/>\r\n      </g>\r\n     </g>\r\n    </g>\r\n    <g id=\"ytick_2\">\r\n     <g id=\"line2d_7\">\r\n      <g>\r\n       <use style=\"stroke:#000000;stroke-width:0.8;\" x=\"56.50625\" xlink:href=\"#m307894911a\" y=\"77.536814\"/>\r\n      </g>\r\n     </g>\r\n     <g id=\"text_8\">\r\n      <!-- 0.932 -->\r\n      <g transform=\"translate(20.878125 81.336033)scale(0.1 -0.1)\">\r\n       <use xlink:href=\"#DejaVuSans-48\"/>\r\n       <use x=\"63.623047\" xlink:href=\"#DejaVuSans-46\"/>\r\n       <use x=\"95.410156\" xlink:href=\"#DejaVuSans-57\"/>\r\n       <use x=\"159.033203\" xlink:href=\"#DejaVuSans-51\"/>\r\n       <use x=\"222.65625\" xlink:href=\"#DejaVuSans-50\"/>\r\n      </g>\r\n     </g>\r\n    </g>\r\n    <g id=\"ytick_3\">\r\n     <g id=\"line2d_8\">\r\n      <g>\r\n       <use style=\"stroke:#000000;stroke-width:0.8;\" x=\"56.50625\" xlink:href=\"#m307894911a\" y=\"51.470138\"/>\r\n      </g>\r\n     </g>\r\n     <g id=\"text_9\">\r\n      <!-- 0.933 -->\r\n      <g transform=\"translate(20.878125 55.269357)scale(0.1 -0.1)\">\r\n       <use xlink:href=\"#DejaVuSans-48\"/>\r\n       <use x=\"63.623047\" xlink:href=\"#DejaVuSans-46\"/>\r\n       <use x=\"95.410156\" xlink:href=\"#DejaVuSans-57\"/>\r\n       <use x=\"159.033203\" xlink:href=\"#DejaVuSans-51\"/>\r\n       <use x=\"222.65625\" xlink:href=\"#DejaVuSans-51\"/>\r\n      </g>\r\n     </g>\r\n    </g>\r\n    <g id=\"ytick_4\">\r\n     <g id=\"line2d_9\">\r\n      <g>\r\n       <use style=\"stroke:#000000;stroke-width:0.8;\" x=\"56.50625\" xlink:href=\"#m307894911a\" y=\"25.403462\"/>\r\n      </g>\r\n     </g>\r\n     <g id=\"text_10\">\r\n      <!-- 0.934 -->\r\n      <g transform=\"translate(20.878125 29.202681)scale(0.1 -0.1)\">\r\n       <use xlink:href=\"#DejaVuSans-48\"/>\r\n       <use x=\"63.623047\" xlink:href=\"#DejaVuSans-46\"/>\r\n       <use x=\"95.410156\" xlink:href=\"#DejaVuSans-57\"/>\r\n       <use x=\"159.033203\" xlink:href=\"#DejaVuSans-51\"/>\r\n       <use x=\"222.65625\" xlink:href=\"#DejaVuSans-52\"/>\r\n      </g>\r\n     </g>\r\n    </g>\r\n    <g id=\"text_11\">\r\n     <!-- Accuracy -->\r\n     <g transform=\"translate(14.798438 88.63425)rotate(-90)scale(0.1 -0.1)\">\r\n      <defs>\r\n       <path d=\"M 34.1875 63.1875 \r\nL 20.796875 26.90625 \r\nL 47.609375 26.90625 \r\nz\r\nM 28.609375 72.90625 \r\nL 39.796875 72.90625 \r\nL 67.578125 0 \r\nL 57.328125 0 \r\nL 50.6875 18.703125 \r\nL 17.828125 18.703125 \r\nL 11.1875 0 \r\nL 0.78125 0 \r\nz\r\n\" id=\"DejaVuSans-65\"/>\r\n       <path d=\"M 8.5 21.578125 \r\nL 8.5 54.6875 \r\nL 17.484375 54.6875 \r\nL 17.484375 21.921875 \r\nQ 17.484375 14.15625 20.5 10.265625 \r\nQ 23.53125 6.390625 29.59375 6.390625 \r\nQ 36.859375 6.390625 41.078125 11.03125 \r\nQ 45.3125 15.671875 45.3125 23.6875 \r\nL 45.3125 54.6875 \r\nL 54.296875 54.6875 \r\nL 54.296875 0 \r\nL 45.3125 0 \r\nL 45.3125 8.40625 \r\nQ 42.046875 3.421875 37.71875 1 \r\nQ 33.40625 -1.421875 27.6875 -1.421875 \r\nQ 18.265625 -1.421875 13.375 4.4375 \r\nQ 8.5 10.296875 8.5 21.578125 \r\nz\r\nM 31.109375 56 \r\nz\r\n\" id=\"DejaVuSans-117\"/>\r\n       <path d=\"M 41.109375 46.296875 \r\nQ 39.59375 47.171875 37.8125 47.578125 \r\nQ 36.03125 48 33.890625 48 \r\nQ 26.265625 48 22.1875 43.046875 \r\nQ 18.109375 38.09375 18.109375 28.8125 \r\nL 18.109375 0 \r\nL 9.078125 0 \r\nL 9.078125 54.6875 \r\nL 18.109375 54.6875 \r\nL 18.109375 46.1875 \r\nQ 20.953125 51.171875 25.484375 53.578125 \r\nQ 30.03125 56 36.53125 56 \r\nQ 37.453125 56 38.578125 55.875 \r\nQ 39.703125 55.765625 41.0625 55.515625 \r\nz\r\n\" id=\"DejaVuSans-114\"/>\r\n       <path d=\"M 34.28125 27.484375 \r\nQ 23.390625 27.484375 19.1875 25 \r\nQ 14.984375 22.515625 14.984375 16.5 \r\nQ 14.984375 11.71875 18.140625 8.90625 \r\nQ 21.296875 6.109375 26.703125 6.109375 \r\nQ 34.1875 6.109375 38.703125 11.40625 \r\nQ 43.21875 16.703125 43.21875 25.484375 \r\nL 43.21875 27.484375 \r\nz\r\nM 52.203125 31.203125 \r\nL 52.203125 0 \r\nL 43.21875 0 \r\nL 43.21875 8.296875 \r\nQ 40.140625 3.328125 35.546875 0.953125 \r\nQ 30.953125 -1.421875 24.3125 -1.421875 \r\nQ 15.921875 -1.421875 10.953125 3.296875 \r\nQ 6 8.015625 6 15.921875 \r\nQ 6 25.140625 12.171875 29.828125 \r\nQ 18.359375 34.515625 30.609375 34.515625 \r\nL 43.21875 34.515625 \r\nL 43.21875 35.40625 \r\nQ 43.21875 41.609375 39.140625 45 \r\nQ 35.0625 48.390625 27.6875 48.390625 \r\nQ 23 48.390625 18.546875 47.265625 \r\nQ 14.109375 46.140625 10.015625 43.890625 \r\nL 10.015625 52.203125 \r\nQ 14.9375 54.109375 19.578125 55.046875 \r\nQ 24.21875 56 28.609375 56 \r\nQ 40.484375 56 46.34375 49.84375 \r\nQ 52.203125 43.703125 52.203125 31.203125 \r\nz\r\n\" id=\"DejaVuSans-97\"/>\r\n       <path d=\"M 32.171875 -5.078125 \r\nQ 28.375 -14.84375 24.75 -17.8125 \r\nQ 21.140625 -20.796875 15.09375 -20.796875 \r\nL 7.90625 -20.796875 \r\nL 7.90625 -13.28125 \r\nL 13.1875 -13.28125 \r\nQ 16.890625 -13.28125 18.9375 -11.515625 \r\nQ 21 -9.765625 23.484375 -3.21875 \r\nL 25.09375 0.875 \r\nL 2.984375 54.6875 \r\nL 12.5 54.6875 \r\nL 29.59375 11.921875 \r\nL 46.6875 54.6875 \r\nL 56.203125 54.6875 \r\nz\r\n\" id=\"DejaVuSans-121\"/>\r\n      </defs>\r\n      <use xlink:href=\"#DejaVuSans-65\"/>\r\n      <use x=\"66.658203\" xlink:href=\"#DejaVuSans-99\"/>\r\n      <use x=\"121.638672\" xlink:href=\"#DejaVuSans-99\"/>\r\n      <use x=\"176.619141\" xlink:href=\"#DejaVuSans-117\"/>\r\n      <use x=\"239.998047\" xlink:href=\"#DejaVuSans-114\"/>\r\n      <use x=\"281.111328\" xlink:href=\"#DejaVuSans-97\"/>\r\n      <use x=\"342.390625\" xlink:href=\"#DejaVuSans-99\"/>\r\n      <use x=\"397.371094\" xlink:href=\"#DejaVuSans-121\"/>\r\n     </g>\r\n    </g>\r\n   </g>\r\n   <g id=\"line2d_10\">\r\n    <path clip-path=\"url(#pa3eee05e44)\" d=\"M 71.724432 105.34067 \r\nL 105.542614 77.97078 \r\nL 139.360795 90.136211 \r\nL 173.178977 64.068317 \r\nL 206.997159 58.420636 \r\nL 240.815341 52.772955 \r\nL 274.633523 54.511539 \r\nL 308.451705 32.354295 \r\nL 342.269886 47.995343 \r\nL 376.088068 26.27158 \r\n\" style=\"fill:none;stroke:#1f77b4;stroke-linecap:square;stroke-width:1.5;\"/>\r\n   </g>\r\n   <g id=\"patch_3\">\r\n    <path d=\"M 56.50625 109.294125 \r\nL 56.50625 22.318125 \r\n\" style=\"fill:none;stroke:#000000;stroke-linecap:square;stroke-linejoin:miter;stroke-width:0.8;\"/>\r\n   </g>\r\n   <g id=\"patch_4\">\r\n    <path d=\"M 391.30625 109.294125 \r\nL 391.30625 22.318125 \r\n\" style=\"fill:none;stroke:#000000;stroke-linecap:square;stroke-linejoin:miter;stroke-width:0.8;\"/>\r\n   </g>\r\n   <g id=\"patch_5\">\r\n    <path d=\"M 56.50625 109.294125 \r\nL 391.30625 109.294125 \r\n\" style=\"fill:none;stroke:#000000;stroke-linecap:square;stroke-linejoin:miter;stroke-width:0.8;\"/>\r\n   </g>\r\n   <g id=\"patch_6\">\r\n    <path d=\"M 56.50625 22.318125 \r\nL 391.30625 22.318125 \r\n\" style=\"fill:none;stroke:#000000;stroke-linecap:square;stroke-linejoin:miter;stroke-width:0.8;\"/>\r\n   </g>\r\n   <g id=\"text_12\">\r\n    <!-- Model Accuracy -->\r\n    <g transform=\"translate(176.589687 16.318125)scale(0.12 -0.12)\">\r\n     <defs>\r\n      <path d=\"M 9.8125 72.90625 \r\nL 24.515625 72.90625 \r\nL 43.109375 23.296875 \r\nL 61.8125 72.90625 \r\nL 76.515625 72.90625 \r\nL 76.515625 0 \r\nL 66.890625 0 \r\nL 66.890625 64.015625 \r\nL 48.09375 14.015625 \r\nL 38.1875 14.015625 \r\nL 19.390625 64.015625 \r\nL 19.390625 0 \r\nL 9.8125 0 \r\nz\r\n\" id=\"DejaVuSans-77\"/>\r\n      <path d=\"M 45.40625 46.390625 \r\nL 45.40625 75.984375 \r\nL 54.390625 75.984375 \r\nL 54.390625 0 \r\nL 45.40625 0 \r\nL 45.40625 8.203125 \r\nQ 42.578125 3.328125 38.25 0.953125 \r\nQ 33.9375 -1.421875 27.875 -1.421875 \r\nQ 17.96875 -1.421875 11.734375 6.484375 \r\nQ 5.515625 14.40625 5.515625 27.296875 \r\nQ 5.515625 40.1875 11.734375 48.09375 \r\nQ 17.96875 56 27.875 56 \r\nQ 33.9375 56 38.25 53.625 \r\nQ 42.578125 51.265625 45.40625 46.390625 \r\nz\r\nM 14.796875 27.296875 \r\nQ 14.796875 17.390625 18.875 11.75 \r\nQ 22.953125 6.109375 30.078125 6.109375 \r\nQ 37.203125 6.109375 41.296875 11.75 \r\nQ 45.40625 17.390625 45.40625 27.296875 \r\nQ 45.40625 37.203125 41.296875 42.84375 \r\nQ 37.203125 48.484375 30.078125 48.484375 \r\nQ 22.953125 48.484375 18.875 42.84375 \r\nQ 14.796875 37.203125 14.796875 27.296875 \r\nz\r\n\" id=\"DejaVuSans-100\"/>\r\n      <path d=\"M 56.203125 29.59375 \r\nL 56.203125 25.203125 \r\nL 14.890625 25.203125 \r\nQ 15.484375 15.921875 20.484375 11.0625 \r\nQ 25.484375 6.203125 34.421875 6.203125 \r\nQ 39.59375 6.203125 44.453125 7.46875 \r\nQ 49.3125 8.734375 54.109375 11.28125 \r\nL 54.109375 2.78125 \r\nQ 49.265625 0.734375 44.1875 -0.34375 \r\nQ 39.109375 -1.421875 33.890625 -1.421875 \r\nQ 20.796875 -1.421875 13.15625 6.1875 \r\nQ 5.515625 13.8125 5.515625 26.8125 \r\nQ 5.515625 40.234375 12.765625 48.109375 \r\nQ 20.015625 56 32.328125 56 \r\nQ 43.359375 56 49.78125 48.890625 \r\nQ 56.203125 41.796875 56.203125 29.59375 \r\nz\r\nM 47.21875 32.234375 \r\nQ 47.125 39.59375 43.09375 43.984375 \r\nQ 39.0625 48.390625 32.421875 48.390625 \r\nQ 24.90625 48.390625 20.390625 44.140625 \r\nQ 15.875 39.890625 15.1875 32.171875 \r\nz\r\n\" id=\"DejaVuSans-101\"/>\r\n      <path d=\"M 9.421875 75.984375 \r\nL 18.40625 75.984375 \r\nL 18.40625 0 \r\nL 9.421875 0 \r\nz\r\n\" id=\"DejaVuSans-108\"/>\r\n      <path id=\"DejaVuSans-32\"/>\r\n     </defs>\r\n     <use xlink:href=\"#DejaVuSans-77\"/>\r\n     <use x=\"86.279297\" xlink:href=\"#DejaVuSans-111\"/>\r\n     <use x=\"147.460938\" xlink:href=\"#DejaVuSans-100\"/>\r\n     <use x=\"210.9375\" xlink:href=\"#DejaVuSans-101\"/>\r\n     <use x=\"272.460938\" xlink:href=\"#DejaVuSans-108\"/>\r\n     <use x=\"300.244141\" xlink:href=\"#DejaVuSans-32\"/>\r\n     <use x=\"332.03125\" xlink:href=\"#DejaVuSans-65\"/>\r\n     <use x=\"398.689453\" xlink:href=\"#DejaVuSans-99\"/>\r\n     <use x=\"453.669922\" xlink:href=\"#DejaVuSans-99\"/>\r\n     <use x=\"508.650391\" xlink:href=\"#DejaVuSans-117\"/>\r\n     <use x=\"572.029297\" xlink:href=\"#DejaVuSans-114\"/>\r\n     <use x=\"613.142578\" xlink:href=\"#DejaVuSans-97\"/>\r\n     <use x=\"674.421875\" xlink:href=\"#DejaVuSans-99\"/>\r\n     <use x=\"729.402344\" xlink:href=\"#DejaVuSans-121\"/>\r\n    </g>\r\n   </g>\r\n  </g>\r\n  <g id=\"axes_2\">\r\n   <g id=\"patch_7\">\r\n    <path d=\"M 56.50625 239.758125 \r\nL 391.30625 239.758125 \r\nL 391.30625 152.782125 \r\nL 56.50625 152.782125 \r\nz\r\n\" style=\"fill:#ffffff;\"/>\r\n   </g>\r\n   <g id=\"matplotlib.axis_3\">\r\n    <g id=\"xtick_6\">\r\n     <g id=\"line2d_11\">\r\n      <g>\r\n       <use style=\"stroke:#000000;stroke-width:0.8;\" x=\"71.724432\" xlink:href=\"#meab98f2b94\" y=\"239.758125\"/>\r\n      </g>\r\n     </g>\r\n     <g id=\"text_13\">\r\n      <!-- 0 -->\r\n      <g transform=\"translate(68.543182 254.356562)scale(0.1 -0.1)\">\r\n       <use xlink:href=\"#DejaVuSans-48\"/>\r\n      </g>\r\n     </g>\r\n    </g>\r\n    <g id=\"xtick_7\">\r\n     <g id=\"line2d_12\">\r\n      <g>\r\n       <use style=\"stroke:#000000;stroke-width:0.8;\" x=\"139.360795\" xlink:href=\"#meab98f2b94\" y=\"239.758125\"/>\r\n      </g>\r\n     </g>\r\n     <g id=\"text_14\">\r\n      <!-- 2 -->\r\n      <g transform=\"translate(136.179545 254.356562)scale(0.1 -0.1)\">\r\n       <use xlink:href=\"#DejaVuSans-50\"/>\r\n      </g>\r\n     </g>\r\n    </g>\r\n    <g id=\"xtick_8\">\r\n     <g id=\"line2d_13\">\r\n      <g>\r\n       <use style=\"stroke:#000000;stroke-width:0.8;\" x=\"206.997159\" xlink:href=\"#meab98f2b94\" y=\"239.758125\"/>\r\n      </g>\r\n     </g>\r\n     <g id=\"text_15\">\r\n      <!-- 4 -->\r\n      <g transform=\"translate(203.815909 254.356562)scale(0.1 -0.1)\">\r\n       <use xlink:href=\"#DejaVuSans-52\"/>\r\n      </g>\r\n     </g>\r\n    </g>\r\n    <g id=\"xtick_9\">\r\n     <g id=\"line2d_14\">\r\n      <g>\r\n       <use style=\"stroke:#000000;stroke-width:0.8;\" x=\"274.633523\" xlink:href=\"#meab98f2b94\" y=\"239.758125\"/>\r\n      </g>\r\n     </g>\r\n     <g id=\"text_16\">\r\n      <!-- 6 -->\r\n      <g transform=\"translate(271.452273 254.356562)scale(0.1 -0.1)\">\r\n       <use xlink:href=\"#DejaVuSans-54\"/>\r\n      </g>\r\n     </g>\r\n    </g>\r\n    <g id=\"xtick_10\">\r\n     <g id=\"line2d_15\">\r\n      <g>\r\n       <use style=\"stroke:#000000;stroke-width:0.8;\" x=\"342.269886\" xlink:href=\"#meab98f2b94\" y=\"239.758125\"/>\r\n      </g>\r\n     </g>\r\n     <g id=\"text_17\">\r\n      <!-- 8 -->\r\n      <g transform=\"translate(339.088636 254.356562)scale(0.1 -0.1)\">\r\n       <use xlink:href=\"#DejaVuSans-56\"/>\r\n      </g>\r\n     </g>\r\n    </g>\r\n    <g id=\"text_18\">\r\n     <!-- Epoch -->\r\n     <g transform=\"translate(208.595313 268.034687)scale(0.1 -0.1)\">\r\n      <use xlink:href=\"#DejaVuSans-69\"/>\r\n      <use x=\"63.183594\" xlink:href=\"#DejaVuSans-112\"/>\r\n      <use x=\"126.660156\" xlink:href=\"#DejaVuSans-111\"/>\r\n      <use x=\"187.841797\" xlink:href=\"#DejaVuSans-99\"/>\r\n      <use x=\"242.822266\" xlink:href=\"#DejaVuSans-104\"/>\r\n     </g>\r\n    </g>\r\n   </g>\r\n   <g id=\"matplotlib.axis_4\">\r\n    <g id=\"ytick_5\">\r\n     <g id=\"line2d_16\">\r\n      <g>\r\n       <use style=\"stroke:#000000;stroke-width:0.8;\" x=\"56.50625\" xlink:href=\"#m307894911a\" y=\"237.178303\"/>\r\n      </g>\r\n     </g>\r\n     <g id=\"text_19\">\r\n      <!-- 0.240 -->\r\n      <g transform=\"translate(20.878125 240.977522)scale(0.1 -0.1)\">\r\n       <use xlink:href=\"#DejaVuSans-48\"/>\r\n       <use x=\"63.623047\" xlink:href=\"#DejaVuSans-46\"/>\r\n       <use x=\"95.410156\" xlink:href=\"#DejaVuSans-50\"/>\r\n       <use x=\"159.033203\" xlink:href=\"#DejaVuSans-52\"/>\r\n       <use x=\"222.65625\" xlink:href=\"#DejaVuSans-48\"/>\r\n      </g>\r\n     </g>\r\n    </g>\r\n    <g id=\"ytick_6\">\r\n     <g id=\"line2d_17\">\r\n      <g>\r\n       <use style=\"stroke:#000000;stroke-width:0.8;\" x=\"56.50625\" xlink:href=\"#m307894911a\" y=\"196.999689\"/>\r\n      </g>\r\n     </g>\r\n     <g id=\"text_20\">\r\n      <!-- 0.245 -->\r\n      <g transform=\"translate(20.878125 200.798908)scale(0.1 -0.1)\">\r\n       <defs>\r\n        <path d=\"M 10.796875 72.90625 \r\nL 49.515625 72.90625 \r\nL 49.515625 64.59375 \r\nL 19.828125 64.59375 \r\nL 19.828125 46.734375 \r\nQ 21.96875 47.46875 24.109375 47.828125 \r\nQ 26.265625 48.1875 28.421875 48.1875 \r\nQ 40.625 48.1875 47.75 41.5 \r\nQ 54.890625 34.8125 54.890625 23.390625 \r\nQ 54.890625 11.625 47.5625 5.09375 \r\nQ 40.234375 -1.421875 26.90625 -1.421875 \r\nQ 22.3125 -1.421875 17.546875 -0.640625 \r\nQ 12.796875 0.140625 7.71875 1.703125 \r\nL 7.71875 11.625 \r\nQ 12.109375 9.234375 16.796875 8.0625 \r\nQ 21.484375 6.890625 26.703125 6.890625 \r\nQ 35.15625 6.890625 40.078125 11.328125 \r\nQ 45.015625 15.765625 45.015625 23.390625 \r\nQ 45.015625 31 40.078125 35.4375 \r\nQ 35.15625 39.890625 26.703125 39.890625 \r\nQ 22.75 39.890625 18.8125 39.015625 \r\nQ 14.890625 38.140625 10.796875 36.28125 \r\nz\r\n\" id=\"DejaVuSans-53\"/>\r\n       </defs>\r\n       <use xlink:href=\"#DejaVuSans-48\"/>\r\n       <use x=\"63.623047\" xlink:href=\"#DejaVuSans-46\"/>\r\n       <use x=\"95.410156\" xlink:href=\"#DejaVuSans-50\"/>\r\n       <use x=\"159.033203\" xlink:href=\"#DejaVuSans-52\"/>\r\n       <use x=\"222.65625\" xlink:href=\"#DejaVuSans-53\"/>\r\n      </g>\r\n     </g>\r\n    </g>\r\n    <g id=\"ytick_7\">\r\n     <g id=\"line2d_18\">\r\n      <g>\r\n       <use style=\"stroke:#000000;stroke-width:0.8;\" x=\"56.50625\" xlink:href=\"#m307894911a\" y=\"156.821075\"/>\r\n      </g>\r\n     </g>\r\n     <g id=\"text_21\">\r\n      <!-- 0.250 -->\r\n      <g transform=\"translate(20.878125 160.620294)scale(0.1 -0.1)\">\r\n       <use xlink:href=\"#DejaVuSans-48\"/>\r\n       <use x=\"63.623047\" xlink:href=\"#DejaVuSans-46\"/>\r\n       <use x=\"95.410156\" xlink:href=\"#DejaVuSans-50\"/>\r\n       <use x=\"159.033203\" xlink:href=\"#DejaVuSans-53\"/>\r\n       <use x=\"222.65625\" xlink:href=\"#DejaVuSans-48\"/>\r\n      </g>\r\n     </g>\r\n    </g>\r\n    <g id=\"text_22\">\r\n     <!-- Cross Entropy Loss -->\r\n     <g transform=\"translate(14.798438 243.542781)rotate(-90)scale(0.1 -0.1)\">\r\n      <defs>\r\n       <path d=\"M 64.40625 67.28125 \r\nL 64.40625 56.890625 \r\nQ 59.421875 61.53125 53.78125 63.8125 \r\nQ 48.140625 66.109375 41.796875 66.109375 \r\nQ 29.296875 66.109375 22.65625 58.46875 \r\nQ 16.015625 50.828125 16.015625 36.375 \r\nQ 16.015625 21.96875 22.65625 14.328125 \r\nQ 29.296875 6.6875 41.796875 6.6875 \r\nQ 48.140625 6.6875 53.78125 8.984375 \r\nQ 59.421875 11.28125 64.40625 15.921875 \r\nL 64.40625 5.609375 \r\nQ 59.234375 2.09375 53.4375 0.328125 \r\nQ 47.65625 -1.421875 41.21875 -1.421875 \r\nQ 24.65625 -1.421875 15.125 8.703125 \r\nQ 5.609375 18.84375 5.609375 36.375 \r\nQ 5.609375 53.953125 15.125 64.078125 \r\nQ 24.65625 74.21875 41.21875 74.21875 \r\nQ 47.75 74.21875 53.53125 72.484375 \r\nQ 59.328125 70.75 64.40625 67.28125 \r\nz\r\n\" id=\"DejaVuSans-67\"/>\r\n       <path d=\"M 44.28125 53.078125 \r\nL 44.28125 44.578125 \r\nQ 40.484375 46.53125 36.375 47.5 \r\nQ 32.28125 48.484375 27.875 48.484375 \r\nQ 21.1875 48.484375 17.84375 46.4375 \r\nQ 14.5 44.390625 14.5 40.28125 \r\nQ 14.5 37.15625 16.890625 35.375 \r\nQ 19.28125 33.59375 26.515625 31.984375 \r\nL 29.59375 31.296875 \r\nQ 39.15625 29.25 43.1875 25.515625 \r\nQ 47.21875 21.78125 47.21875 15.09375 \r\nQ 47.21875 7.46875 41.1875 3.015625 \r\nQ 35.15625 -1.421875 24.609375 -1.421875 \r\nQ 20.21875 -1.421875 15.453125 -0.5625 \r\nQ 10.6875 0.296875 5.421875 2 \r\nL 5.421875 11.28125 \r\nQ 10.40625 8.6875 15.234375 7.390625 \r\nQ 20.0625 6.109375 24.8125 6.109375 \r\nQ 31.15625 6.109375 34.5625 8.28125 \r\nQ 37.984375 10.453125 37.984375 14.40625 \r\nQ 37.984375 18.0625 35.515625 20.015625 \r\nQ 33.0625 21.96875 24.703125 23.78125 \r\nL 21.578125 24.515625 \r\nQ 13.234375 26.265625 9.515625 29.90625 \r\nQ 5.8125 33.546875 5.8125 39.890625 \r\nQ 5.8125 47.609375 11.28125 51.796875 \r\nQ 16.75 56 26.8125 56 \r\nQ 31.78125 56 36.171875 55.265625 \r\nQ 40.578125 54.546875 44.28125 53.078125 \r\nz\r\n\" id=\"DejaVuSans-115\"/>\r\n       <path d=\"M 54.890625 33.015625 \r\nL 54.890625 0 \r\nL 45.90625 0 \r\nL 45.90625 32.71875 \r\nQ 45.90625 40.484375 42.875 44.328125 \r\nQ 39.84375 48.1875 33.796875 48.1875 \r\nQ 26.515625 48.1875 22.3125 43.546875 \r\nQ 18.109375 38.921875 18.109375 30.90625 \r\nL 18.109375 0 \r\nL 9.078125 0 \r\nL 9.078125 54.6875 \r\nL 18.109375 54.6875 \r\nL 18.109375 46.1875 \r\nQ 21.34375 51.125 25.703125 53.5625 \r\nQ 30.078125 56 35.796875 56 \r\nQ 45.21875 56 50.046875 50.171875 \r\nQ 54.890625 44.34375 54.890625 33.015625 \r\nz\r\n\" id=\"DejaVuSans-110\"/>\r\n       <path d=\"M 18.3125 70.21875 \r\nL 18.3125 54.6875 \r\nL 36.8125 54.6875 \r\nL 36.8125 47.703125 \r\nL 18.3125 47.703125 \r\nL 18.3125 18.015625 \r\nQ 18.3125 11.328125 20.140625 9.421875 \r\nQ 21.96875 7.515625 27.59375 7.515625 \r\nL 36.8125 7.515625 \r\nL 36.8125 0 \r\nL 27.59375 0 \r\nQ 17.1875 0 13.234375 3.875 \r\nQ 9.28125 7.765625 9.28125 18.015625 \r\nL 9.28125 47.703125 \r\nL 2.6875 47.703125 \r\nL 2.6875 54.6875 \r\nL 9.28125 54.6875 \r\nL 9.28125 70.21875 \r\nz\r\n\" id=\"DejaVuSans-116\"/>\r\n       <path d=\"M 9.8125 72.90625 \r\nL 19.671875 72.90625 \r\nL 19.671875 8.296875 \r\nL 55.171875 8.296875 \r\nL 55.171875 0 \r\nL 9.8125 0 \r\nz\r\n\" id=\"DejaVuSans-76\"/>\r\n      </defs>\r\n      <use xlink:href=\"#DejaVuSans-67\"/>\r\n      <use x=\"69.824219\" xlink:href=\"#DejaVuSans-114\"/>\r\n      <use x=\"108.6875\" xlink:href=\"#DejaVuSans-111\"/>\r\n      <use x=\"169.869141\" xlink:href=\"#DejaVuSans-115\"/>\r\n      <use x=\"221.96875\" xlink:href=\"#DejaVuSans-115\"/>\r\n      <use x=\"274.068359\" xlink:href=\"#DejaVuSans-32\"/>\r\n      <use x=\"305.855469\" xlink:href=\"#DejaVuSans-69\"/>\r\n      <use x=\"369.039062\" xlink:href=\"#DejaVuSans-110\"/>\r\n      <use x=\"432.417969\" xlink:href=\"#DejaVuSans-116\"/>\r\n      <use x=\"471.626953\" xlink:href=\"#DejaVuSans-114\"/>\r\n      <use x=\"510.490234\" xlink:href=\"#DejaVuSans-111\"/>\r\n      <use x=\"571.671875\" xlink:href=\"#DejaVuSans-112\"/>\r\n      <use x=\"635.148438\" xlink:href=\"#DejaVuSans-121\"/>\r\n      <use x=\"694.328125\" xlink:href=\"#DejaVuSans-32\"/>\r\n      <use x=\"726.115234\" xlink:href=\"#DejaVuSans-76\"/>\r\n      <use x=\"780.078125\" xlink:href=\"#DejaVuSans-111\"/>\r\n      <use x=\"841.259766\" xlink:href=\"#DejaVuSans-115\"/>\r\n      <use x=\"893.359375\" xlink:href=\"#DejaVuSans-115\"/>\r\n     </g>\r\n    </g>\r\n   </g>\r\n   <g id=\"line2d_19\">\r\n    <path clip-path=\"url(#p742dd2e530)\" d=\"M 71.724432 156.73558 \r\nL 105.542614 176.975502 \r\nL 139.360795 185.324964 \r\nL 173.178977 199.220139 \r\nL 206.997159 205.301935 \r\nL 240.815341 214.977774 \r\nL 274.633523 218.113807 \r\nL 308.451705 229.47501 \r\nL 342.269886 233.522755 \r\nL 376.088068 235.80467 \r\n\" style=\"fill:none;stroke:#008000;stroke-linecap:square;stroke-width:1.5;\"/>\r\n   </g>\r\n   <g id=\"patch_8\">\r\n    <path d=\"M 56.50625 239.758125 \r\nL 56.50625 152.782125 \r\n\" style=\"fill:none;stroke:#000000;stroke-linecap:square;stroke-linejoin:miter;stroke-width:0.8;\"/>\r\n   </g>\r\n   <g id=\"patch_9\">\r\n    <path d=\"M 391.30625 239.758125 \r\nL 391.30625 152.782125 \r\n\" style=\"fill:none;stroke:#000000;stroke-linecap:square;stroke-linejoin:miter;stroke-width:0.8;\"/>\r\n   </g>\r\n   <g id=\"patch_10\">\r\n    <path d=\"M 56.50625 239.758125 \r\nL 391.30625 239.758125 \r\n\" style=\"fill:none;stroke:#000000;stroke-linecap:square;stroke-linejoin:miter;stroke-width:0.8;\"/>\r\n   </g>\r\n   <g id=\"patch_11\">\r\n    <path d=\"M 56.50625 152.782125 \r\nL 391.30625 152.782125 \r\n\" style=\"fill:none;stroke:#000000;stroke-linecap:square;stroke-linejoin:miter;stroke-width:0.8;\"/>\r\n   </g>\r\n   <g id=\"text_23\">\r\n    <!-- Model Loss -->\r\n    <g transform=\"translate(190.822812 146.782125)scale(0.12 -0.12)\">\r\n     <use xlink:href=\"#DejaVuSans-77\"/>\r\n     <use x=\"86.279297\" xlink:href=\"#DejaVuSans-111\"/>\r\n     <use x=\"147.460938\" xlink:href=\"#DejaVuSans-100\"/>\r\n     <use x=\"210.9375\" xlink:href=\"#DejaVuSans-101\"/>\r\n     <use x=\"272.460938\" xlink:href=\"#DejaVuSans-108\"/>\r\n     <use x=\"300.244141\" xlink:href=\"#DejaVuSans-32\"/>\r\n     <use x=\"332.03125\" xlink:href=\"#DejaVuSans-76\"/>\r\n     <use x=\"385.994141\" xlink:href=\"#DejaVuSans-111\"/>\r\n     <use x=\"447.175781\" xlink:href=\"#DejaVuSans-115\"/>\r\n     <use x=\"499.275391\" xlink:href=\"#DejaVuSans-115\"/>\r\n    </g>\r\n   </g>\r\n  </g>\r\n </g>\r\n <defs>\r\n  <clipPath id=\"pa3eee05e44\">\r\n   <rect height=\"86.976\" width=\"334.8\" x=\"56.50625\" y=\"22.318125\"/>\r\n  </clipPath>\r\n  <clipPath id=\"p742dd2e530\">\r\n   <rect height=\"86.976\" width=\"334.8\" x=\"56.50625\" y=\"152.782125\"/>\r\n  </clipPath>\r\n </defs>\r\n</svg>\r\n",
            "image/png": "[encoded data removed]"
          },
          "metadata": {
            "needs_background": "light"
          }
        }
      ]
    },
    {
      "cell_type": "markdown",
      "metadata": {
        "id": "1xMgl2FYaSA9"
      },
      "source": [
        "## Evaluating Model\n",
        "\n",
        "Finally, we check the metrics of our model on the test data by using the method `.evaluate()`:"
      ]
    },
    {
      "cell_type": "code",
      "metadata": {
        "id": "Dac7-bRJab05",
        "colab": {
          "base_uri": "https://localhost:8080/"
        },
        "outputId": "e5c15cd9-aeb5-471d-d7df-ace11afc7369"
      },
      "source": [
        "score = model.evaluate(X_test_flatten, Y_test_class, verbose=0)\n",
        "print('Test loss:', score[0])\n",
        "print('Test accuracy:', score[1])"
      ],
      "execution_count": 40,
      "outputs": [
        {
          "output_type": "stream",
          "name": "stdout",
          "text": [
            "Test loss: 0.26827144622802734\nTest accuracy: 0.9262999892234802\n"
          ]
        }
      ]
    },
    {
      "cell_type": "markdown",
      "metadata": {
        "id": "Jzdmn3rCgo8l"
      },
      "source": [
        "# Training a Simple Multi-layer Perceptron\n",
        "\n",
        "Earlier, we showed how to create a simple network that maps directly from $784$ (input size) to $10$ (output size). In the following sections, we explain the basics of creating more complex models, models that combine different sequential layers to perform more accurate classifications. \n",
        "\n",
        "Hence, we start by defining a network with an extra layer and study how that affects the final test accuracy."
      ]
    },
    {
      "cell_type": "code",
      "metadata": {
        "id": "WRRqajaThGgf",
        "colab": {
          "base_uri": "https://localhost:8080/"
        },
        "outputId": "72079fbd-17f7-4ec0-97f9-985bcbfff914"
      },
      "source": [
        "model2 = Sequential()\n",
        "model2.add(Dense(100, activation='relu', input_shape=(784,)))\n",
        "model2.add(Dense(10, activation='softmax'))\n",
        "\n",
        "model2.summary()"
      ],
      "execution_count": 42,
      "outputs": [
        {
          "output_type": "stream",
          "name": "stdout",
          "text": [
            "Model: \"sequential_5\"\n_________________________________________________________________\nLayer (type)                 Output Shape              Param #   \n=================================================================\ndense_6 (Dense)              (None, 100)               78500     \n_________________________________________________________________\ndense_7 (Dense)              (None, 10)                1010      \n=================================================================\nTotal params: 79,510\nTrainable params: 79,510\nNon-trainable params: 0\n_________________________________________________________________\n"
          ]
        }
      ]
    },
    {
      "cell_type": "markdown",
      "metadata": {
        "id": "RK4s-S-ihT2v"
      },
      "source": [
        "We have increased the number of parameters from 7850 to 79510 by adding this layer. Remember that the number of units given to the last layer in Keras defines the dimensionality of the output space, thus, we need the last layer to have the same size that the total number of classes to classify. \n",
        "\n",
        "Note that we use ReLU (Rectified Linear Unit) activation function after the first dense layer. ReLU is a common activation function, we will give more details about it in future tutorials. However, for now, you can learn more about ReLU [here](https://keras.io/activations/#relu).\n",
        "\n",
        "We train our new model and visualise the model curves:"
      ]
    },
    {
      "cell_type": "code",
      "metadata": {
        "id": "Ni6ov50rkltw",
        "colab": {
          "base_uri": "https://localhost:8080/",
          "height": 652
        },
        "outputId": "1111e277-c133-44d0-d232-363bbf1bfbf6"
      },
      "source": [
        "model2.compile(loss='categorical_crossentropy',\n",
        "              optimizer='adam',\n",
        "              metrics=['accuracy'])\n",
        "\n",
        "history2 = model2.fit(X_train_flatten, Y_train_class, batch_size=32, epochs=10)\n",
        "\n",
        "fig, axes = plt.subplots(2,1)\n",
        "axes[0].plot(history2.history['accuracy'])\n",
        "axes[0].set_title('Model Accuracy')\n",
        "axes[0].set_ylabel('Accuracy')\n",
        "axes[0].set_xlabel('Epoch')\n",
        "\n",
        "fig.subplots_adjust(hspace=0.5)\n",
        "\n",
        "axes[1].plot(history2.history['loss'], 'g')\n",
        "axes[1].set_title('Model Loss')\n",
        "axes[1].set_ylabel('Cross Entropy Loss')\n",
        "axes[1].set_xlabel('Epoch')"
      ],
      "execution_count": null,
      "outputs": []
    },
    {
      "cell_type": "markdown",
      "metadata": {
        "id": "LDcMSVr_l6C3"
      },
      "source": [
        "We have now trained two different models. Let's plot their metrics to see how that extra layer affected the results in the network performance."
      ]
    },
    {
      "cell_type": "code",
      "metadata": {
        "id": "cnk6_wuemCXO",
        "colab": {
          "base_uri": "https://localhost:8080/"
        },
        "outputId": "509589b5-3153-454c-ad0c-3b3e67ed7e64"
      },
      "source": [
        "print('Old model:')\n",
        "print('Test loss:', score[0])\n",
        "print('Test accuracy:', score[1])\n",
        "\n",
        "print('New model:')\n",
        "score2 = model2.evaluate(X_test_flatten, Y_test_class, verbose=0)\n",
        "print('Test loss:', score2[0])\n",
        "print('Test accuracy:', score2[1])"
      ],
      "execution_count": 58,
      "outputs": [
        {
          "output_type": "stream",
          "name": "stdout",
          "text": [
            "Old model:\n",
            "Test loss: 0.2713666558265686\n",
            "Test accuracy: 0.9235000014305115\n",
            "New model:\n",
            "Test loss: 0.08704259991645813\n",
            "Test accuracy: 0.9761999845504761\n"
          ]
        }
      ]
    },
    {
      "cell_type": "markdown",
      "metadata": {
        "id": "a-DHj7P7n1Eh"
      },
      "source": [
        "We have improved accuracy results on the test set. Even though there is still margin for parameter tuning, the reached accuracy is already pretty high. We could add more layers or change the number of neurons in each layer to see if we could boost even further the results.\n",
        "\n",
        "Let's now explore some techniques that will prove useful in the following tutorials."
      ]
    },
    {
      "cell_type": "markdown",
      "metadata": {
        "id": "9XyUx6ThaT47"
      },
      "source": [
        "## Saving/Loading Model\n",
        "\n",
        "Some networks require long training times (hours, days or even weeks), hence, it is essential to know how to save the models for using them in future times without the need of retraining them every time. \n",
        "\n",
        "We can save and load the trained model in different ways.\n",
        "\n",
        "The first way is to save everything into a single HDF5 file, which will contain:\n",
        "\n",
        "*   the architecture of the model, allowing to re-create the model\n",
        "*   the weights of the model\n",
        "*   the training configuration (loss, optimiser)\n",
        "*   the state of the optimiser, which permits us to resume training exactly where you left it off.\n"
      ]
    },
    {
      "cell_type": "code",
      "metadata": {
        "id": "0KJp2Pj2aTOc"
      },
      "source": [
        "from keras.models import load_model\n",
        "\n",
        "model.save('my_model.h5')  # creates a HDF5 file 'my_model.h5'\n",
        "del model  # deletes the existing model\n",
        "\n",
        "# Load a compiled model identical to the previous one\n",
        "model = load_model('my_model.h5') "
      ],
      "execution_count": 59,
      "outputs": []
    },
    {
      "cell_type": "markdown",
      "metadata": {
        "id": "vD5h5qsUblji"
      },
      "source": [
        "An alternative method is to save the architecture and the weights independently.\n",
        "\n",
        "\n"
      ]
    },
    {
      "cell_type": "code",
      "metadata": {
        "id": "dJXTYfTDcaWs"
      },
      "source": [
        "model.save_weights('my_model_weights.h5') # creates a HDF5 file 'my_model_weights.h5'\n",
        "\n",
        "with open('my_model_architecture.json', 'w') as f:\n",
        "    f.write(model.to_json()) # creates a json file 'my_model_architecture.json'"
      ],
      "execution_count": 60,
      "outputs": []
    },
    {
      "cell_type": "markdown",
      "metadata": {
        "id": "wPgCrD4Leony"
      },
      "source": [
        "If we want to load the model, without having to define it, we can use the `model_from_json()`."
      ]
    },
    {
      "cell_type": "code",
      "metadata": {
        "id": "gXr0L8nqeipI"
      },
      "source": [
        "from keras.models import model_from_json\n",
        "\n",
        "# Model reconstruction from JSON file\n",
        "with open('my_model_architecture.json', 'r') as f:\n",
        "    model = model_from_json(f.read())"
      ],
      "execution_count": 61,
      "outputs": []
    },
    {
      "cell_type": "markdown",
      "metadata": {
        "id": "NzmL07T_dh7Z"
      },
      "source": [
        "Once we have a model defined, we can load the weights with the method `load_weights(file_path)`."
      ]
    },
    {
      "cell_type": "code",
      "metadata": {
        "id": "yBahatkweEZx"
      },
      "source": [
        "model.load_weights('my_model_weights.h5')"
      ],
      "execution_count": 62,
      "outputs": []
    },
    {
      "cell_type": "markdown",
      "metadata": {
        "id": "nwXWMk1vdm48"
      },
      "source": [
        "Imagine that we create a slightly different version of the model. For instance, we design a standard classification network, but we modify the last layer, so it can now classify among more classes. Let's suppose that we have trained previously a model that shares the same architecture but with different output size. We can use the pre-trained network and load only the shared parts into our new model (all layers but the last one) by using the layer names. Keep in mind that loading weights by name can be done since you will face this situation when dealing with fine-tuning or transfer-learning problems."
      ]
    },
    {
      "cell_type": "code",
      "metadata": {
        "id": "KAGF3VbPdroU"
      },
      "source": [
        "model.load_weights('my_model_weights.h5', by_name=True)"
      ],
      "execution_count": 63,
      "outputs": []
    },
    {
      "cell_type": "markdown",
      "metadata": {
        "id": "UWyW0AMhGMDc"
      },
      "source": [
        "Additionally, you can refer to [Keras' documentation](https://keras.io/getting_started/faq/#how-can-i-regularly-save-keras-models-during-training) and check how to create a callback which saves our model every 100 steps."
      ]
    },
    {
      "cell_type": "markdown",
      "metadata": {
        "id": "mX2BJRnjIxmN"
      },
      "source": [
        "### Download Models / Save to Google Drive\n",
        "One of the problems you may face is that the models, or any other file, saved in Colab will not be there permanently. In some cases, you will want to store your model weights in a more lasting way. There are two ways to save your model. First, you can download any file to your computer. To do so, you can use the left-side menu in Colab, and follow the instructions on the image below.\n",
        "\n",
        "![Screenshot](https://i.ibb.co/yS5JgPd/Screenshot-2021-01-18-at-15-46-04.png)\n",
        "\n",
        "If you want to use any file you previously downloaded, you will need to manually upload your file using the Colab interface.\n",
        "\n"
      ]
    },
    {
      "cell_type": "markdown",
      "metadata": {
        "id": "Ez688r6XKFrn"
      },
      "source": [
        "Another way to save your weights is by using your Google Drive storage. This can be more convenient, as you can quickly load the models again from your Drive without having to upload manually the file. To do so, you can click on the folder with the Drive symbol highlighted in the following image.\n",
        "\n",
        "![Screenshot](https://i.ibb.co/PFGw6QR/Screenshot-2021-01-18-at-16-16-44.png)"
      ]
    },
    {
      "cell_type": "markdown",
      "metadata": {
        "id": "xZ_A8BuHL1pi"
      },
      "source": [
        "After clicking on the Drive folder, the code below will appear in your Colab notebook. You need to run it and follow the instructions to have access to your Google Drive folder."
      ]
    },
    {
      "cell_type": "code",
      "metadata": {
        "id": "I-tn782jL7lM",
        "colab": {
          "base_uri": "https://localhost:8080/"
        },
        "outputId": "e3dd6b3c-5cb0-412d-868a-795f9c1f940e"
      },
      "source": [
        "# from google.colab import drive\n",
        "# drive.mount('/content/drive')"
      ],
      "execution_count": 64,
      "outputs": []
    },
    {
      "cell_type": "markdown",
      "metadata": {
        "id": "zLZ7pcurNgkK"
      },
      "source": [
        "After the `drive` folder is mounted, you will see a new folder on your files section in Colab as in the following image.\n",
        "\n",
        "![Screenshot](https://i.ibb.co/NSM1RFK/Screenshot-2021-01-18-at-16-17-48.png)\n",
        "\n",
        "Now, you can save the model to your personal Google Drive and also load any model from it."
      ]
    },
    {
      "cell_type": "code",
      "metadata": {
        "id": "C-0qOFZpNMmP"
      },
      "source": [
        "# model.save_weights('/content/drive/MyDrive/my_model_weights.h5')\n",
        "# model.load_weights('/content/drive/MyDrive/my_model_weights.h5')\n",
        "model.save_weights('my_model_weights.h5')\n",
        "model.load_weights('my_model_weights.h5')"
      ],
      "execution_count": 67,
      "outputs": []
    },
    {
      "cell_type": "markdown",
      "metadata": {
        "id": "nJVamZKmPDJU"
      },
      "source": [
        "Using your Google Drive storage is quite convenient. However, keep in mind that any file saved in your drive will also count towards your Google Drive storage limit."
      ]
    },
    {
      "cell_type": "markdown",
      "metadata": {
        "id": "-6v_S7oxfUQC"
      },
      "source": [
        "## Obtaining an Output of an Intermediate Layer\n",
        "\n",
        "Sometimes we need to check how features of intermediate layers look like. This can be used for extracting features, but also for debugging purposes. That is why we need to see how we can obtain information about any layer within the architecture.\n",
        "\n",
        "The easiest way is to design a new model that will have as final output our desired layer. We first define the model:"
      ]
    },
    {
      "cell_type": "code",
      "metadata": {
        "id": "dZa6sDFLgXoC",
        "colab": {
          "base_uri": "https://localhost:8080/"
        },
        "outputId": "bce53eab-6014-404b-e7fd-28a6da295503"
      },
      "source": [
        "model = Sequential()\n",
        "model.add(Dense(64, activation='relu', input_shape=(784,), name='first_dense'))\n",
        "model.add(Dense(128, activation='relu', name='second_dense'))\n",
        "model.add(Dense(10, activation='softmax', name='final_dense'))\n",
        "\n",
        "model.summary()"
      ],
      "execution_count": 68,
      "outputs": [
        {
          "output_type": "stream",
          "name": "stdout",
          "text": [
            "Model: \"sequential_9\"\n_________________________________________________________________\nLayer (type)                 Output Shape              Param #   \n=================================================================\nfirst_dense (Dense)          (None, 64)                50240     \n_________________________________________________________________\nsecond_dense (Dense)         (None, 128)               8320      \n_________________________________________________________________\nfinal_dense (Dense)          (None, 10)                1290      \n=================================================================\nTotal params: 59,850\nTrainable params: 59,850\nNon-trainable params: 0\n_________________________________________________________________\n"
          ]
        }
      ]
    },
    {
      "cell_type": "markdown",
      "metadata": {
        "id": "hoXvhyLzhKU2"
      },
      "source": [
        "Now, we specify the name of the layer in which we are interested in obtaining the output. In our example, it is the second dense layer (\"second_dense\")."
      ]
    },
    {
      "cell_type": "code",
      "metadata": {
        "id": "8Zu29bschSps",
        "colab": {
          "base_uri": "https://localhost:8080/"
        },
        "outputId": "01e2bfcf-69cc-42c8-c60e-7d242c0751cc"
      },
      "source": [
        "from keras.models import Model\n",
        "\n",
        "layer_name = 'second_dense'\n",
        "intermediate_layer_model = Model(inputs=model.input,\n",
        "                                 outputs=model.get_layer(layer_name).output)\n",
        "intermediate_output = intermediate_layer_model.predict(X_test_flatten)\n",
        "final_output = model.predict(X_test_flatten)\n",
        "\n",
        "print('Second dense layer output shape: {0}'.format(intermediate_output.shape))\n",
        "print('Final output shape: {0}'.format(final_output.shape))"
      ],
      "execution_count": 69,
      "outputs": [
        {
          "output_type": "stream",
          "name": "stdout",
          "text": [
            "Second dense layer output shape: (10000, 128)\nFinal output shape: (10000, 10)\n"
          ]
        }
      ]
    },
    {
      "cell_type": "markdown",
      "metadata": {
        "id": "HFo0jHRqiJv2"
      },
      "source": [
        "Alternatively, we could also build a Keras function that returns the output of a specific layer:"
      ]
    },
    {
      "cell_type": "code",
      "metadata": {
        "id": "msvYp1c9iNEX",
        "colab": {
          "base_uri": "https://localhost:8080/"
        },
        "outputId": "d8b7cb25-0c5f-4194-8e8c-ccaba33644f0"
      },
      "source": [
        "from keras import backend as K\n",
        "\n",
        "get_second_dense_layer_output = K.function([model.layers[0].input],\n",
        "                                  [model.layers[2].output])\n",
        "\n",
        "intermediate_output = get_second_dense_layer_output([X_test_flatten])[0]\n",
        "final_output = model.predict(X_test_flatten)\n",
        "\n",
        "print('Second dense layer output shape: {0}'.format(intermediate_output.shape))\n",
        "print('Final output shape: {0}'.format(final_output.shape))"
      ],
      "execution_count": 70,
      "outputs": [
        {
          "output_type": "stream",
          "name": "stdout",
          "text": [
            "Second dense layer output shape: (10000, 10)\nFinal output shape: (10000, 10)\n"
          ]
        }
      ]
    },
    {
      "cell_type": "markdown",
      "metadata": {
        "id": "iV22i-GFj5np"
      },
      "source": [
        "## A bit more about Callback Functions\n",
        "\n",
        "We have already talked a bit about callback functions and how to use them. You can check the complete list of available callbacks [in the documentation](https://keras.io/callbacks/).\n",
        "\n",
        "Controlling and managing callbacks is essential when training big models. Sometimes we want to train the network until convergence. However, we are not able to determine the number of epochs it will take. Keras provides a handy method for controlling the training loops, the `EarlyStopping` callback. This callback checks when the network is not \"learning\" anymore and allows us to stop the training at any time. \n",
        "\n",
        "Let's see an example of how to stop the training when the validation loss is not decreasing anymore:"
      ]
    },
    {
      "cell_type": "code",
      "metadata": {
        "id": "GNShEzC-kdKN",
        "colab": {
          "base_uri": "https://localhost:8080/"
        },
        "outputId": "c8a0a92e-c754-4447-e0ef-d6b15d299b25"
      },
      "source": [
        "from keras.callbacks import EarlyStopping\n",
        "\n",
        "# Define the metric that will determine the earlyStopping.\n",
        "# 'patience' defines the number of epochs we wait before stopping training \n",
        "# when the monitored metric does not improve\n",
        "early_stopping = EarlyStopping(monitor='val_loss', patience=2)\n",
        "\n",
        "model.compile(loss='categorical_crossentropy',\n",
        "              optimizer='adam',\n",
        "              metrics=['accuracy'])\n",
        "\n",
        "model.fit(X_train_flatten, Y_train_class, validation_split=0.2, \n",
        "            epochs=100, batch_size=32, callbacks=[early_stopping])"
      ],
      "execution_count": 71,
      "outputs": [
        {
          "output_type": "stream",
          "name": "stdout",
          "text": [
            "Epoch 1/100\n",
            "1500/1500 [==============================] - 1s 737us/step - loss: 0.5101 - accuracy: 0.8529 - val_loss: 0.1490 - val_accuracy: 0.9576\n",
            "Epoch 2/100\n",
            "1500/1500 [==============================] - 1s 655us/step - loss: 0.1348 - accuracy: 0.9597 - val_loss: 0.1260 - val_accuracy: 0.9626\n",
            "Epoch 3/100\n",
            "1500/1500 [==============================] - 1s 638us/step - loss: 0.0899 - accuracy: 0.9720 - val_loss: 0.1188 - val_accuracy: 0.9648\n",
            "Epoch 4/100\n",
            "1500/1500 [==============================] - 1s 638us/step - loss: 0.0691 - accuracy: 0.9782 - val_loss: 0.1097 - val_accuracy: 0.9679\n",
            "Epoch 5/100\n",
            "1500/1500 [==============================] - 1s 645us/step - loss: 0.0550 - accuracy: 0.9835 - val_loss: 0.1045 - val_accuracy: 0.9697\n",
            "Epoch 6/100\n",
            "1500/1500 [==============================] - 1s 643us/step - loss: 0.0433 - accuracy: 0.9867 - val_loss: 0.1047 - val_accuracy: 0.9697\n",
            "Epoch 7/100\n",
            "1500/1500 [==============================] - 1s 639us/step - loss: 0.0348 - accuracy: 0.9891 - val_loss: 0.1019 - val_accuracy: 0.9716\n",
            "Epoch 8/100\n",
            "1500/1500 [==============================] - 1s 645us/step - loss: 0.0311 - accuracy: 0.9901 - val_loss: 0.1093 - val_accuracy: 0.9729\n",
            "Epoch 9/100\n",
            "1500/1500 [==============================] - 1s 647us/step - loss: 0.0248 - accuracy: 0.9923 - val_loss: 0.1114 - val_accuracy: 0.9731\n"
          ]
        },
        {
          "output_type": "execute_result",
          "data": {
            "text/plain": [
              "<tensorflow.python.keras.callbacks.History at 0x23da9fb50a0>"
            ]
          },
          "metadata": {},
          "execution_count": 71
        }
      ]
    },
    {
      "cell_type": "markdown",
      "metadata": {
        "id": "meMroifllkIN"
      },
      "source": [
        "The model stops training without reaching the 100 epochs. How convenient, right?\n",
        "\n",
        "We could also combine multiple callbacks when calling the fit module, learn more about it [here](https://keras.io/callbacks/)."
      ]
    },
    {
      "cell_type": "markdown",
      "metadata": {
        "id": "3w4AVBmLCDJe"
      },
      "source": [
        "## Freezing Keras Layers\n",
        "\n",
        "Keras also allows us to freeze some of the weights of specific layers. Freezing layers means that we can exclude them from training. A typical example where this proved useful is when fine-tuning a model. Remember that when fine-tuning a model, some layers are fixed, and normally only the last ones are trained to finetune the task-specific layers (e.g. classifiers) to the new task.\n",
        "\n",
        "To freeze layers we can set the trainable argument (Boolean) of the layer to be non-trainable or trainable:"
      ]
    },
    {
      "cell_type": "code",
      "metadata": {
        "id": "Q6x8F5hZDLWH"
      },
      "source": [
        "frozen_layer = Dense(32, trainable=False)"
      ],
      "execution_count": 72,
      "outputs": []
    },
    {
      "cell_type": "markdown",
      "metadata": {
        "id": "3s-5Bm8ODNe0"
      },
      "source": [
        "Additionally, we can access the layer arguments after initialisation. Therefore, we can set the trainable argument to `True` or `False` at any time. However, for this to take effect, we must call the `compile()` method after modifying any properties of the model:"
      ]
    },
    {
      "cell_type": "code",
      "metadata": {
        "id": "MTnjPeE7DjEs",
        "colab": {
          "base_uri": "https://localhost:8080/"
        },
        "outputId": "78631a81-a3bc-4e7a-bc7b-f8fda7abed45"
      },
      "source": [
        "from keras.models import clone_model\n",
        " \n",
        "model = Sequential()\n",
        "model.add(Dense(10, activation='softmax', input_shape=(784,)))\n",
        "\n",
        "# We clone model in frozen_model\n",
        "frozen_model = clone_model(model)\n",
        "frozen_model.layers[0].trainable = False\n",
        "\n",
        "# with this model the weights of the layer will be updated during training\n",
        "model.compile(loss='categorical_crossentropy',\n",
        "              optimizer='adam',\n",
        "              metrics=['accuracy'])\n",
        "\n",
        "# in the model below, the weights of `layer` will not be updated during training\n",
        "frozen_model.compile(loss='categorical_crossentropy',\n",
        "              optimizer='adam',\n",
        "              metrics=['accuracy'])\n",
        "\n",
        "model.summary()\n",
        "frozen_model.summary()\n",
        "\n",
        "score_untrained = model.evaluate(X_test_flatten, Y_test_class, verbose=0)\n",
        "score_frozen_untrained = frozen_model.evaluate(X_test_flatten, Y_test_class, verbose=0)\n",
        "\n",
        "print('\\nTrain Model:')\n",
        "model.fit(X_train_flatten, Y_train_class, batch_size=32, epochs=5)\n",
        "\n",
        "print('\\nTrain Frozen Model:')\n",
        "frozen_model.fit(X_train_flatten, Y_train_class, batch_size=32, epochs=5)\n",
        "\n",
        "score = model.evaluate(X_test_flatten, Y_test_class, verbose=0)\n",
        "score_frozen = frozen_model.evaluate(X_test_flatten, Y_test_class, verbose=0)\n",
        "\n",
        "print('\\nBefore Training: Trainable Model Test Accuracy:', score_untrained[1])\n",
        "print('After Training:  Trainable Model Test Accuracy:', score[1]) \n",
        "\n",
        "print('\\nBefore Training: Frozen Model Test Accuracy:', score_frozen_untrained[1])\n",
        "print('After Training:  Frozen Model Test Accuracy:', score_frozen[1])"
      ],
      "execution_count": 73,
      "outputs": [
        {
          "output_type": "stream",
          "name": "stdout",
          "text": [
            "Model: \"sequential_10\"\n",
            "_________________________________________________________________\n",
            "Layer (type)                 Output Shape              Param #   \n",
            "=================================================================\n",
            "dense_11 (Dense)             (None, 10)                7850      \n",
            "=================================================================\n",
            "Total params: 7,850\n",
            "Trainable params: 7,850\n",
            "Non-trainable params: 0\n",
            "_________________________________________________________________\n",
            "Model: \"sequential_10\"\n",
            "_________________________________________________________________\n",
            "Layer (type)                 Output Shape              Param #   \n",
            "=================================================================\n",
            "dense_11 (Dense)             (None, 10)                7850      \n",
            "=================================================================\n",
            "Total params: 7,850\n",
            "Trainable params: 0\n",
            "Non-trainable params: 7,850\n",
            "_________________________________________________________________\n",
            "\n",
            "Train Model:\n",
            "Epoch 1/5\n",
            "1875/1875 [==============================] - 1s 452us/step - loss: 0.4712 - accuracy: 0.8765\n",
            "Epoch 2/5\n",
            "1875/1875 [==============================] - 1s 444us/step - loss: 0.3040 - accuracy: 0.9143\n",
            "Epoch 3/5\n",
            "1875/1875 [==============================] - 1s 430us/step - loss: 0.2836 - accuracy: 0.9201\n",
            "Epoch 4/5\n",
            "1875/1875 [==============================] - 1s 418us/step - loss: 0.2729 - accuracy: 0.9233\n",
            "Epoch 5/5\n",
            "1875/1875 [==============================] - 1s 420us/step - loss: 0.2667 - accuracy: 0.9261\n",
            "\n",
            "Train Frozen Model:\n",
            "Epoch 1/5\n",
            "1875/1875 [==============================] - 1s 339us/step - loss: 2.3854 - accuracy: 0.1161\n",
            "Epoch 2/5\n",
            "1875/1875 [==============================] - 1s 363us/step - loss: 2.3854 - accuracy: 0.1161\n",
            "Epoch 3/5\n",
            "1875/1875 [==============================] - 1s 342us/step - loss: 2.3854 - accuracy: 0.1161\n",
            "Epoch 4/5\n",
            "1875/1875 [==============================] - 1s 334us/step - loss: 2.3854 - accuracy: 0.1161\n",
            "Epoch 5/5\n",
            "1875/1875 [==============================] - 1s 328us/step - loss: 2.3854 - accuracy: 0.1161\n",
            "\n",
            "Before Training: Trainable Model Test Accuracy: 0.07909999787807465\n",
            "After Training:  Trainable Model Test Accuracy: 0.9240999817848206\n",
            "\n",
            "Before Training: Frozen Model Test Accuracy: 0.11919999867677689\n",
            "After Training:  Frozen Model Test Accuracy: 0.11919999867677689\n"
          ]
        }
      ]
    },
    {
      "cell_type": "markdown",
      "metadata": {
        "id": "mLmeoTdqhmhX"
      },
      "source": [
        "We see in the model description that the frozen model has 0 trainable parameters, while it has 7,850 non-trainable parameters. This fact indicates that we successfully froze that model and the training does not affect it. We can verify this using the results after training both networks, where the trainable model improves accuracy while the frozen one does not change at all."
      ]
    }
  ]
}